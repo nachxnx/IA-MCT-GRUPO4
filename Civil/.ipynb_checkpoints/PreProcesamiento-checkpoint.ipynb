{
 "cells": [
  {
   "cell_type": "code",
   "execution_count": 474,
   "metadata": {
    "id": "_6-vmhdvjq5v"
   },
   "outputs": [],
   "source": [
    "import numpy as np\n",
    "import pandas as pd\n",
    "import matplotlib.pyplot as plt"
   ]
  },
  {
   "cell_type": "code",
   "execution_count": 655,
   "metadata": {},
   "outputs": [],
   "source": [
    "#leemos el .csv y guardamos en una variable  index_col=\"id_anony\"\n",
    "Lectura=pd.read_csv(\"datosConcatenadossinCI.csv\")"
   ]
  },
  {
   "cell_type": "code",
   "execution_count": 656,
   "metadata": {},
   "outputs": [],
   "source": [
    "#Visualizamos el contenido\n",
    "#Lectura.head()"
   ]
  },
  {
   "cell_type": "code",
   "execution_count": 657,
   "metadata": {},
   "outputs": [],
   "source": [
    "#Visualizamos que tamaño tienen los datos\n",
    "#print('Tamaño de los datos: ',Lectura.shape)"
   ]
  },
  {
   "cell_type": "code",
   "execution_count": 658,
   "metadata": {},
   "outputs": [],
   "source": [
    "#Hay valores nulos en los datos?\n",
    "#Lectura.info()"
   ]
  },
  {
   "cell_type": "code",
   "execution_count": 659,
   "metadata": {},
   "outputs": [
    {
     "data": {
      "text/plain": [
       "array(['CGF-175-09', 'CGF-PLS09 ', 'CGF-PLS13 ', 'CIV-175-09',\n",
       "       'CIV-PLS09 ', 'CIV-PLS13 ', 'ECA-175-09', 'ECA-PLS09 ',\n",
       "       'ECA-PLS13 ', 'ECA9-OPT  ', 'ELE-175-09', 'ELE-PLS09 ',\n",
       "       'ELE-PLS13 ', 'IND-175-09', 'IND-PLS09 ', 'IND-PLS13 ',\n",
       "       'INT9-PROYT', 'INT9CONSTR', 'INT9ELECTR', 'INT9G-ECO ',\n",
       "       'INT9MECANI', 'INT9ORTERR', 'INT9RNYMA ', 'INT9SANEHI',\n",
       "       'INT9SDIGYT', 'INT9TRANSP', 'MCT-175-09', 'MCT-PLS09 ',\n",
       "       'MCT-PLS13 ', 'MCT9-OPT  ', 'MEC-175-09', 'MEC-PLS09 ',\n",
       "       'MEC-PLS13 ', 'MEC9-OPT  ', 'TIVAS     '], dtype=object)"
      ]
     },
     "execution_count": 659,
     "metadata": {},
     "output_type": "execute_result"
    }
   ],
   "source": [
    "np.unique(Lectura[\"Cod.Car.Sec\"])"
   ]
  },
  {
   "cell_type": "code",
   "execution_count": 660,
   "metadata": {},
   "outputs": [
    {
     "name": "stdout",
     "output_type": "stream",
     "text": [
      "CIV-175-09\n",
      "CIV-PLS09 \n",
      "CIV-PLS13 \n"
     ]
    }
   ],
   "source": [
    "civil=pd.DataFrame(columns=Lectura.columns)\n",
    "for car in ['CIV-175-09','CIV-PLS09 ', 'CIV-PLS13 ']:\n",
    "    print(car)\n",
    "    civil=pd.concat([civil, Lectura[Lectura[\"Cod.Car.Sec\"]==car]], axis=0)"
   ]
  },
  {
   "cell_type": "code",
   "execution_count": 661,
   "metadata": {},
   "outputs": [
    {
     "name": "stdout",
     "output_type": "stream",
     "text": [
      "CALCULO 4\n",
      "DINAMICA\n",
      "ESTRUCTURAS 1\n",
      "FISICA 4\n",
      "MECANICA DE MATERIALES 1\n"
     ]
    },
    {
     "data": {
      "text/plain": [
       "(8848, 23)"
      ]
     },
     "execution_count": 661,
     "metadata": {},
     "output_type": "execute_result"
    }
   ],
   "source": [
    "neee=pd.DataFrame(columns=civil.columns)\n",
    "for mat in ['CALCULO 4', 'DINAMICA', 'ESTRUCTURAS 1', 'FISICA 4',\n",
    "       'MECANICA DE MATERIALES 1']:\n",
    "    print(mat)\n",
    "    neee=pd.concat([neee, civil[civil[\"Asignatura\"]==mat]], axis=0)\n",
    "neee.shape"
   ]
  },
  {
   "cell_type": "code",
   "execution_count": 662,
   "metadata": {},
   "outputs": [],
   "source": [
    "sd=neee[neee[\"Aprobado\"]==\"S\"]"
   ]
  },
  {
   "cell_type": "code",
   "execution_count": 668,
   "metadata": {},
   "outputs": [],
   "source": [
    "#d=civil.iloc[['es_123'],[\"danho\"]]\n",
    "#a=np.max(d)\n",
    "#b=np.min(d)\n",
    "#print(a-b)\n",
    "#a=sd[\"id_anony\"]\n",
    "#sd[]\n",
    "#m=np.unique(sd[\"id_anony\"])\n",
    "#en(nom)\n",
    "#for i in nom:\n",
    "#    print(i)"
   ]
  },
  {
   "cell_type": "code",
   "execution_count": 484,
   "metadata": {},
   "outputs": [],
   "source": [
    "#ad=sd.iloc[[100]]\n",
    "#d=ad[\"Asignatura\"].str.contains('DINAMICA')\n",
    "#if d[0]==True:\n",
    "# print('hola')\n",
    "#uno=sd[\"Asignatura\"].str.contains('DINAMICA')\n",
    "#uno\n",
    "#a=np.unique(sd[\"id_anony\"])\n",
    "\n"
   ]
  },
  {
   "cell_type": "code",
   "execution_count": 497,
   "metadata": {},
   "outputs": [
    {
     "data": {
      "text/plain": [
       "<bound method NDFrame.head of 567       None\n",
       "569       None\n",
       "577       None\n",
       "581       None\n",
       "584       None\n",
       "          ... \n",
       "199910    None\n",
       "199914    None\n",
       "199919    None\n",
       "199922    None\n",
       "199929    None\n",
       "Length: 4054, dtype: object>"
      ]
     },
     "execution_count": 497,
     "metadata": {},
     "output_type": "execute_result"
    }
   ],
   "source": [
    "def cantidades (ma):\n",
    "    d=np.unique(ma[\"Asignatura\"])\n",
    "    d=len(d)\n",
    "    if d==5:\n",
    "        return ma\n",
    "#    contador=0;\n",
    "#    if ma=='CALCULO 4':\n",
    "#        contador=contador+1;\n",
    "#    if ma=='DINAMICA':\n",
    "#        contador=contador+1;\n",
    "#    if ma=='ESTRUCTURAS 1':\n",
    "#        contador=contador+1;\n",
    "#    if ma=='FISICA 4':\n",
    "#        contador=contador+1;\n",
    "#    if ma=='MECANICA DE MATERIALES 1':\n",
    "#        contador=contador+1;\n",
    "#    if contador==5:\n",
    "#        return ides\n",
    "    \n",
    "xd=sd.apply(cantidades, axis=1)\n",
    "xd.head"
   ]
  },
  {
   "cell_type": "code",
   "execution_count": null,
   "metadata": {},
   "outputs": [],
   "source": [
    "np.unique(civil[\"Cod.Car.Sec\"])"
   ]
  },
  {
   "cell_type": "code",
   "execution_count": 277,
   "metadata": {},
   "outputs": [
    {
     "data": {
      "text/html": [
       "<div>\n",
       "<style scoped>\n",
       "    .dataframe tbody tr th:only-of-type {\n",
       "        vertical-align: middle;\n",
       "    }\n",
       "\n",
       "    .dataframe tbody tr th {\n",
       "        vertical-align: top;\n",
       "    }\n",
       "\n",
       "    .dataframe thead th {\n",
       "        text-align: right;\n",
       "    }\n",
       "</style>\n",
       "<table border=\"1\" class=\"dataframe\">\n",
       "  <thead>\n",
       "    <tr style=\"text-align: right;\">\n",
       "      <th></th>\n",
       "      <th>Unnamed: 0</th>\n",
       "      <th>danho</th>\n",
       "      <th>ciclo</th>\n",
       "      <th>Cod.Asign</th>\n",
       "      <th>Asignatura</th>\n",
       "      <th>Cod.Car.Sec</th>\n",
       "      <th>Cod.Curso</th>\n",
       "      <th>Convocatoria</th>\n",
       "      <th>Anho</th>\n",
       "      <th>Semestre</th>\n",
       "      <th>...</th>\n",
       "      <th>Primer.Par</th>\n",
       "      <th>Segundo.Par</th>\n",
       "      <th>AOT</th>\n",
       "      <th>Primer.Rec</th>\n",
       "      <th>Segundo.Rec</th>\n",
       "      <th>Nota.Final</th>\n",
       "      <th>Tercer.Par</th>\n",
       "      <th>Asis</th>\n",
       "      <th>Cuarto.Par</th>\n",
       "      <th>4P_60</th>\n",
       "    </tr>\n",
       "  </thead>\n",
       "  <tbody>\n",
       "    <tr>\n",
       "      <th>es_789</th>\n",
       "      <td>1567</td>\n",
       "      <td>2012</td>\n",
       "      <td>1</td>\n",
       "      <td>5108</td>\n",
       "      <td>GEOTECNIA 2</td>\n",
       "      <td>CIV-175-09</td>\n",
       "      <td>6</td>\n",
       "      <td>1</td>\n",
       "      <td>2012</td>\n",
       "      <td>1</td>\n",
       "      <td>...</td>\n",
       "      <td>8</td>\n",
       "      <td>8</td>\n",
       "      <td>10</td>\n",
       "      <td>0</td>\n",
       "      <td>0</td>\n",
       "      <td>NaN</td>\n",
       "      <td>0.0</td>\n",
       "      <td>1.0</td>\n",
       "      <td>NaN</td>\n",
       "      <td>NaN</td>\n",
       "    </tr>\n",
       "    <tr>\n",
       "      <th>es_789</th>\n",
       "      <td>1869</td>\n",
       "      <td>2012</td>\n",
       "      <td>1</td>\n",
       "      <td>5112</td>\n",
       "      <td>ESTRUCTURAS 3</td>\n",
       "      <td>CIV-175-09</td>\n",
       "      <td>6</td>\n",
       "      <td>1</td>\n",
       "      <td>2012</td>\n",
       "      <td>1</td>\n",
       "      <td>...</td>\n",
       "      <td>0</td>\n",
       "      <td>0</td>\n",
       "      <td>0</td>\n",
       "      <td>0</td>\n",
       "      <td>0</td>\n",
       "      <td>NaN</td>\n",
       "      <td>0.0</td>\n",
       "      <td>0.0</td>\n",
       "      <td>NaN</td>\n",
       "      <td>NaN</td>\n",
       "    </tr>\n",
       "    <tr>\n",
       "      <th>es_789</th>\n",
       "      <td>2125</td>\n",
       "      <td>2012</td>\n",
       "      <td>1</td>\n",
       "      <td>5115</td>\n",
       "      <td>CONTABILIDAD</td>\n",
       "      <td>CIV-175-09</td>\n",
       "      <td>7</td>\n",
       "      <td>1</td>\n",
       "      <td>2012</td>\n",
       "      <td>1</td>\n",
       "      <td>...</td>\n",
       "      <td>16</td>\n",
       "      <td>19</td>\n",
       "      <td>0</td>\n",
       "      <td>0</td>\n",
       "      <td>0</td>\n",
       "      <td>NaN</td>\n",
       "      <td>0.0</td>\n",
       "      <td>1.0</td>\n",
       "      <td>NaN</td>\n",
       "      <td>NaN</td>\n",
       "    </tr>\n",
       "    <tr>\n",
       "      <th>es_789</th>\n",
       "      <td>2220</td>\n",
       "      <td>2012</td>\n",
       "      <td>1</td>\n",
       "      <td>5122</td>\n",
       "      <td>VIAS DE COMUNICACION 2</td>\n",
       "      <td>CIV-175-09</td>\n",
       "      <td>8</td>\n",
       "      <td>1</td>\n",
       "      <td>2012</td>\n",
       "      <td>1</td>\n",
       "      <td>...</td>\n",
       "      <td>9</td>\n",
       "      <td>0</td>\n",
       "      <td>0</td>\n",
       "      <td>0</td>\n",
       "      <td>0</td>\n",
       "      <td>NaN</td>\n",
       "      <td>0.0</td>\n",
       "      <td>1.0</td>\n",
       "      <td>NaN</td>\n",
       "      <td>NaN</td>\n",
       "    </tr>\n",
       "    <tr>\n",
       "      <th>es_789</th>\n",
       "      <td>2456</td>\n",
       "      <td>2012</td>\n",
       "      <td>1</td>\n",
       "      <td>5134</td>\n",
       "      <td>OBRAS FLUVIALES</td>\n",
       "      <td>CIV-175-09</td>\n",
       "      <td>10</td>\n",
       "      <td>1</td>\n",
       "      <td>2012</td>\n",
       "      <td>1</td>\n",
       "      <td>...</td>\n",
       "      <td>7</td>\n",
       "      <td>8</td>\n",
       "      <td>0</td>\n",
       "      <td>30</td>\n",
       "      <td>0</td>\n",
       "      <td>NaN</td>\n",
       "      <td>0.0</td>\n",
       "      <td>1.0</td>\n",
       "      <td>NaN</td>\n",
       "      <td>NaN</td>\n",
       "    </tr>\n",
       "  </tbody>\n",
       "</table>\n",
       "<p>5 rows × 22 columns</p>\n",
       "</div>"
      ],
      "text/plain": [
       "       Unnamed: 0 danho ciclo Cod.Asign              Asignatura Cod.Car.Sec  \\\n",
       "es_789       1567  2012     1      5108             GEOTECNIA 2  CIV-175-09   \n",
       "es_789       1869  2012     1      5112           ESTRUCTURAS 3  CIV-175-09   \n",
       "es_789       2125  2012     1      5115            CONTABILIDAD  CIV-175-09   \n",
       "es_789       2220  2012     1      5122  VIAS DE COMUNICACION 2  CIV-175-09   \n",
       "es_789       2456  2012     1      5134        OBRAS FLUVIALES   CIV-175-09   \n",
       "\n",
       "       Cod.Curso Convocatoria  Anho Semestre  ... Primer.Par Segundo.Par AOT  \\\n",
       "es_789         6            1  2012        1  ...          8           8  10   \n",
       "es_789         6            1  2012        1  ...          0           0   0   \n",
       "es_789         7            1  2012        1  ...         16          19   0   \n",
       "es_789         8            1  2012        1  ...          9           0   0   \n",
       "es_789        10            1  2012        1  ...          7           8   0   \n",
       "\n",
       "       Primer.Rec Segundo.Rec Nota.Final Tercer.Par Asis  Cuarto.Par  4P_60  \n",
       "es_789          0           0        NaN        0.0  1.0         NaN    NaN  \n",
       "es_789          0           0        NaN        0.0  0.0         NaN    NaN  \n",
       "es_789          0           0        NaN        0.0  1.0         NaN    NaN  \n",
       "es_789          0           0        NaN        0.0  1.0         NaN    NaN  \n",
       "es_789         30           0        NaN        0.0  1.0         NaN    NaN  \n",
       "\n",
       "[5 rows x 22 columns]"
      ]
     },
     "execution_count": 277,
     "metadata": {},
     "output_type": "execute_result"
    }
   ],
   "source": [
    "#carrera[\"Cod.Curso\"]\n",
    "civil.head()"
   ]
  },
  {
   "cell_type": "code",
   "execution_count": 311,
   "metadata": {},
   "outputs": [
    {
     "data": {
      "text/plain": [
       "6"
      ]
     },
     "execution_count": 311,
     "metadata": {},
     "output_type": "execute_result"
    }
   ],
   "source": [
    "primerS=civil[ (civil[\"Cod.Curso\"]==1) & (civil[\"Aprobado\"]==\"S\")]\n",
    "cprimerS=np.unique(primerS[\"Asignatura\"])\n",
    "len(cprimerS)"
   ]
  },
  {
   "cell_type": "code",
   "execution_count": 312,
   "metadata": {},
   "outputs": [
    {
     "data": {
      "text/plain": [
       "5"
      ]
     },
     "execution_count": 312,
     "metadata": {},
     "output_type": "execute_result"
    }
   ],
   "source": [
    "cuartS=civil[ (civil[\"Cod.Curso\"]==4) & (civil[\"Aprobado\"]==\"S\")]\n",
    "ccuartS=np.unique(cuartS[\"Asignatura\"])\n",
    "len(ccuartS)"
   ]
  },
  {
   "cell_type": "code",
   "execution_count": 313,
   "metadata": {},
   "outputs": [
    {
     "data": {
      "text/plain": [
       "array(['CALCULO 4', 'DINAMICA', 'ESTRUCTURAS 1', 'FISICA 4',\n",
       "       'MECANICA DE MATERIALES 1'], dtype=object)"
      ]
     },
     "execution_count": 313,
     "metadata": {},
     "output_type": "execute_result"
    }
   ],
   "source": [
    "newcivil=civil[((civil[\"Cod.Curso\"]>3)&(civil[\"Cod.Curso\"]<5)) & (civil[\"Aprobado\"]==\"S\")]\n",
    "a=np.unique(newcivil[\"Asignatura\"])\n",
    "a\n",
    "#civil=civil[(np.sum(civil[\"Asignatura\"]))]\n",
    "#estudiantes=np.unique(civil[\"id_anony\"])\n",
    "#estudiantes.shape"
   ]
  },
  {
   "cell_type": "code",
   "execution_count": 314,
   "metadata": {},
   "outputs": [
    {
     "data": {
      "text/html": [
       "<div>\n",
       "<style scoped>\n",
       "    .dataframe tbody tr th:only-of-type {\n",
       "        vertical-align: middle;\n",
       "    }\n",
       "\n",
       "    .dataframe tbody tr th {\n",
       "        vertical-align: top;\n",
       "    }\n",
       "\n",
       "    .dataframe thead th {\n",
       "        text-align: right;\n",
       "    }\n",
       "</style>\n",
       "<table border=\"1\" class=\"dataframe\">\n",
       "  <thead>\n",
       "    <tr style=\"text-align: right;\">\n",
       "      <th></th>\n",
       "      <th>Unnamed: 0</th>\n",
       "      <th>danho</th>\n",
       "      <th>ciclo</th>\n",
       "      <th>Cod.Asign</th>\n",
       "      <th>Asignatura</th>\n",
       "      <th>Cod.Car.Sec</th>\n",
       "      <th>Cod.Curso</th>\n",
       "      <th>Convocatoria</th>\n",
       "      <th>Anho</th>\n",
       "      <th>Semestre</th>\n",
       "      <th>...</th>\n",
       "      <th>Primer.Par</th>\n",
       "      <th>Segundo.Par</th>\n",
       "      <th>AOT</th>\n",
       "      <th>Primer.Rec</th>\n",
       "      <th>Segundo.Rec</th>\n",
       "      <th>Nota.Final</th>\n",
       "      <th>Tercer.Par</th>\n",
       "      <th>Asis</th>\n",
       "      <th>Cuarto.Par</th>\n",
       "      <th>4P_60</th>\n",
       "    </tr>\n",
       "  </thead>\n",
       "  <tbody>\n",
       "    <tr>\n",
       "      <th>es_258</th>\n",
       "      <td>407</td>\n",
       "      <td>2012</td>\n",
       "      <td>1</td>\n",
       "      <td>5015</td>\n",
       "      <td>FISICA 4</td>\n",
       "      <td>CIV-PLS09</td>\n",
       "      <td>4</td>\n",
       "      <td>1</td>\n",
       "      <td>2012</td>\n",
       "      <td>1</td>\n",
       "      <td>...</td>\n",
       "      <td>18</td>\n",
       "      <td>19</td>\n",
       "      <td>8</td>\n",
       "      <td>0</td>\n",
       "      <td>0</td>\n",
       "      <td>2F-2</td>\n",
       "      <td>0.0</td>\n",
       "      <td>1.0</td>\n",
       "      <td>NaN</td>\n",
       "      <td>NaN</td>\n",
       "    </tr>\n",
       "    <tr>\n",
       "      <th>es_259</th>\n",
       "      <td>408</td>\n",
       "      <td>2012</td>\n",
       "      <td>1</td>\n",
       "      <td>5015</td>\n",
       "      <td>FISICA 4</td>\n",
       "      <td>CIV-PLS09</td>\n",
       "      <td>4</td>\n",
       "      <td>1</td>\n",
       "      <td>2012</td>\n",
       "      <td>1</td>\n",
       "      <td>...</td>\n",
       "      <td>22</td>\n",
       "      <td>21</td>\n",
       "      <td>9</td>\n",
       "      <td>0</td>\n",
       "      <td>0</td>\n",
       "      <td>1F-5</td>\n",
       "      <td>0.0</td>\n",
       "      <td>1.0</td>\n",
       "      <td>NaN</td>\n",
       "      <td>NaN</td>\n",
       "    </tr>\n",
       "    <tr>\n",
       "      <th>es_260</th>\n",
       "      <td>410</td>\n",
       "      <td>2012</td>\n",
       "      <td>1</td>\n",
       "      <td>5015</td>\n",
       "      <td>FISICA 4</td>\n",
       "      <td>CIV-PLS09</td>\n",
       "      <td>4</td>\n",
       "      <td>1</td>\n",
       "      <td>2012</td>\n",
       "      <td>1</td>\n",
       "      <td>...</td>\n",
       "      <td>0</td>\n",
       "      <td>0</td>\n",
       "      <td>10</td>\n",
       "      <td>0</td>\n",
       "      <td>0</td>\n",
       "      <td>2F-2</td>\n",
       "      <td>0.0</td>\n",
       "      <td>0.0</td>\n",
       "      <td>NaN</td>\n",
       "      <td>NaN</td>\n",
       "    </tr>\n",
       "    <tr>\n",
       "      <th>es_261</th>\n",
       "      <td>411</td>\n",
       "      <td>2012</td>\n",
       "      <td>1</td>\n",
       "      <td>5015</td>\n",
       "      <td>FISICA 4</td>\n",
       "      <td>CIV-PLS09</td>\n",
       "      <td>4</td>\n",
       "      <td>1</td>\n",
       "      <td>2012</td>\n",
       "      <td>1</td>\n",
       "      <td>...</td>\n",
       "      <td>15</td>\n",
       "      <td>12</td>\n",
       "      <td>10</td>\n",
       "      <td>0</td>\n",
       "      <td>0</td>\n",
       "      <td>3F-3</td>\n",
       "      <td>0.0</td>\n",
       "      <td>1.0</td>\n",
       "      <td>NaN</td>\n",
       "      <td>NaN</td>\n",
       "    </tr>\n",
       "    <tr>\n",
       "      <th>es_264</th>\n",
       "      <td>414</td>\n",
       "      <td>2012</td>\n",
       "      <td>1</td>\n",
       "      <td>5015</td>\n",
       "      <td>FISICA 4</td>\n",
       "      <td>CIV-PLS09</td>\n",
       "      <td>4</td>\n",
       "      <td>1</td>\n",
       "      <td>2012</td>\n",
       "      <td>1</td>\n",
       "      <td>...</td>\n",
       "      <td>14</td>\n",
       "      <td>20</td>\n",
       "      <td>9</td>\n",
       "      <td>0</td>\n",
       "      <td>0</td>\n",
       "      <td>1F-2</td>\n",
       "      <td>0.0</td>\n",
       "      <td>1.0</td>\n",
       "      <td>NaN</td>\n",
       "      <td>NaN</td>\n",
       "    </tr>\n",
       "    <tr>\n",
       "      <th>...</th>\n",
       "      <td>...</td>\n",
       "      <td>...</td>\n",
       "      <td>...</td>\n",
       "      <td>...</td>\n",
       "      <td>...</td>\n",
       "      <td>...</td>\n",
       "      <td>...</td>\n",
       "      <td>...</td>\n",
       "      <td>...</td>\n",
       "      <td>...</td>\n",
       "      <td>...</td>\n",
       "      <td>...</td>\n",
       "      <td>...</td>\n",
       "      <td>...</td>\n",
       "      <td>...</td>\n",
       "      <td>...</td>\n",
       "      <td>...</td>\n",
       "      <td>...</td>\n",
       "      <td>...</td>\n",
       "      <td>...</td>\n",
       "      <td>...</td>\n",
       "    </tr>\n",
       "    <tr>\n",
       "      <th>es_4104</th>\n",
       "      <td>7441</td>\n",
       "      <td>2020</td>\n",
       "      <td>1</td>\n",
       "      <td>13103</td>\n",
       "      <td>ESTRUCTURAS 1</td>\n",
       "      <td>CIV-PLS13</td>\n",
       "      <td>4</td>\n",
       "      <td>1</td>\n",
       "      <td>2020</td>\n",
       "      <td>1</td>\n",
       "      <td>...</td>\n",
       "      <td>2</td>\n",
       "      <td>6</td>\n",
       "      <td>6</td>\n",
       "      <td>0</td>\n",
       "      <td>0</td>\n",
       "      <td>1F-5</td>\n",
       "      <td>11.0</td>\n",
       "      <td>1.0</td>\n",
       "      <td>34.0</td>\n",
       "      <td>57.0</td>\n",
       "    </tr>\n",
       "    <tr>\n",
       "      <th>es_4134</th>\n",
       "      <td>7444</td>\n",
       "      <td>2020</td>\n",
       "      <td>1</td>\n",
       "      <td>13103</td>\n",
       "      <td>ESTRUCTURAS 1</td>\n",
       "      <td>CIV-PLS13</td>\n",
       "      <td>4</td>\n",
       "      <td>1</td>\n",
       "      <td>2020</td>\n",
       "      <td>1</td>\n",
       "      <td>...</td>\n",
       "      <td>4</td>\n",
       "      <td>7</td>\n",
       "      <td>10</td>\n",
       "      <td>0</td>\n",
       "      <td>0</td>\n",
       "      <td>1F-5</td>\n",
       "      <td>8.0</td>\n",
       "      <td>1.0</td>\n",
       "      <td>33.0</td>\n",
       "      <td>55.0</td>\n",
       "    </tr>\n",
       "    <tr>\n",
       "      <th>es_3745</th>\n",
       "      <td>7448</td>\n",
       "      <td>2020</td>\n",
       "      <td>1</td>\n",
       "      <td>13103</td>\n",
       "      <td>ESTRUCTURAS 1</td>\n",
       "      <td>CIV-PLS13</td>\n",
       "      <td>4</td>\n",
       "      <td>1</td>\n",
       "      <td>2020</td>\n",
       "      <td>1</td>\n",
       "      <td>...</td>\n",
       "      <td>4</td>\n",
       "      <td>4</td>\n",
       "      <td>10</td>\n",
       "      <td>0</td>\n",
       "      <td>0</td>\n",
       "      <td>1F-3</td>\n",
       "      <td>0.0</td>\n",
       "      <td>1.0</td>\n",
       "      <td>26.0</td>\n",
       "      <td>43.0</td>\n",
       "    </tr>\n",
       "    <tr>\n",
       "      <th>es_4156</th>\n",
       "      <td>7452</td>\n",
       "      <td>2020</td>\n",
       "      <td>1</td>\n",
       "      <td>13103</td>\n",
       "      <td>ESTRUCTURAS 1</td>\n",
       "      <td>CIV-PLS13</td>\n",
       "      <td>4</td>\n",
       "      <td>1</td>\n",
       "      <td>2020</td>\n",
       "      <td>1</td>\n",
       "      <td>...</td>\n",
       "      <td>2</td>\n",
       "      <td>12</td>\n",
       "      <td>10</td>\n",
       "      <td>0</td>\n",
       "      <td>0</td>\n",
       "      <td>1F-5</td>\n",
       "      <td>12.0</td>\n",
       "      <td>1.0</td>\n",
       "      <td>32.0</td>\n",
       "      <td>53.0</td>\n",
       "    </tr>\n",
       "    <tr>\n",
       "      <th>es_4189</th>\n",
       "      <td>7454</td>\n",
       "      <td>2020</td>\n",
       "      <td>1</td>\n",
       "      <td>13103</td>\n",
       "      <td>ESTRUCTURAS 1</td>\n",
       "      <td>CIV-PLS13</td>\n",
       "      <td>4</td>\n",
       "      <td>1</td>\n",
       "      <td>2020</td>\n",
       "      <td>1</td>\n",
       "      <td>...</td>\n",
       "      <td>7</td>\n",
       "      <td>5</td>\n",
       "      <td>10</td>\n",
       "      <td>0</td>\n",
       "      <td>0</td>\n",
       "      <td>1F-5</td>\n",
       "      <td>12.0</td>\n",
       "      <td>1.0</td>\n",
       "      <td>36.0</td>\n",
       "      <td>60.0</td>\n",
       "    </tr>\n",
       "  </tbody>\n",
       "</table>\n",
       "<p>4054 rows × 22 columns</p>\n",
       "</div>"
      ],
      "text/plain": [
       "        Unnamed: 0 danho ciclo Cod.Asign     Asignatura Cod.Car.Sec Cod.Curso  \\\n",
       "es_258         407  2012     1      5015       FISICA 4  CIV-PLS09          4   \n",
       "es_259         408  2012     1      5015       FISICA 4  CIV-PLS09          4   \n",
       "es_260         410  2012     1      5015       FISICA 4  CIV-PLS09          4   \n",
       "es_261         411  2012     1      5015       FISICA 4  CIV-PLS09          4   \n",
       "es_264         414  2012     1      5015       FISICA 4  CIV-PLS09          4   \n",
       "...            ...   ...   ...       ...            ...         ...       ...   \n",
       "es_4104       7441  2020     1     13103  ESTRUCTURAS 1  CIV-PLS13          4   \n",
       "es_4134       7444  2020     1     13103  ESTRUCTURAS 1  CIV-PLS13          4   \n",
       "es_3745       7448  2020     1     13103  ESTRUCTURAS 1  CIV-PLS13          4   \n",
       "es_4156       7452  2020     1     13103  ESTRUCTURAS 1  CIV-PLS13          4   \n",
       "es_4189       7454  2020     1     13103  ESTRUCTURAS 1  CIV-PLS13          4   \n",
       "\n",
       "        Convocatoria  Anho Semestre  ... Primer.Par Segundo.Par AOT  \\\n",
       "es_258             1  2012        1  ...         18          19   8   \n",
       "es_259             1  2012        1  ...         22          21   9   \n",
       "es_260             1  2012        1  ...          0           0  10   \n",
       "es_261             1  2012        1  ...         15          12  10   \n",
       "es_264             1  2012        1  ...         14          20   9   \n",
       "...              ...   ...      ...  ...        ...         ...  ..   \n",
       "es_4104            1  2020        1  ...          2           6   6   \n",
       "es_4134            1  2020        1  ...          4           7  10   \n",
       "es_3745            1  2020        1  ...          4           4  10   \n",
       "es_4156            1  2020        1  ...          2          12  10   \n",
       "es_4189            1  2020        1  ...          7           5  10   \n",
       "\n",
       "        Primer.Rec Segundo.Rec Nota.Final Tercer.Par Asis  Cuarto.Par  4P_60  \n",
       "es_258           0           0       2F-2        0.0  1.0         NaN    NaN  \n",
       "es_259           0           0       1F-5        0.0  1.0         NaN    NaN  \n",
       "es_260           0           0       2F-2        0.0  0.0         NaN    NaN  \n",
       "es_261           0           0       3F-3        0.0  1.0         NaN    NaN  \n",
       "es_264           0           0       1F-2        0.0  1.0         NaN    NaN  \n",
       "...            ...         ...        ...        ...  ...         ...    ...  \n",
       "es_4104          0           0       1F-5       11.0  1.0        34.0   57.0  \n",
       "es_4134          0           0       1F-5        8.0  1.0        33.0   55.0  \n",
       "es_3745          0           0       1F-3        0.0  1.0        26.0   43.0  \n",
       "es_4156          0           0       1F-5       12.0  1.0        32.0   53.0  \n",
       "es_4189          0           0       1F-5       12.0  1.0        36.0   60.0  \n",
       "\n",
       "[4054 rows x 22 columns]"
      ]
     },
     "execution_count": 314,
     "metadata": {},
     "output_type": "execute_result"
    }
   ],
   "source": [
    "newcivil"
   ]
  },
  {
   "cell_type": "code",
   "execution_count": 326,
   "metadata": {},
   "outputs": [
    {
     "data": {
      "text/plain": [
       "4"
      ]
     },
     "execution_count": 326,
     "metadata": {},
     "output_type": "execute_result"
    }
   ],
   "source": [
    "min(np.unique(newcivil[\"Cod.Curso\"]))"
   ]
  },
  {
   "cell_type": "code",
   "execution_count": null,
   "metadata": {},
   "outputs": [],
   "source": []
  },
  {
   "cell_type": "code",
   "execution_count": 309,
   "metadata": {},
   "outputs": [],
   "source": [
    "def contarmaterias(fin):\n",
    "    fin = columna[\"Asignatura\"]"
   ]
  },
  {
   "cell_type": "code",
   "execution_count": 592,
   "metadata": {},
   "outputs": [],
   "source": [
    "#acivil=newcivil[ (newcivil[\"Asignatura\"]==\"FISICA 4\")]# & \n",
    "#                (newcivil[\"Asignatura\"]==\"ESTRUCTURAS 1\")]\n",
    "#           & (newcivil[\"Asignatura\"]==\"CALCULO 4\") & (newcivil[\"Asignatura\"]==\"MECANICA DE MATERIALES 1\")\n",
    "#           & (newcivil[\"Asignatura\"]==\"ESTRUCTURAS 1\")]"
   ]
  },
  {
   "cell_type": "code",
   "execution_count": 591,
   "metadata": {},
   "outputs": [],
   "source": [
    "#'es_4104'\n",
    "#primerS.loc[['es_4134']]"
   ]
  },
  {
   "cell_type": "code",
   "execution_count": 590,
   "metadata": {},
   "outputs": [],
   "source": [
    "#Lectura.loc[['es_4104']]"
   ]
  },
  {
   "cell_type": "code",
   "execution_count": 589,
   "metadata": {},
   "outputs": [],
   "source": [
    "#civil.shape"
   ]
  },
  {
   "cell_type": "code",
   "execution_count": null,
   "metadata": {},
   "outputs": [],
   "source": []
  },
  {
   "cell_type": "code",
   "execution_count": 588,
   "metadata": {},
   "outputs": [],
   "source": [
    "#a=civil.loc[['es_300']]\n",
    "#a"
   ]
  },
  {
   "cell_type": "code",
   "execution_count": 587,
   "metadata": {},
   "outputs": [],
   "source": [
    "#np.unique(civil[\"Asignatura\"])"
   ]
  },
  {
   "cell_type": "code",
   "execution_count": 586,
   "metadata": {},
   "outputs": [],
   "source": [
    "#fisica 4, calculo 4 dinamica mecanica de materiales 1 estructuras\n",
    "#filtro=np.logical_and(civil.Asignatura.values==[\"FISICA 4\",\"CALCULO 4\",], civil[\"Aprobado\"]==\"S\")\n",
    "#filtro1=civil[filtro]\n",
    "#filtro1.shape"
   ]
  },
  {
   "cell_type": "code",
   "execution_count": 409,
   "metadata": {},
   "outputs": [],
   "source": [
    "#filtro1.head(50)"
   ]
  },
  {
   "cell_type": "code",
   "execution_count": 585,
   "metadata": {},
   "outputs": [],
   "source": [
    "#filtro=np.logical_and(filtro1.Asignatura.values==\"CALCULO 4\", filtro1[\"Aprobado\"]==\"S\")\n",
    "#filtro2=filtro1[filtro]\n",
    "#filtro2.shape"
   ]
  },
  {
   "cell_type": "code",
   "execution_count": 584,
   "metadata": {},
   "outputs": [],
   "source": [
    "#filtro=np.logical_and(civil.Asignatura.values==\"DINAMICA\", civil[\"Aprobado\"]==\"S\")\n",
    "#filtro3=civil[filtro]\n",
    "#filtro3.shape"
   ]
  },
  {
   "cell_type": "code",
   "execution_count": null,
   "metadata": {},
   "outputs": [],
   "source": []
  },
  {
   "cell_type": "code",
   "execution_count": null,
   "metadata": {},
   "outputs": [],
   "source": []
  },
  {
   "cell_type": "code",
   "execution_count": null,
   "metadata": {},
   "outputs": [],
   "source": []
  },
  {
   "cell_type": "code",
   "execution_count": null,
   "metadata": {},
   "outputs": [],
   "source": []
  },
  {
   "cell_type": "code",
   "execution_count": null,
   "metadata": {},
   "outputs": [],
   "source": []
  },
  {
   "cell_type": "code",
   "execution_count": null,
   "metadata": {},
   "outputs": [],
   "source": []
  },
  {
   "cell_type": "code",
   "execution_count": null,
   "metadata": {},
   "outputs": [],
   "source": []
  },
  {
   "cell_type": "code",
   "execution_count": null,
   "metadata": {},
   "outputs": [],
   "source": []
  },
  {
   "cell_type": "code",
   "execution_count": 583,
   "metadata": {},
   "outputs": [],
   "source": [
    "#new_car=carrera[carrera[\"Cod.Curso\"]<5]"
   ]
  },
  {
   "cell_type": "code",
   "execution_count": 582,
   "metadata": {},
   "outputs": [],
   "source": [
    "#estudiantes=np.unique(new_car[\"id_anony\"])"
   ]
  },
  {
   "cell_type": "code",
   "execution_count": 581,
   "metadata": {},
   "outputs": [],
   "source": [
    "#estudiantes"
   ]
  },
  {
   "cell_type": "code",
   "execution_count": 146,
   "metadata": {},
   "outputs": [],
   "source": [
    "#type(new_car[\"id_anony\"])"
   ]
  },
  {
   "cell_type": "code",
   "execution_count": 580,
   "metadata": {},
   "outputs": [],
   "source": [
    "#id_new=new_car[new_car[\"id_anony\"].str.contains('es_1857')]\n",
    "#id_new.shape"
   ]
  },
  {
   "cell_type": "code",
   "execution_count": 579,
   "metadata": {},
   "outputs": [],
   "source": [
    "#new_car[\"Cod.Curso\"].values==3"
   ]
  },
  {
   "cell_type": "code",
   "execution_count": 578,
   "metadata": {},
   "outputs": [],
   "source": [
    "#for ides in estudiantes:\n",
    "#    registro=new_car[new_car.id_anony.values==ides]\n",
    "    #np.sum(registro[\"Cod.Curso\"].values==1)>=1 and np.sum(registro[\"Cod.Curso\"].values==5)>=1\n",
    "#    if():\n",
    "#        break\n",
    "#registro\n"
   ]
  },
  {
   "cell_type": "code",
   "execution_count": 408,
   "metadata": {},
   "outputs": [],
   "source": [
    "#len(registro)"
   ]
  },
  {
   "cell_type": "code",
   "execution_count": 407,
   "metadata": {},
   "outputs": [],
   "source": [
    "#Malla.groupby(['Cod.Curso','Anho','Aprobado']).count()['id_anony']"
   ]
  },
  {
   "cell_type": "code",
   "execution_count": 406,
   "metadata": {},
   "outputs": [],
   "source": [
    "#Conteo=Malla.groupby(['Cod.Curso','Anho','Asignatura','id_anony',]).count()['Aprobado']"
   ]
  },
  {
   "cell_type": "code",
   "execution_count": null,
   "metadata": {},
   "outputs": [],
   "source": []
  },
  {
   "cell_type": "code",
   "execution_count": null,
   "metadata": {},
   "outputs": [],
   "source": []
  },
  {
   "cell_type": "code",
   "execution_count": null,
   "metadata": {},
   "outputs": [],
   "source": []
  },
  {
   "cell_type": "code",
   "execution_count": null,
   "metadata": {},
   "outputs": [],
   "source": []
  }
 ],
 "metadata": {
  "colab": {
   "name": "Untitled2.ipynb",
   "provenance": []
  },
  "kernelspec": {
   "display_name": "Python 3 (ipykernel)",
   "language": "python",
   "name": "python3"
  },
  "language_info": {
   "codemirror_mode": {
    "name": "ipython",
    "version": 3
   },
   "file_extension": ".py",
   "mimetype": "text/x-python",
   "name": "python",
   "nbconvert_exporter": "python",
   "pygments_lexer": "ipython3",
   "version": "3.9.7"
  }
 },
 "nbformat": 4,
 "nbformat_minor": 4
}
