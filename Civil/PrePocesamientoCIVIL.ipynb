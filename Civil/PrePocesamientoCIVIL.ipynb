{
  "nbformat": 4,
  "nbformat_minor": 0,
  "metadata": {
    "colab": {
      "name": "PrePocesamientoCIVIL.ipynb",
      "provenance": [],
      "collapsed_sections": []
    },
    "kernelspec": {
      "name": "python3",
      "display_name": "Python 3"
    },
    "language_info": {
      "name": "python"
    }
  },
  "cells": [
    {
      "cell_type": "markdown",
      "source": [
        "## **DATASET**"
      ],
      "metadata": {
        "id": "VU0nhCR79Atx"
      }
    },
    {
      "cell_type": "markdown",
      "metadata": {
        "id": "VYwY_yiHqqjO"
      },
      "source": [
        "IMPORTACION DE LIBRERIAS"
      ]
    },
    {
      "cell_type": "code",
      "source": [
        "import numpy as np\n",
        "import pandas as pd\n",
        "import matplotlib.pyplot as plt"
      ],
      "metadata": {
        "id": "VZ6nQOMA9H61"
      },
      "execution_count": 203,
      "outputs": []
    },
    {
      "cell_type": "markdown",
      "metadata": {
        "id": "jM8IBZjfqqjb"
      },
      "source": [
        "LECTURA DE DATOS"
      ]
    },
    {
      "cell_type": "code",
      "execution_count": 204,
      "metadata": {
        "id": "u9US2e2Iqqjc"
      },
      "outputs": [],
      "source": [
        "Lectura=pd.read_csv(\"datosConcatenadossinCI.csv\")"
      ]
    },
    {
      "cell_type": "markdown",
      "metadata": {
        "id": "S83VoVa2qqje"
      },
      "source": [
        "VISUALIZAMOS LOS PRIMEROS DATOS"
      ]
    },
    {
      "cell_type": "code",
      "execution_count": 205,
      "metadata": {
        "colab": {
          "base_uri": "https://localhost:8080/",
          "height": 0
        },
        "id": "W0AVRQh5qqjf",
        "outputId": "d5981f67-af9e-4a54-c5c9-3c207f104c7d"
      },
      "outputs": [
        {
          "output_type": "execute_result",
          "data": {
            "text/plain": [
              "   Unnamed: 0  danho  ciclo  Cod.Asign  Asignatura Cod.Car.Sec  Cod.Curso  \\\n",
              "0           0   2012      1       2402  COMBUSTION  INT9MECANI         13   \n",
              "1           1   2012      1       2402  COMBUSTION  MEC9-OPT           13   \n",
              "2           2   2012      1       2402  COMBUSTION  INT9MECANI         13   \n",
              "3           3   2012      1       2402  COMBUSTION  MEC9-OPT           13   \n",
              "4           4   2012      1       2402  COMBUSTION  MEC9-OPT           13   \n",
              "\n",
              "   Convocatoria  Anho  Semestre  ... Segundo.Par  AOT  Primer.Rec  \\\n",
              "0             1  2012         1  ...           0    0           0   \n",
              "1             1  2012         1  ...          14    8           0   \n",
              "2             1  2012         1  ...          23    9           0   \n",
              "3             1  2012         1  ...          14    8           0   \n",
              "4             1  2012         1  ...           4    8           0   \n",
              "\n",
              "   Segundo.Rec  Nota.Final  Tercer.Par  Asis Cuarto.Par  4P_60  id_anony  \n",
              "0            0         NaN         0.0   1.0        NaN    NaN      es_0  \n",
              "1            0        1F-5         0.0   1.0        NaN    NaN      es_1  \n",
              "2            0        1F-5         0.0   1.0        NaN    NaN      es_2  \n",
              "3            0   1F-1,2F-2         0.0   1.0        NaN    NaN      es_3  \n",
              "4            0         NaN         0.0   1.0        NaN    NaN      es_4  \n",
              "\n",
              "[5 rows x 23 columns]"
            ],
            "text/html": [
              "\n",
              "  <div id=\"df-d2a51dda-ee6b-4d93-8a3b-99b69d24f2c0\">\n",
              "    <div class=\"colab-df-container\">\n",
              "      <div>\n",
              "<style scoped>\n",
              "    .dataframe tbody tr th:only-of-type {\n",
              "        vertical-align: middle;\n",
              "    }\n",
              "\n",
              "    .dataframe tbody tr th {\n",
              "        vertical-align: top;\n",
              "    }\n",
              "\n",
              "    .dataframe thead th {\n",
              "        text-align: right;\n",
              "    }\n",
              "</style>\n",
              "<table border=\"1\" class=\"dataframe\">\n",
              "  <thead>\n",
              "    <tr style=\"text-align: right;\">\n",
              "      <th></th>\n",
              "      <th>Unnamed: 0</th>\n",
              "      <th>danho</th>\n",
              "      <th>ciclo</th>\n",
              "      <th>Cod.Asign</th>\n",
              "      <th>Asignatura</th>\n",
              "      <th>Cod.Car.Sec</th>\n",
              "      <th>Cod.Curso</th>\n",
              "      <th>Convocatoria</th>\n",
              "      <th>Anho</th>\n",
              "      <th>Semestre</th>\n",
              "      <th>...</th>\n",
              "      <th>Segundo.Par</th>\n",
              "      <th>AOT</th>\n",
              "      <th>Primer.Rec</th>\n",
              "      <th>Segundo.Rec</th>\n",
              "      <th>Nota.Final</th>\n",
              "      <th>Tercer.Par</th>\n",
              "      <th>Asis</th>\n",
              "      <th>Cuarto.Par</th>\n",
              "      <th>4P_60</th>\n",
              "      <th>id_anony</th>\n",
              "    </tr>\n",
              "  </thead>\n",
              "  <tbody>\n",
              "    <tr>\n",
              "      <th>0</th>\n",
              "      <td>0</td>\n",
              "      <td>2012</td>\n",
              "      <td>1</td>\n",
              "      <td>2402</td>\n",
              "      <td>COMBUSTION</td>\n",
              "      <td>INT9MECANI</td>\n",
              "      <td>13</td>\n",
              "      <td>1</td>\n",
              "      <td>2012</td>\n",
              "      <td>1</td>\n",
              "      <td>...</td>\n",
              "      <td>0</td>\n",
              "      <td>0</td>\n",
              "      <td>0</td>\n",
              "      <td>0</td>\n",
              "      <td>NaN</td>\n",
              "      <td>0.0</td>\n",
              "      <td>1.0</td>\n",
              "      <td>NaN</td>\n",
              "      <td>NaN</td>\n",
              "      <td>es_0</td>\n",
              "    </tr>\n",
              "    <tr>\n",
              "      <th>1</th>\n",
              "      <td>1</td>\n",
              "      <td>2012</td>\n",
              "      <td>1</td>\n",
              "      <td>2402</td>\n",
              "      <td>COMBUSTION</td>\n",
              "      <td>MEC9-OPT</td>\n",
              "      <td>13</td>\n",
              "      <td>1</td>\n",
              "      <td>2012</td>\n",
              "      <td>1</td>\n",
              "      <td>...</td>\n",
              "      <td>14</td>\n",
              "      <td>8</td>\n",
              "      <td>0</td>\n",
              "      <td>0</td>\n",
              "      <td>1F-5</td>\n",
              "      <td>0.0</td>\n",
              "      <td>1.0</td>\n",
              "      <td>NaN</td>\n",
              "      <td>NaN</td>\n",
              "      <td>es_1</td>\n",
              "    </tr>\n",
              "    <tr>\n",
              "      <th>2</th>\n",
              "      <td>2</td>\n",
              "      <td>2012</td>\n",
              "      <td>1</td>\n",
              "      <td>2402</td>\n",
              "      <td>COMBUSTION</td>\n",
              "      <td>INT9MECANI</td>\n",
              "      <td>13</td>\n",
              "      <td>1</td>\n",
              "      <td>2012</td>\n",
              "      <td>1</td>\n",
              "      <td>...</td>\n",
              "      <td>23</td>\n",
              "      <td>9</td>\n",
              "      <td>0</td>\n",
              "      <td>0</td>\n",
              "      <td>1F-5</td>\n",
              "      <td>0.0</td>\n",
              "      <td>1.0</td>\n",
              "      <td>NaN</td>\n",
              "      <td>NaN</td>\n",
              "      <td>es_2</td>\n",
              "    </tr>\n",
              "    <tr>\n",
              "      <th>3</th>\n",
              "      <td>3</td>\n",
              "      <td>2012</td>\n",
              "      <td>1</td>\n",
              "      <td>2402</td>\n",
              "      <td>COMBUSTION</td>\n",
              "      <td>MEC9-OPT</td>\n",
              "      <td>13</td>\n",
              "      <td>1</td>\n",
              "      <td>2012</td>\n",
              "      <td>1</td>\n",
              "      <td>...</td>\n",
              "      <td>14</td>\n",
              "      <td>8</td>\n",
              "      <td>0</td>\n",
              "      <td>0</td>\n",
              "      <td>1F-1,2F-2</td>\n",
              "      <td>0.0</td>\n",
              "      <td>1.0</td>\n",
              "      <td>NaN</td>\n",
              "      <td>NaN</td>\n",
              "      <td>es_3</td>\n",
              "    </tr>\n",
              "    <tr>\n",
              "      <th>4</th>\n",
              "      <td>4</td>\n",
              "      <td>2012</td>\n",
              "      <td>1</td>\n",
              "      <td>2402</td>\n",
              "      <td>COMBUSTION</td>\n",
              "      <td>MEC9-OPT</td>\n",
              "      <td>13</td>\n",
              "      <td>1</td>\n",
              "      <td>2012</td>\n",
              "      <td>1</td>\n",
              "      <td>...</td>\n",
              "      <td>4</td>\n",
              "      <td>8</td>\n",
              "      <td>0</td>\n",
              "      <td>0</td>\n",
              "      <td>NaN</td>\n",
              "      <td>0.0</td>\n",
              "      <td>1.0</td>\n",
              "      <td>NaN</td>\n",
              "      <td>NaN</td>\n",
              "      <td>es_4</td>\n",
              "    </tr>\n",
              "  </tbody>\n",
              "</table>\n",
              "<p>5 rows × 23 columns</p>\n",
              "</div>\n",
              "      <button class=\"colab-df-convert\" onclick=\"convertToInteractive('df-d2a51dda-ee6b-4d93-8a3b-99b69d24f2c0')\"\n",
              "              title=\"Convert this dataframe to an interactive table.\"\n",
              "              style=\"display:none;\">\n",
              "        \n",
              "  <svg xmlns=\"http://www.w3.org/2000/svg\" height=\"24px\"viewBox=\"0 0 24 24\"\n",
              "       width=\"24px\">\n",
              "    <path d=\"M0 0h24v24H0V0z\" fill=\"none\"/>\n",
              "    <path d=\"M18.56 5.44l.94 2.06.94-2.06 2.06-.94-2.06-.94-.94-2.06-.94 2.06-2.06.94zm-11 1L8.5 8.5l.94-2.06 2.06-.94-2.06-.94L8.5 2.5l-.94 2.06-2.06.94zm10 10l.94 2.06.94-2.06 2.06-.94-2.06-.94-.94-2.06-.94 2.06-2.06.94z\"/><path d=\"M17.41 7.96l-1.37-1.37c-.4-.4-.92-.59-1.43-.59-.52 0-1.04.2-1.43.59L10.3 9.45l-7.72 7.72c-.78.78-.78 2.05 0 2.83L4 21.41c.39.39.9.59 1.41.59.51 0 1.02-.2 1.41-.59l7.78-7.78 2.81-2.81c.8-.78.8-2.07 0-2.86zM5.41 20L4 18.59l7.72-7.72 1.47 1.35L5.41 20z\"/>\n",
              "  </svg>\n",
              "      </button>\n",
              "      \n",
              "  <style>\n",
              "    .colab-df-container {\n",
              "      display:flex;\n",
              "      flex-wrap:wrap;\n",
              "      gap: 12px;\n",
              "    }\n",
              "\n",
              "    .colab-df-convert {\n",
              "      background-color: #E8F0FE;\n",
              "      border: none;\n",
              "      border-radius: 50%;\n",
              "      cursor: pointer;\n",
              "      display: none;\n",
              "      fill: #1967D2;\n",
              "      height: 32px;\n",
              "      padding: 0 0 0 0;\n",
              "      width: 32px;\n",
              "    }\n",
              "\n",
              "    .colab-df-convert:hover {\n",
              "      background-color: #E2EBFA;\n",
              "      box-shadow: 0px 1px 2px rgba(60, 64, 67, 0.3), 0px 1px 3px 1px rgba(60, 64, 67, 0.15);\n",
              "      fill: #174EA6;\n",
              "    }\n",
              "\n",
              "    [theme=dark] .colab-df-convert {\n",
              "      background-color: #3B4455;\n",
              "      fill: #D2E3FC;\n",
              "    }\n",
              "\n",
              "    [theme=dark] .colab-df-convert:hover {\n",
              "      background-color: #434B5C;\n",
              "      box-shadow: 0px 1px 3px 1px rgba(0, 0, 0, 0.15);\n",
              "      filter: drop-shadow(0px 1px 2px rgba(0, 0, 0, 0.3));\n",
              "      fill: #FFFFFF;\n",
              "    }\n",
              "  </style>\n",
              "\n",
              "      <script>\n",
              "        const buttonEl =\n",
              "          document.querySelector('#df-d2a51dda-ee6b-4d93-8a3b-99b69d24f2c0 button.colab-df-convert');\n",
              "        buttonEl.style.display =\n",
              "          google.colab.kernel.accessAllowed ? 'block' : 'none';\n",
              "\n",
              "        async function convertToInteractive(key) {\n",
              "          const element = document.querySelector('#df-d2a51dda-ee6b-4d93-8a3b-99b69d24f2c0');\n",
              "          const dataTable =\n",
              "            await google.colab.kernel.invokeFunction('convertToInteractive',\n",
              "                                                     [key], {});\n",
              "          if (!dataTable) return;\n",
              "\n",
              "          const docLinkHtml = 'Like what you see? Visit the ' +\n",
              "            '<a target=\"_blank\" href=https://colab.research.google.com/notebooks/data_table.ipynb>data table notebook</a>'\n",
              "            + ' to learn more about interactive tables.';\n",
              "          element.innerHTML = '';\n",
              "          dataTable['output_type'] = 'display_data';\n",
              "          await google.colab.output.renderOutput(dataTable, element);\n",
              "          const docLink = document.createElement('div');\n",
              "          docLink.innerHTML = docLinkHtml;\n",
              "          element.appendChild(docLink);\n",
              "        }\n",
              "      </script>\n",
              "    </div>\n",
              "  </div>\n",
              "  "
            ]
          },
          "metadata": {},
          "execution_count": 205
        }
      ],
      "source": [
        "Lectura.head()"
      ]
    },
    {
      "cell_type": "code",
      "execution_count": 206,
      "metadata": {
        "id": "QU4gdqrFqqjl",
        "colab": {
          "base_uri": "https://localhost:8080/"
        },
        "outputId": "b87fccc6-f9d3-4d60-9431-3649c739eab5"
      },
      "outputs": [
        {
          "output_type": "stream",
          "name": "stdout",
          "text": [
            "<class 'pandas.core.frame.DataFrame'>\n",
            "RangeIndex: 221822 entries, 0 to 221821\n",
            "Data columns (total 23 columns):\n",
            " #   Column        Non-Null Count   Dtype  \n",
            "---  ------        --------------   -----  \n",
            " 0   Unnamed: 0    221822 non-null  int64  \n",
            " 1   danho         221822 non-null  int64  \n",
            " 2   ciclo         221822 non-null  int64  \n",
            " 3   Cod.Asign     221822 non-null  int64  \n",
            " 4   Asignatura    221822 non-null  object \n",
            " 5   Cod.Car.Sec   221822 non-null  object \n",
            " 6   Cod.Curso     221822 non-null  int64  \n",
            " 7   Convocatoria  221822 non-null  int64  \n",
            " 8   Anho          221822 non-null  int64  \n",
            " 9   Semestre      221822 non-null  int64  \n",
            " 10  Aprobado      221822 non-null  object \n",
            " 11  Anho.Firma    221822 non-null  int64  \n",
            " 12  Primer.Par    221822 non-null  int64  \n",
            " 13  Segundo.Par   221822 non-null  int64  \n",
            " 14  AOT           221822 non-null  int64  \n",
            " 15  Primer.Rec    221822 non-null  int64  \n",
            " 16  Segundo.Rec   221822 non-null  int64  \n",
            " 17  Nota.Final    137062 non-null  object \n",
            " 18  Tercer.Par    221822 non-null  float64\n",
            " 19  Asis          221822 non-null  float64\n",
            " 20  Cuarto.Par    28037 non-null   float64\n",
            " 21  4P_60         28037 non-null   float64\n",
            " 22  id_anony      221822 non-null  object \n",
            "dtypes: float64(4), int64(14), object(5)\n",
            "memory usage: 38.9+ MB\n"
          ]
        }
      ],
      "source": [
        "Lectura.info()"
      ]
    },
    {
      "cell_type": "markdown",
      "metadata": {
        "id": "2QmV0LOBqqjn"
      },
      "source": [
        "ANALIZAMOS LOS CODIGO DE CARRERAS"
      ]
    },
    {
      "cell_type": "code",
      "execution_count": 207,
      "metadata": {
        "colab": {
          "base_uri": "https://localhost:8080/"
        },
        "id": "NfefnEfiqqjn",
        "outputId": "a75488a6-3ca0-4e15-9dac-6d2338762e58"
      },
      "outputs": [
        {
          "output_type": "execute_result",
          "data": {
            "text/plain": [
              "array(['CGF-175-09', 'CGF-PLS09 ', 'CGF-PLS13 ', 'CIV-175-09',\n",
              "       'CIV-PLS09 ', 'CIV-PLS13 ', 'ECA-175-09', 'ECA-PLS09 ',\n",
              "       'ECA-PLS13 ', 'ECA9-OPT  ', 'ELE-175-09', 'ELE-PLS09 ',\n",
              "       'ELE-PLS13 ', 'IND-175-09', 'IND-PLS09 ', 'IND-PLS13 ',\n",
              "       'INT9-PROYT', 'INT9CONSTR', 'INT9ELECTR', 'INT9G-ECO ',\n",
              "       'INT9MECANI', 'INT9ORTERR', 'INT9RNYMA ', 'INT9SANEHI',\n",
              "       'INT9SDIGYT', 'INT9TRANSP', 'MCT-175-09', 'MCT-PLS09 ',\n",
              "       'MCT-PLS13 ', 'MCT9-OPT  ', 'MEC-175-09', 'MEC-PLS09 ',\n",
              "       'MEC-PLS13 ', 'MEC9-OPT  ', 'TIVAS     '], dtype=object)"
            ]
          },
          "metadata": {},
          "execution_count": 207
        }
      ],
      "source": [
        "np.unique(Lectura[\"Cod.Car.Sec\"])"
      ]
    },
    {
      "cell_type": "markdown",
      "metadata": {
        "id": "O3eufN2-qqjp"
      },
      "source": [
        "SEPARAMOS LOS DATOS PARA SER ANALIZDOS:\n",
        "En este caso seleccione  los de la carrera de ING. CIVIL"
      ]
    },
    {
      "cell_type": "code",
      "execution_count": 208,
      "metadata": {
        "colab": {
          "base_uri": "https://localhost:8080/"
        },
        "id": "Qxrtq7rXqqjq",
        "outputId": "71d47cbe-43a5-4869-dd56-1b51ac0022b9"
      },
      "outputs": [
        {
          "output_type": "stream",
          "name": "stdout",
          "text": [
            "CIV-175-09\n",
            "CIV-PLS09 \n",
            "CIV-PLS13 \n"
          ]
        }
      ],
      "source": [
        "civil=pd.DataFrame(columns=Lectura.columns)\n",
        "for car in ['CIV-175-09','CIV-PLS09 ', 'CIV-PLS13 ']:\n",
        "    print(car)\n",
        "    civil=pd.concat([civil, Lectura[Lectura[\"Cod.Car.Sec\"]==car]], axis=0)"
      ]
    },
    {
      "cell_type": "markdown",
      "source": [
        "## REGRESION LINEAL"
      ],
      "metadata": {
        "id": "ZokV_O_F637a"
      }
    },
    {
      "cell_type": "markdown",
      "source": [
        "Visualizo las materias del primer semestre"
      ],
      "metadata": {
        "id": "WfsRL7x1-fVF"
      }
    },
    {
      "cell_type": "code",
      "execution_count": 246,
      "metadata": {
        "colab": {
          "base_uri": "https://localhost:8080/"
        },
        "id": "GxsJ8GXgqqkY",
        "outputId": "c9f1ba30-5524-4b45-86c0-a37676a909ed"
      },
      "outputs": [
        {
          "output_type": "execute_result",
          "data": {
            "text/plain": [
              "array(['ALGEBRA LINEAL 1', 'CALCULO 1', 'DIBUJO TECNICO', 'FISICA 1',\n",
              "       'GEOMETRIA ANALITICA', 'GEOMETRIA DESCRIPTIVA'], dtype=object)"
            ]
          },
          "metadata": {},
          "execution_count": 246
        }
      ],
      "source": [
        "primerS=civil[ (civil[\"Cod.Curso\"]==1) & (civil[\"Aprobado\"]==\"S\")]\n",
        "CprimerS=np.unique(primerS[\"Asignatura\"])\n",
        "CprimerS\n"
      ]
    },
    {
      "cell_type": "markdown",
      "metadata": {
        "id": "-_vFAnrEqqkd"
      },
      "source": [
        "FILTRO LOS ID QUE CURSARON TODAS MATERIAS DEL CUARTO SEMESTRE"
      ]
    },
    {
      "cell_type": "code",
      "execution_count": 247,
      "metadata": {
        "colab": {
          "base_uri": "https://localhost:8080/"
        },
        "id": "DUDXksggqqkd",
        "outputId": "17002481-c31b-4c80-a591-003287d166ee"
      },
      "outputs": [
        {
          "output_type": "stream",
          "name": "stdout",
          "text": [
            "CALCULO 4\n",
            "DINAMICA\n",
            "ESTRUCTURAS 1\n",
            "FISICA 4\n",
            "MECANICA DE MATERIALES 1\n",
            "Cantidad de elementos (8848, 23)\n"
          ]
        }
      ],
      "source": [
        "newdata=pd.DataFrame(columns=civil.columns)\n",
        "for mat in ['CALCULO 4', 'DINAMICA', 'ESTRUCTURAS 1', 'FISICA 4',\n",
        "       'MECANICA DE MATERIALES 1']:\n",
        "    newdata=pd.concat([newdata, civil[civil[\"Asignatura\"]==mat]], axis=0)\n",
        "    print(mat)\n",
        "print('Cantidad de elementos',newdata.shape)"
      ]
    },
    {
      "cell_type": "markdown",
      "metadata": {
        "id": "XEyc-3Euqqkg"
      },
      "source": [
        "SEGUIDAMENTE FILTRO SOLO LOS QUE TIENEN APROBADO ESAS MATERIAS"
      ]
    },
    {
      "cell_type": "code",
      "execution_count": 248,
      "metadata": {
        "colab": {
          "base_uri": "https://localhost:8080/"
        },
        "id": "JvfDJFcoqqkh",
        "outputId": "1b58d096-635d-4b8d-8ad5-af9c39879a6f"
      },
      "outputs": [
        {
          "output_type": "stream",
          "name": "stdout",
          "text": [
            "Cantidad de elementos (4054, 23)\n"
          ]
        }
      ],
      "source": [
        "df=newdata[newdata[\"Aprobado\"]==\"S\"]\n",
        "print('Cantidad de elementos',df.shape)\n"
      ]
    },
    {
      "cell_type": "markdown",
      "metadata": {
        "id": "8XDQJiaQqqkk"
      },
      "source": [
        "LUEGO VISUALIZAMOS LA CANTIDAD DE ESTUDIANTES REALES"
      ]
    },
    {
      "cell_type": "code",
      "execution_count": 249,
      "metadata": {
        "colab": {
          "base_uri": "https://localhost:8080/"
        },
        "id": "RV53rx75qqkp",
        "outputId": "a7fbd655-72a2-42f9-e1e0-83f56edbcccd"
      },
      "outputs": [
        {
          "output_type": "stream",
          "name": "stdout",
          "text": [
            "968\n"
          ]
        }
      ],
      "source": [
        "estudiantes=np.unique(df['id_anony'])\n",
        "materias=np.unique(df['Asignatura'])\n",
        "print(len(estudiantes))"
      ]
    },
    {
      "cell_type": "markdown",
      "source": [
        "Filtramos solo los alumnos que aprobaron Cursos Basicos\n"
      ],
      "metadata": {
        "id": "XDtNKdJY3qnR"
      }
    },
    {
      "cell_type": "code",
      "execution_count": 250,
      "metadata": {
        "id": "zL7JziVRqqku"
      },
      "outputs": [],
      "source": [
        "Alumnos=[]\n",
        "Alumnos.clear()\n",
        "Inicio=[]\n",
        "Inicio.clear()\n",
        "Duracion=[]\n",
        "Duracion.clear()\n",
        "for ides in estudiantes:\n",
        "    registro=df[df.id_anony.values==ides]\n",
        "    regis=civil[civil.id_anony.values==ides]\n",
        "    cant=np.unique(registro[\"Asignatura\"])\n",
        "    a=np.sum(cant=='CALCULO 4')\n",
        "    a=a+np.sum(cant=='DINAMICA')\n",
        "    a=a+np.sum(cant=='ESTRUCTURAS 1')\n",
        "    a=a+np.sum(cant=='FISICA 4')\n",
        "    a=a+np.sum(cant=='MECANICA DE MATERIALES 1')\n",
        "    regi=np.sum((regis[\"Cod.Curso\"].values==1))\n",
        "    if (a==5)&(regi>0):\n",
        "        ides\n",
        "        AnhoIn=min(regis[\"danho\"])\n",
        "        AnhoFin=max(registro[\"danho\"])\n",
        "        Tiempo=AnhoFin-AnhoIn\n",
        "        Alumnos.append(ides)\n",
        "        Duracion.append(Tiempo)\n",
        "        Inicio.append(AnhoIn)"
      ]
    },
    {
      "cell_type": "markdown",
      "source": [
        "Creamos un nuevo Dataset"
      ],
      "metadata": {
        "id": "SR5k8jRW-qlP"
      }
    },
    {
      "cell_type": "code",
      "execution_count": 251,
      "metadata": {
        "colab": {
          "base_uri": "https://localhost:8080/",
          "height": 0
        },
        "id": "nZKC3GU4qqky",
        "outputId": "88c8f8be-3d91-4369-d117-7bf1f38c9446"
      },
      "outputs": [
        {
          "output_type": "execute_result",
          "data": {
            "text/plain": [
              "     Alumnos  Ingreso  Duracion\n",
              "0    es_1164     2012         4\n",
              "1    es_1185     2012         3\n",
              "2    es_1204     2012         8\n",
              "3    es_1244     2012         5\n",
              "4    es_1253     2012         4\n",
              "..       ...      ...       ...\n",
              "415  es_4087     2018         2\n",
              "416  es_4104     2018         2\n",
              "417  es_4134     2018         2\n",
              "418  es_4156     2018         2\n",
              "419  es_4189     2018         2\n",
              "\n",
              "[420 rows x 3 columns]"
            ],
            "text/html": [
              "\n",
              "  <div id=\"df-5c85a009-7060-4ffa-8052-56d3073a721a\">\n",
              "    <div class=\"colab-df-container\">\n",
              "      <div>\n",
              "<style scoped>\n",
              "    .dataframe tbody tr th:only-of-type {\n",
              "        vertical-align: middle;\n",
              "    }\n",
              "\n",
              "    .dataframe tbody tr th {\n",
              "        vertical-align: top;\n",
              "    }\n",
              "\n",
              "    .dataframe thead th {\n",
              "        text-align: right;\n",
              "    }\n",
              "</style>\n",
              "<table border=\"1\" class=\"dataframe\">\n",
              "  <thead>\n",
              "    <tr style=\"text-align: right;\">\n",
              "      <th></th>\n",
              "      <th>Alumnos</th>\n",
              "      <th>Ingreso</th>\n",
              "      <th>Duracion</th>\n",
              "    </tr>\n",
              "  </thead>\n",
              "  <tbody>\n",
              "    <tr>\n",
              "      <th>0</th>\n",
              "      <td>es_1164</td>\n",
              "      <td>2012</td>\n",
              "      <td>4</td>\n",
              "    </tr>\n",
              "    <tr>\n",
              "      <th>1</th>\n",
              "      <td>es_1185</td>\n",
              "      <td>2012</td>\n",
              "      <td>3</td>\n",
              "    </tr>\n",
              "    <tr>\n",
              "      <th>2</th>\n",
              "      <td>es_1204</td>\n",
              "      <td>2012</td>\n",
              "      <td>8</td>\n",
              "    </tr>\n",
              "    <tr>\n",
              "      <th>3</th>\n",
              "      <td>es_1244</td>\n",
              "      <td>2012</td>\n",
              "      <td>5</td>\n",
              "    </tr>\n",
              "    <tr>\n",
              "      <th>4</th>\n",
              "      <td>es_1253</td>\n",
              "      <td>2012</td>\n",
              "      <td>4</td>\n",
              "    </tr>\n",
              "    <tr>\n",
              "      <th>...</th>\n",
              "      <td>...</td>\n",
              "      <td>...</td>\n",
              "      <td>...</td>\n",
              "    </tr>\n",
              "    <tr>\n",
              "      <th>415</th>\n",
              "      <td>es_4087</td>\n",
              "      <td>2018</td>\n",
              "      <td>2</td>\n",
              "    </tr>\n",
              "    <tr>\n",
              "      <th>416</th>\n",
              "      <td>es_4104</td>\n",
              "      <td>2018</td>\n",
              "      <td>2</td>\n",
              "    </tr>\n",
              "    <tr>\n",
              "      <th>417</th>\n",
              "      <td>es_4134</td>\n",
              "      <td>2018</td>\n",
              "      <td>2</td>\n",
              "    </tr>\n",
              "    <tr>\n",
              "      <th>418</th>\n",
              "      <td>es_4156</td>\n",
              "      <td>2018</td>\n",
              "      <td>2</td>\n",
              "    </tr>\n",
              "    <tr>\n",
              "      <th>419</th>\n",
              "      <td>es_4189</td>\n",
              "      <td>2018</td>\n",
              "      <td>2</td>\n",
              "    </tr>\n",
              "  </tbody>\n",
              "</table>\n",
              "<p>420 rows × 3 columns</p>\n",
              "</div>\n",
              "      <button class=\"colab-df-convert\" onclick=\"convertToInteractive('df-5c85a009-7060-4ffa-8052-56d3073a721a')\"\n",
              "              title=\"Convert this dataframe to an interactive table.\"\n",
              "              style=\"display:none;\">\n",
              "        \n",
              "  <svg xmlns=\"http://www.w3.org/2000/svg\" height=\"24px\"viewBox=\"0 0 24 24\"\n",
              "       width=\"24px\">\n",
              "    <path d=\"M0 0h24v24H0V0z\" fill=\"none\"/>\n",
              "    <path d=\"M18.56 5.44l.94 2.06.94-2.06 2.06-.94-2.06-.94-.94-2.06-.94 2.06-2.06.94zm-11 1L8.5 8.5l.94-2.06 2.06-.94-2.06-.94L8.5 2.5l-.94 2.06-2.06.94zm10 10l.94 2.06.94-2.06 2.06-.94-2.06-.94-.94-2.06-.94 2.06-2.06.94z\"/><path d=\"M17.41 7.96l-1.37-1.37c-.4-.4-.92-.59-1.43-.59-.52 0-1.04.2-1.43.59L10.3 9.45l-7.72 7.72c-.78.78-.78 2.05 0 2.83L4 21.41c.39.39.9.59 1.41.59.51 0 1.02-.2 1.41-.59l7.78-7.78 2.81-2.81c.8-.78.8-2.07 0-2.86zM5.41 20L4 18.59l7.72-7.72 1.47 1.35L5.41 20z\"/>\n",
              "  </svg>\n",
              "      </button>\n",
              "      \n",
              "  <style>\n",
              "    .colab-df-container {\n",
              "      display:flex;\n",
              "      flex-wrap:wrap;\n",
              "      gap: 12px;\n",
              "    }\n",
              "\n",
              "    .colab-df-convert {\n",
              "      background-color: #E8F0FE;\n",
              "      border: none;\n",
              "      border-radius: 50%;\n",
              "      cursor: pointer;\n",
              "      display: none;\n",
              "      fill: #1967D2;\n",
              "      height: 32px;\n",
              "      padding: 0 0 0 0;\n",
              "      width: 32px;\n",
              "    }\n",
              "\n",
              "    .colab-df-convert:hover {\n",
              "      background-color: #E2EBFA;\n",
              "      box-shadow: 0px 1px 2px rgba(60, 64, 67, 0.3), 0px 1px 3px 1px rgba(60, 64, 67, 0.15);\n",
              "      fill: #174EA6;\n",
              "    }\n",
              "\n",
              "    [theme=dark] .colab-df-convert {\n",
              "      background-color: #3B4455;\n",
              "      fill: #D2E3FC;\n",
              "    }\n",
              "\n",
              "    [theme=dark] .colab-df-convert:hover {\n",
              "      background-color: #434B5C;\n",
              "      box-shadow: 0px 1px 3px 1px rgba(0, 0, 0, 0.15);\n",
              "      filter: drop-shadow(0px 1px 2px rgba(0, 0, 0, 0.3));\n",
              "      fill: #FFFFFF;\n",
              "    }\n",
              "  </style>\n",
              "\n",
              "      <script>\n",
              "        const buttonEl =\n",
              "          document.querySelector('#df-5c85a009-7060-4ffa-8052-56d3073a721a button.colab-df-convert');\n",
              "        buttonEl.style.display =\n",
              "          google.colab.kernel.accessAllowed ? 'block' : 'none';\n",
              "\n",
              "        async function convertToInteractive(key) {\n",
              "          const element = document.querySelector('#df-5c85a009-7060-4ffa-8052-56d3073a721a');\n",
              "          const dataTable =\n",
              "            await google.colab.kernel.invokeFunction('convertToInteractive',\n",
              "                                                     [key], {});\n",
              "          if (!dataTable) return;\n",
              "\n",
              "          const docLinkHtml = 'Like what you see? Visit the ' +\n",
              "            '<a target=\"_blank\" href=https://colab.research.google.com/notebooks/data_table.ipynb>data table notebook</a>'\n",
              "            + ' to learn more about interactive tables.';\n",
              "          element.innerHTML = '';\n",
              "          dataTable['output_type'] = 'display_data';\n",
              "          await google.colab.output.renderOutput(dataTable, element);\n",
              "          const docLink = document.createElement('div');\n",
              "          docLink.innerHTML = docLinkHtml;\n",
              "          element.appendChild(docLink);\n",
              "        }\n",
              "      </script>\n",
              "    </div>\n",
              "  </div>\n",
              "  "
            ]
          },
          "metadata": {},
          "execution_count": 251
        }
      ],
      "source": [
        "Datos=pd.DataFrame({'Alumnos':Alumnos,'Ingreso':Inicio,'Duracion':Duracion})\n",
        "Datos"
      ]
    },
    {
      "cell_type": "markdown",
      "source": [
        "VISUALIZAMOS LO OBTENIDO"
      ],
      "metadata": {
        "id": "20bxJq-z-utx"
      }
    },
    {
      "cell_type": "code",
      "source": [
        "import seaborn as sns\n",
        "sns.set(style=\"darkgrid\")\n",
        "sns.histplot(data=Datos, x=\"Ingreso\",kde=True)\n",
        "plt.show()"
      ],
      "metadata": {
        "colab": {
          "base_uri": "https://localhost:8080/",
          "height": 0
        },
        "id": "KpTxOU587psz",
        "outputId": "a8ffe609-2192-4be8-fd37-6c35e0f6013a"
      },
      "execution_count": 252,
      "outputs": [
        {
          "output_type": "display_data",
          "data": {
            "text/plain": [
              "<Figure size 432x288 with 1 Axes>"
            ],
            "image/png": "[encoded data removed]"
          },
          "metadata": {}
        }
      ]
    },
    {
      "cell_type": "code",
      "execution_count": 253,
      "metadata": {
        "id": "_14_CGy6qqk9"
      },
      "outputs": [],
      "source": [
        "xlin=Datos.iloc[:,1].values\n",
        "Xlin=xlin.reshape(-1, 1)\n",
        "ylin=Datos.iloc[:,2].values"
      ]
    },
    {
      "cell_type": "code",
      "execution_count": 254,
      "metadata": {
        "id": "kj6knL6Tqqk-"
      },
      "outputs": [],
      "source": [
        "from sklearn.model_selection import train_test_split\n",
        "from sklearn.linear_model import LinearRegression\n",
        "from sklearn.metrics import confusion_matrix\n",
        "from sklearn.metrics import mean_squared_error"
      ]
    },
    {
      "cell_type": "code",
      "execution_count": 255,
      "metadata": {
        "colab": {
          "base_uri": "https://localhost:8080/"
        },
        "id": "NOuI5VL6qqk-",
        "outputId": "b7a354e7-b341-4396-a679-013855f24c0c"
      },
      "outputs": [
        {
          "output_type": "stream",
          "name": "stdout",
          "text": [
            "Train Data shape: (378, 1)\n",
            "test Data shape: (42, 1)\n",
            "Train labels shape: (378,)\n",
            "test labels shape: (42,)\n"
          ]
        }
      ],
      "source": [
        "X_train,X_test,Y_train,Y_test=train_test_split(Xlin,ylin,test_size=0.1,random_state=0)\n",
        "print(\"Train Data shape: \" + str(X_train.shape)) #datos  \n",
        "print(\"test Data shape: \" + str(X_test.shape))\n",
        "print(\"Train labels shape: \" + str(Y_train.shape)) #datos  \n",
        "print(\"test labels shape: \" + str(Y_test.shape))"
      ]
    },
    {
      "cell_type": "code",
      "execution_count": 256,
      "metadata": {
        "colab": {
          "base_uri": "https://localhost:8080/"
        },
        "id": "qcz52TLyqqk_",
        "outputId": "00a5ab34-1281-43d6-921e-665997ff1d68"
      },
      "outputs": [
        {
          "output_type": "execute_result",
          "data": {
            "text/plain": [
              "LinearRegression()"
            ]
          },
          "metadata": {},
          "execution_count": 256
        }
      ],
      "source": [
        "lm = LinearRegression()\n",
        "lm.fit(X_train,Y_train)"
      ]
    },
    {
      "cell_type": "code",
      "execution_count": 257,
      "metadata": {
        "colab": {
          "base_uri": "https://localhost:8080/"
        },
        "id": "OoY-tTedqqlA",
        "outputId": "af0e65ab-36b8-4755-baa7-d52eb02562d9"
      },
      "outputs": [
        {
          "output_type": "stream",
          "name": "stdout",
          "text": [
            "Coeficiente de determinacion 0.18393233172103607\n",
            "b0: 663.0921736215854\n",
            "b1: [-0.32755153]\n"
          ]
        }
      ],
      "source": [
        "R_sq=lm.score(X_train,Y_train)\n",
        "print('Coeficiente de determinacion',R_sq)\n",
        "print('b0:',lm.intercept_)\n",
        "print('b1:',lm.coef_)"
      ]
    },
    {
      "cell_type": "code",
      "execution_count": 258,
      "metadata": {
        "colab": {
          "base_uri": "https://localhost:8080/"
        },
        "id": "CEuEJiKrqqlB",
        "outputId": "0c1eb48e-2d03-4eef-d8c2-d524b3ec50ff"
      },
      "outputs": [
        {
          "output_type": "execute_result",
          "data": {
            "text/plain": [
              "array([3.73093682, 2.74828222, 4.05848835, 3.73093682, 3.73093682,\n",
              "       3.40338529, 4.05848835, 3.07583375, 3.40338529, 3.07583375,\n",
              "       4.05848835, 3.73093682, 3.73093682, 3.40338529, 2.74828222,\n",
              "       3.40338529, 3.73093682, 2.09317915, 2.74828222, 3.07583375,\n",
              "       4.05848835, 4.05848835, 3.07583375, 4.05848835, 2.74828222,\n",
              "       2.42073069, 3.07583375, 3.73093682, 3.73093682, 3.40338529,\n",
              "       2.42073069, 4.05848835, 3.07583375, 3.07583375, 3.73093682,\n",
              "       2.74828222, 4.05848835, 3.73093682, 3.73093682, 2.42073069,\n",
              "       4.05848835, 3.07583375])"
            ]
          },
          "metadata": {},
          "execution_count": 258
        }
      ],
      "source": [
        "prediccion = lm.predict(X_test)\n",
        "prediccion"
      ]
    },
    {
      "cell_type": "code",
      "execution_count": 259,
      "metadata": {
        "colab": {
          "base_uri": "https://localhost:8080/"
        },
        "id": "U4p_abTdqqlH",
        "outputId": "f795124f-e3fc-4032-a376-e09bdfdaa70a"
      },
      "outputs": [
        {
          "output_type": "execute_result",
          "data": {
            "text/plain": [
              "3.38778759366996"
            ]
          },
          "metadata": {},
          "execution_count": 259
        }
      ],
      "source": [
        "np.mean(prediccion)"
      ]
    },
    {
      "cell_type": "code",
      "source": [
        "mse = mean_squared_error(Y_test,prediccion)\n",
        "print('Error cuadratico medio:',mse)"
      ],
      "metadata": {
        "colab": {
          "base_uri": "https://localhost:8080/"
        },
        "id": "SXcSfkYwJ-C7",
        "outputId": "fedf5e01-9325-4bd7-908e-f16d6b2a6b8a"
      },
      "execution_count": 260,
      "outputs": [
        {
          "output_type": "stream",
          "name": "stdout",
          "text": [
            "Error cuadratico medio: 1.6431632056465548\n"
          ]
        }
      ]
    },
    {
      "cell_type": "markdown",
      "source": [
        "## **REGRESION LOGISTICA**"
      ],
      "metadata": {
        "id": "jQnhMdSV8GId"
      }
    },
    {
      "cell_type": "code",
      "execution_count": 261,
      "metadata": {
        "id": "uCaVX40F8Y1E"
      },
      "outputs": [],
      "source": [
        "civil=civil[civil[\"Cod.Curso\"]<5]\n"
      ]
    },
    {
      "cell_type": "code",
      "execution_count": 262,
      "metadata": {
        "id": "HIeIuejH8Y1E"
      },
      "outputs": [],
      "source": [
        "daf=civil[(civil[\"Aprobado\"]==\"S\")|(civil[\"Aprobado\"]==\"N\") ]"
      ]
    },
    {
      "cell_type": "code",
      "execution_count": 263,
      "metadata": {
        "colab": {
          "base_uri": "https://localhost:8080/"
        },
        "id": "hQCreDoz8Y1E",
        "outputId": "90e54330-2b4e-4dba-f99f-f37f2875341c"
      },
      "outputs": [
        {
          "output_type": "stream",
          "name": "stdout",
          "text": [
            "2006\n"
          ]
        }
      ],
      "source": [
        "estudiantes=np.unique(daf['id_anony'])\n",
        "materias=np.unique(daf['Asignatura'])\n",
        "print(len(estudiantes))"
      ]
    },
    {
      "cell_type": "code",
      "execution_count": 264,
      "metadata": {
        "id": "Y53zelId8Y1F"
      },
      "outputs": [],
      "source": [
        "Alumnos=[]\n",
        "Alumnos.clear()\n",
        "Inicio=[]\n",
        "Inicio.clear()\n",
        "Duracion=[]\n",
        "Duracion.clear()\n",
        "Aprobado=[]\n",
        "Aprobado.clear()\n",
        "Mate=[]\n",
        "Mate.clear()\n",
        "for ides in estudiantes:\n",
        "    registro=daf[daf.id_anony.values==ides]\n",
        "    cant=np.unique(registro[\"Asignatura\"])\n",
        "    a=np.sum(cant=='CALCULO 4')\n",
        "    a=a+np.sum(cant=='DINAMICA')\n",
        "    a=a+np.sum(cant=='ESTRUCTURAS 1')\n",
        "    a=a+np.sum(cant=='FISICA 4')\n",
        "    a=a+np.sum(cant=='MECANICA DE MATERIALES 1')\n",
        "    regi=np.sum((registro[\"Cod.Curso\"].values==1))\n",
        "    pasadas=registro[registro[\"Aprobado\"]==\"S\"]\n",
        "    pasadas=np.unique(registro[\"Asignatura\"])\n",
        "    if regi>0:\n",
        "      if (a==5):\n",
        "        AnhoIn=min(registro[\"danho\"])\n",
        "        AnhoFin=max(registro[\"danho\"])\n",
        "        Tiempo=AnhoFin-AnhoIn\n",
        "        Alumnos.append(ides)\n",
        "        Duracion.append(Tiempo)\n",
        "        Inicio.append(AnhoIn)\n",
        "        Aprobado.append(1)\n",
        "    \n",
        "        Mate.append(len(pasadas))\n",
        "\n",
        "      else :\n",
        "        AnhoIn=min(registro[\"danho\"])\n",
        "        AnhoFin=max(registro[\"danho\"])\n",
        "        Tiempo=AnhoFin-AnhoIn\n",
        "        Alumnos.append(ides)\n",
        "        Duracion.append(Tiempo)\n",
        "        Inicio.append(AnhoIn)\n",
        "        Aprobado.append(0)\n",
        "        Mate.append(len(pasadas))\n",
        "      \n",
        "    "
      ]
    },
    {
      "cell_type": "code",
      "execution_count": 265,
      "metadata": {
        "colab": {
          "base_uri": "https://localhost:8080/",
          "height": 0
        },
        "id": "2i-DO4VH8Y1F",
        "outputId": "843d3d05-6b79-45cb-b33d-4166bcdb51ed"
      },
      "outputs": [
        {
          "output_type": "execute_result",
          "data": {
            "text/plain": [
              "      Alumnos  Ingreso  Duracion  Materias  CB Fin\n",
              "0      es_104     2012         9        14       0\n",
              "1     es_1102     2012         1        11       0\n",
              "2     es_1104     2012         4        22       1\n",
              "3     es_1108     2012         7        11       0\n",
              "4     es_1114     2012         4        20       1\n",
              "...       ...      ...       ...       ...     ...\n",
              "1516   es_496     2012         2         4       0\n",
              "1517   es_628     2012         1         8       0\n",
              "1518   es_766     2012         9        17       1\n",
              "1519   es_818     2012         2         4       0\n",
              "1520   es_827     2012         7        10       0\n",
              "\n",
              "[1521 rows x 5 columns]"
            ],
            "text/html": [
              "\n",
              "  <div id=\"df-29bb2af2-00db-49f1-9dc0-b9f72621a485\">\n",
              "    <div class=\"colab-df-container\">\n",
              "      <div>\n",
              "<style scoped>\n",
              "    .dataframe tbody tr th:only-of-type {\n",
              "        vertical-align: middle;\n",
              "    }\n",
              "\n",
              "    .dataframe tbody tr th {\n",
              "        vertical-align: top;\n",
              "    }\n",
              "\n",
              "    .dataframe thead th {\n",
              "        text-align: right;\n",
              "    }\n",
              "</style>\n",
              "<table border=\"1\" class=\"dataframe\">\n",
              "  <thead>\n",
              "    <tr style=\"text-align: right;\">\n",
              "      <th></th>\n",
              "      <th>Alumnos</th>\n",
              "      <th>Ingreso</th>\n",
              "      <th>Duracion</th>\n",
              "      <th>Materias</th>\n",
              "      <th>CB Fin</th>\n",
              "    </tr>\n",
              "  </thead>\n",
              "  <tbody>\n",
              "    <tr>\n",
              "      <th>0</th>\n",
              "      <td>es_104</td>\n",
              "      <td>2012</td>\n",
              "      <td>9</td>\n",
              "      <td>14</td>\n",
              "      <td>0</td>\n",
              "    </tr>\n",
              "    <tr>\n",
              "      <th>1</th>\n",
              "      <td>es_1102</td>\n",
              "      <td>2012</td>\n",
              "      <td>1</td>\n",
              "      <td>11</td>\n",
              "      <td>0</td>\n",
              "    </tr>\n",
              "    <tr>\n",
              "      <th>2</th>\n",
              "      <td>es_1104</td>\n",
              "      <td>2012</td>\n",
              "      <td>4</td>\n",
              "      <td>22</td>\n",
              "      <td>1</td>\n",
              "    </tr>\n",
              "    <tr>\n",
              "      <th>3</th>\n",
              "      <td>es_1108</td>\n",
              "      <td>2012</td>\n",
              "      <td>7</td>\n",
              "      <td>11</td>\n",
              "      <td>0</td>\n",
              "    </tr>\n",
              "    <tr>\n",
              "      <th>4</th>\n",
              "      <td>es_1114</td>\n",
              "      <td>2012</td>\n",
              "      <td>4</td>\n",
              "      <td>20</td>\n",
              "      <td>1</td>\n",
              "    </tr>\n",
              "    <tr>\n",
              "      <th>...</th>\n",
              "      <td>...</td>\n",
              "      <td>...</td>\n",
              "      <td>...</td>\n",
              "      <td>...</td>\n",
              "      <td>...</td>\n",
              "    </tr>\n",
              "    <tr>\n",
              "      <th>1516</th>\n",
              "      <td>es_496</td>\n",
              "      <td>2012</td>\n",
              "      <td>2</td>\n",
              "      <td>4</td>\n",
              "      <td>0</td>\n",
              "    </tr>\n",
              "    <tr>\n",
              "      <th>1517</th>\n",
              "      <td>es_628</td>\n",
              "      <td>2012</td>\n",
              "      <td>1</td>\n",
              "      <td>8</td>\n",
              "      <td>0</td>\n",
              "    </tr>\n",
              "    <tr>\n",
              "      <th>1518</th>\n",
              "      <td>es_766</td>\n",
              "      <td>2012</td>\n",
              "      <td>9</td>\n",
              "      <td>17</td>\n",
              "      <td>1</td>\n",
              "    </tr>\n",
              "    <tr>\n",
              "      <th>1519</th>\n",
              "      <td>es_818</td>\n",
              "      <td>2012</td>\n",
              "      <td>2</td>\n",
              "      <td>4</td>\n",
              "      <td>0</td>\n",
              "    </tr>\n",
              "    <tr>\n",
              "      <th>1520</th>\n",
              "      <td>es_827</td>\n",
              "      <td>2012</td>\n",
              "      <td>7</td>\n",
              "      <td>10</td>\n",
              "      <td>0</td>\n",
              "    </tr>\n",
              "  </tbody>\n",
              "</table>\n",
              "<p>1521 rows × 5 columns</p>\n",
              "</div>\n",
              "      <button class=\"colab-df-convert\" onclick=\"convertToInteractive('df-29bb2af2-00db-49f1-9dc0-b9f72621a485')\"\n",
              "              title=\"Convert this dataframe to an interactive table.\"\n",
              "              style=\"display:none;\">\n",
              "        \n",
              "  <svg xmlns=\"http://www.w3.org/2000/svg\" height=\"24px\"viewBox=\"0 0 24 24\"\n",
              "       width=\"24px\">\n",
              "    <path d=\"M0 0h24v24H0V0z\" fill=\"none\"/>\n",
              "    <path d=\"M18.56 5.44l.94 2.06.94-2.06 2.06-.94-2.06-.94-.94-2.06-.94 2.06-2.06.94zm-11 1L8.5 8.5l.94-2.06 2.06-.94-2.06-.94L8.5 2.5l-.94 2.06-2.06.94zm10 10l.94 2.06.94-2.06 2.06-.94-2.06-.94-.94-2.06-.94 2.06-2.06.94z\"/><path d=\"M17.41 7.96l-1.37-1.37c-.4-.4-.92-.59-1.43-.59-.52 0-1.04.2-1.43.59L10.3 9.45l-7.72 7.72c-.78.78-.78 2.05 0 2.83L4 21.41c.39.39.9.59 1.41.59.51 0 1.02-.2 1.41-.59l7.78-7.78 2.81-2.81c.8-.78.8-2.07 0-2.86zM5.41 20L4 18.59l7.72-7.72 1.47 1.35L5.41 20z\"/>\n",
              "  </svg>\n",
              "      </button>\n",
              "      \n",
              "  <style>\n",
              "    .colab-df-container {\n",
              "      display:flex;\n",
              "      flex-wrap:wrap;\n",
              "      gap: 12px;\n",
              "    }\n",
              "\n",
              "    .colab-df-convert {\n",
              "      background-color: #E8F0FE;\n",
              "      border: none;\n",
              "      border-radius: 50%;\n",
              "      cursor: pointer;\n",
              "      display: none;\n",
              "      fill: #1967D2;\n",
              "      height: 32px;\n",
              "      padding: 0 0 0 0;\n",
              "      width: 32px;\n",
              "    }\n",
              "\n",
              "    .colab-df-convert:hover {\n",
              "      background-color: #E2EBFA;\n",
              "      box-shadow: 0px 1px 2px rgba(60, 64, 67, 0.3), 0px 1px 3px 1px rgba(60, 64, 67, 0.15);\n",
              "      fill: #174EA6;\n",
              "    }\n",
              "\n",
              "    [theme=dark] .colab-df-convert {\n",
              "      background-color: #3B4455;\n",
              "      fill: #D2E3FC;\n",
              "    }\n",
              "\n",
              "    [theme=dark] .colab-df-convert:hover {\n",
              "      background-color: #434B5C;\n",
              "      box-shadow: 0px 1px 3px 1px rgba(0, 0, 0, 0.15);\n",
              "      filter: drop-shadow(0px 1px 2px rgba(0, 0, 0, 0.3));\n",
              "      fill: #FFFFFF;\n",
              "    }\n",
              "  </style>\n",
              "\n",
              "      <script>\n",
              "        const buttonEl =\n",
              "          document.querySelector('#df-29bb2af2-00db-49f1-9dc0-b9f72621a485 button.colab-df-convert');\n",
              "        buttonEl.style.display =\n",
              "          google.colab.kernel.accessAllowed ? 'block' : 'none';\n",
              "\n",
              "        async function convertToInteractive(key) {\n",
              "          const element = document.querySelector('#df-29bb2af2-00db-49f1-9dc0-b9f72621a485');\n",
              "          const dataTable =\n",
              "            await google.colab.kernel.invokeFunction('convertToInteractive',\n",
              "                                                     [key], {});\n",
              "          if (!dataTable) return;\n",
              "\n",
              "          const docLinkHtml = 'Like what you see? Visit the ' +\n",
              "            '<a target=\"_blank\" href=https://colab.research.google.com/notebooks/data_table.ipynb>data table notebook</a>'\n",
              "            + ' to learn more about interactive tables.';\n",
              "          element.innerHTML = '';\n",
              "          dataTable['output_type'] = 'display_data';\n",
              "          await google.colab.output.renderOutput(dataTable, element);\n",
              "          const docLink = document.createElement('div');\n",
              "          docLink.innerHTML = docLinkHtml;\n",
              "          element.appendChild(docLink);\n",
              "        }\n",
              "      </script>\n",
              "    </div>\n",
              "  </div>\n",
              "  "
            ]
          },
          "metadata": {},
          "execution_count": 265
        }
      ],
      "source": [
        "Datos=pd.DataFrame({'Alumnos':Alumnos,'Ingreso':Inicio,'Duracion':Duracion,'Materias':Mate,'CB Fin':Aprobado})\n",
        "Datos"
      ]
    },
    {
      "cell_type": "code",
      "execution_count": 266,
      "metadata": {
        "colab": {
          "base_uri": "https://localhost:8080/",
          "height": 0
        },
        "id": "z7pf8PsG8Y1G",
        "outputId": "3fe5af83-dc24-4d49-f593-28e857b56f04"
      },
      "outputs": [
        {
          "output_type": "execute_result",
          "data": {
            "text/plain": [
              "<matplotlib.axes._subplots.AxesSubplot at 0x7f6cf54f6d50>"
            ]
          },
          "metadata": {},
          "execution_count": 266
        },
        {
          "output_type": "display_data",
          "data": {
            "text/plain": [
              "<Figure size 432x288 with 2 Axes>"
            ],
            "image/png": "[encoded data removed]"
          },
          "metadata": {}
        }
      ],
      "source": [
        "import seaborn as sns\n",
        "import matplotlib.pyplot as plt\n",
        "table = pd.pivot_table(Datos,columns='Ingreso', values='Duracion', index='CB Fin')\n",
        "sns.heatmap(table,annot=True)"
      ]
    },
    {
      "cell_type": "code",
      "execution_count": 267,
      "metadata": {
        "id": "EwfV_fRm8Y1G"
      },
      "outputs": [],
      "source": [
        "x=Datos.iloc[:,1].values\n",
        "X=x.reshape(-1, 1)\n",
        "y=Datos.iloc[:,4].values"
      ]
    },
    {
      "cell_type": "code",
      "execution_count": 268,
      "metadata": {
        "id": "qwpLQjYU8Y1G"
      },
      "outputs": [],
      "source": [
        "X=Datos[['Ingreso','Duracion','Materias']].values"
      ]
    },
    {
      "cell_type": "code",
      "execution_count": 269,
      "metadata": {
        "id": "Q-qnB2yF8Y1H"
      },
      "outputs": [],
      "source": [
        "Y=Datos['CB Fin'].values"
      ]
    },
    {
      "cell_type": "code",
      "execution_count": 270,
      "metadata": {
        "id": "5MESzKUh8Y1I"
      },
      "outputs": [],
      "source": [
        "from sklearn.model_selection import train_test_split\n",
        "from sklearn.linear_model import LogisticRegression\n",
        "from sklearn import metrics\n",
        "import seaborn as sns\n",
        "from sklearn.metrics import confusion_matrix"
      ]
    },
    {
      "cell_type": "code",
      "execution_count": 271,
      "metadata": {
        "colab": {
          "base_uri": "https://localhost:8080/"
        },
        "id": "CMCy-_2m8Y1J",
        "outputId": "0cccdd10-c877-4483-d587-7084935b35f5"
      },
      "outputs": [
        {
          "output_type": "stream",
          "name": "stdout",
          "text": [
            "Train Data shape: (1368, 3)\n",
            "test Data shape: (153, 3)\n",
            "Train labels shape: (1368,)\n",
            "test labels shape: (153,)\n"
          ]
        }
      ],
      "source": [
        "X_train,X_test,Y_train,Y_test=train_test_split(X,Y,test_size=0.1,random_state=0)\n",
        "print(\"Train Data shape: \" + str(X_train.shape)) #datos  \n",
        "print(\"test Data shape: \" + str(X_test.shape))\n",
        "print(\"Train labels shape: \" + str(Y_train.shape)) #datos  \n",
        "print(\"test labels shape: \" + str(Y_test.shape))"
      ]
    },
    {
      "cell_type": "code",
      "execution_count": 272,
      "metadata": {
        "id": "uVkuAXVf8Y1J"
      },
      "outputs": [],
      "source": [
        "log_regression=LogisticRegression()"
      ]
    },
    {
      "cell_type": "code",
      "execution_count": 273,
      "metadata": {
        "colab": {
          "base_uri": "https://localhost:8080/"
        },
        "id": "fZctqzuX8Y1K",
        "outputId": "aed64219-67ff-41af-ed8a-462da8cdab07"
      },
      "outputs": [
        {
          "output_type": "execute_result",
          "data": {
            "text/plain": [
              "LogisticRegression()"
            ]
          },
          "metadata": {},
          "execution_count": 273
        }
      ],
      "source": [
        "log_regression.fit(X_train,Y_train)"
      ]
    },
    {
      "cell_type": "code",
      "execution_count": 274,
      "metadata": {
        "colab": {
          "base_uri": "https://localhost:8080/"
        },
        "id": "UbsGbIUc8Y1K",
        "outputId": "db172837-5109-4a6e-a926-c2bf998cd46a"
      },
      "outputs": [
        {
          "output_type": "execute_result",
          "data": {
            "text/plain": [
              "array([0, 0, 0, 0, 0, 0, 0, 1, 1, 1, 0, 0, 0, 0, 0, 0, 1, 0, 0, 0, 0, 1,\n",
              "       0, 0, 0, 1, 1, 1, 1, 0, 0, 0, 1, 0, 0, 0, 1, 0, 0, 0, 0, 1, 0, 0,\n",
              "       1, 0, 1, 0, 0, 0, 1, 1, 0, 0, 1, 1, 0, 0, 0, 1, 1, 1, 0, 1, 0, 0,\n",
              "       0, 0, 1, 0, 1, 0, 0, 0, 0, 0, 0, 0, 0, 1, 0, 1, 0, 0, 1, 0, 1, 1,\n",
              "       0, 0, 1, 0, 0, 0, 0, 1, 1, 0, 1, 0, 0, 0, 0, 0, 1, 0, 0, 0, 0, 1,\n",
              "       0, 0, 0, 0, 0, 0, 0, 0, 0, 0, 0, 1, 0, 0, 0, 0, 1, 0, 1, 0, 1, 1,\n",
              "       1, 1, 0, 0, 0, 1, 0, 1, 0, 1, 0, 0, 0, 0, 1, 0, 0, 0, 0, 1, 1])"
            ]
          },
          "metadata": {},
          "execution_count": 274
        }
      ],
      "source": [
        "Y_pred=log_regression.predict(X_test)\n",
        "Y_pred"
      ]
    },
    {
      "cell_type": "code",
      "execution_count": 275,
      "metadata": {
        "colab": {
          "base_uri": "https://localhost:8080/"
        },
        "id": "6ccJ0PI08Y1K",
        "outputId": "ebebe00d-a34f-4b8f-c03a-1714c255a8d8"
      },
      "outputs": [
        {
          "output_type": "stream",
          "name": "stdout",
          "text": [
            "La cantidad de alumnos: (153,)\n",
            "Alumnos que no aprobaron: 105\n",
            "Alumnos que aprobaron: 48\n"
          ]
        }
      ],
      "source": [
        "print('La cantidad de alumnos:',Y_pred.shape)\n",
        "nP=np.sum(Y_pred[:]==0)\n",
        "print('Alumnos que no aprobaron:',nP)\n",
        "P=np.sum(Y_pred[:]==1)\n",
        "print('Alumnos que aprobaron:',P)"
      ]
    },
    {
      "cell_type": "markdown",
      "metadata": {
        "id": "-T_GkdEQ8Y1L"
      },
      "source": [
        "Diagnosticos del modelo"
      ]
    },
    {
      "cell_type": "code",
      "execution_count": 276,
      "metadata": {
        "colab": {
          "base_uri": "https://localhost:8080/"
        },
        "id": "KX0axPon8Y1L",
        "outputId": "7508db9b-e43a-4698-9b9d-51656babad23"
      },
      "outputs": [
        {
          "output_type": "execute_result",
          "data": {
            "text/plain": [
              "array([[102,   3],\n",
              "       [  3,  45]])"
            ]
          },
          "metadata": {},
          "execution_count": 276
        }
      ],
      "source": [
        "matrix_confu=metrics.confusion_matrix(Y_test,Y_pred)\n",
        "matrix_confu"
      ]
    },
    {
      "cell_type": "code",
      "execution_count": 277,
      "metadata": {
        "id": "392R7cTJ8Y1L"
      },
      "outputs": [],
      "source": [
        "dataframe=pd.DataFrame(matrix_confu)"
      ]
    },
    {
      "cell_type": "code",
      "execution_count": 278,
      "metadata": {
        "colab": {
          "base_uri": "https://localhost:8080/",
          "height": 0
        },
        "id": "j-NnTXq-8Y1M",
        "outputId": "d80f8a4b-40a4-4d86-ab1f-ae237a791e6d"
      },
      "outputs": [
        {
          "output_type": "display_data",
          "data": {
            "text/plain": [
              "<Figure size 432x288 with 1 Axes>"
            ],
            "image/png": "[encoded data removed]"
          },
          "metadata": {}
        }
      ],
      "source": [
        "sns.heatmap(dataframe,annot=True,cbar=None,cmap=\"Blues\")\n",
        "plt.title(\"Confusion Matrix\"), plt.tight_layout()\n",
        "plt.ylabel(\"True Class\"),plt.xlabel(\"Predicted Class\")\n",
        "plt.show()"
      ]
    },
    {
      "cell_type": "code",
      "execution_count": 279,
      "metadata": {
        "colab": {
          "base_uri": "https://localhost:8080/"
        },
        "id": "IiQ_Vlx98Y1M",
        "outputId": "6a6fac14-51e5-4a91-f2e1-6c48d34a7413"
      },
      "outputs": [
        {
          "output_type": "stream",
          "name": "stdout",
          "text": [
            "Precision del modelo: 0.9607843137254902\n"
          ]
        }
      ],
      "source": [
        "print(\"Precision del modelo:\",metrics.accuracy_score(Y_test,Y_pred))"
      ]
    }
  ]
}