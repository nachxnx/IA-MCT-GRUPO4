{
 "cells": [
  {
   "cell_type": "markdown",
   "metadata": {},
   "source": [
    "IMPORTACION DE LIBRERIAS"
   ]
  },
  {
   "cell_type": "code",
   "execution_count": 1,
   "metadata": {
    "id": "_6-vmhdvjq5v"
   },
   "outputs": [],
   "source": [
    "import numpy as np\n",
    "import pandas as pd\n",
    "import matplotlib.pyplot as plt"
   ]
  },
  {
   "cell_type": "code",
   "execution_count": null,
   "metadata": {},
   "outputs": [],
   "source": []
  },
  {
   "cell_type": "markdown",
   "metadata": {},
   "source": [
    "LECTURA DE DATOS"
   ]
  },
  {
   "cell_type": "code",
   "execution_count": 2,
   "metadata": {},
   "outputs": [],
   "source": [
    "Lectura=pd.read_csv(\"datosConcatenadossinCI.csv\")"
   ]
  },
  {
   "cell_type": "code",
   "execution_count": null,
   "metadata": {},
   "outputs": [],
   "source": []
  },
  {
   "cell_type": "markdown",
   "metadata": {},
   "source": [
    "VISUALIZAMOS LOS PRIMEROS DATOS"
   ]
  },
  {
   "cell_type": "code",
   "execution_count": 3,
   "metadata": {},
   "outputs": [
    {
     "data": {
      "text/html": [
       "<div>\n",
       "<style scoped>\n",
       "    .dataframe tbody tr th:only-of-type {\n",
       "        vertical-align: middle;\n",
       "    }\n",
       "\n",
       "    .dataframe tbody tr th {\n",
       "        vertical-align: top;\n",
       "    }\n",
       "\n",
       "    .dataframe thead th {\n",
       "        text-align: right;\n",
       "    }\n",
       "</style>\n",
       "<table border=\"1\" class=\"dataframe\">\n",
       "  <thead>\n",
       "    <tr style=\"text-align: right;\">\n",
       "      <th></th>\n",
       "      <th>Unnamed: 0</th>\n",
       "      <th>danho</th>\n",
       "      <th>ciclo</th>\n",
       "      <th>Cod.Asign</th>\n",
       "      <th>Asignatura</th>\n",
       "      <th>Cod.Car.Sec</th>\n",
       "      <th>Cod.Curso</th>\n",
       "      <th>Convocatoria</th>\n",
       "      <th>Anho</th>\n",
       "      <th>Semestre</th>\n",
       "      <th>...</th>\n",
       "      <th>Segundo.Par</th>\n",
       "      <th>AOT</th>\n",
       "      <th>Primer.Rec</th>\n",
       "      <th>Segundo.Rec</th>\n",
       "      <th>Nota.Final</th>\n",
       "      <th>Tercer.Par</th>\n",
       "      <th>Asis</th>\n",
       "      <th>Cuarto.Par</th>\n",
       "      <th>4P_60</th>\n",
       "      <th>id_anony</th>\n",
       "    </tr>\n",
       "  </thead>\n",
       "  <tbody>\n",
       "    <tr>\n",
       "      <th>0</th>\n",
       "      <td>0</td>\n",
       "      <td>2012</td>\n",
       "      <td>1</td>\n",
       "      <td>2402</td>\n",
       "      <td>COMBUSTION</td>\n",
       "      <td>INT9MECANI</td>\n",
       "      <td>13</td>\n",
       "      <td>1</td>\n",
       "      <td>2012</td>\n",
       "      <td>1</td>\n",
       "      <td>...</td>\n",
       "      <td>0</td>\n",
       "      <td>0</td>\n",
       "      <td>0</td>\n",
       "      <td>0</td>\n",
       "      <td>NaN</td>\n",
       "      <td>0.0</td>\n",
       "      <td>1.0</td>\n",
       "      <td>NaN</td>\n",
       "      <td>NaN</td>\n",
       "      <td>es_0</td>\n",
       "    </tr>\n",
       "    <tr>\n",
       "      <th>1</th>\n",
       "      <td>1</td>\n",
       "      <td>2012</td>\n",
       "      <td>1</td>\n",
       "      <td>2402</td>\n",
       "      <td>COMBUSTION</td>\n",
       "      <td>MEC9-OPT</td>\n",
       "      <td>13</td>\n",
       "      <td>1</td>\n",
       "      <td>2012</td>\n",
       "      <td>1</td>\n",
       "      <td>...</td>\n",
       "      <td>14</td>\n",
       "      <td>8</td>\n",
       "      <td>0</td>\n",
       "      <td>0</td>\n",
       "      <td>1F-5</td>\n",
       "      <td>0.0</td>\n",
       "      <td>1.0</td>\n",
       "      <td>NaN</td>\n",
       "      <td>NaN</td>\n",
       "      <td>es_1</td>\n",
       "    </tr>\n",
       "    <tr>\n",
       "      <th>2</th>\n",
       "      <td>2</td>\n",
       "      <td>2012</td>\n",
       "      <td>1</td>\n",
       "      <td>2402</td>\n",
       "      <td>COMBUSTION</td>\n",
       "      <td>INT9MECANI</td>\n",
       "      <td>13</td>\n",
       "      <td>1</td>\n",
       "      <td>2012</td>\n",
       "      <td>1</td>\n",
       "      <td>...</td>\n",
       "      <td>23</td>\n",
       "      <td>9</td>\n",
       "      <td>0</td>\n",
       "      <td>0</td>\n",
       "      <td>1F-5</td>\n",
       "      <td>0.0</td>\n",
       "      <td>1.0</td>\n",
       "      <td>NaN</td>\n",
       "      <td>NaN</td>\n",
       "      <td>es_2</td>\n",
       "    </tr>\n",
       "    <tr>\n",
       "      <th>3</th>\n",
       "      <td>3</td>\n",
       "      <td>2012</td>\n",
       "      <td>1</td>\n",
       "      <td>2402</td>\n",
       "      <td>COMBUSTION</td>\n",
       "      <td>MEC9-OPT</td>\n",
       "      <td>13</td>\n",
       "      <td>1</td>\n",
       "      <td>2012</td>\n",
       "      <td>1</td>\n",
       "      <td>...</td>\n",
       "      <td>14</td>\n",
       "      <td>8</td>\n",
       "      <td>0</td>\n",
       "      <td>0</td>\n",
       "      <td>1F-1,2F-2</td>\n",
       "      <td>0.0</td>\n",
       "      <td>1.0</td>\n",
       "      <td>NaN</td>\n",
       "      <td>NaN</td>\n",
       "      <td>es_3</td>\n",
       "    </tr>\n",
       "    <tr>\n",
       "      <th>4</th>\n",
       "      <td>4</td>\n",
       "      <td>2012</td>\n",
       "      <td>1</td>\n",
       "      <td>2402</td>\n",
       "      <td>COMBUSTION</td>\n",
       "      <td>MEC9-OPT</td>\n",
       "      <td>13</td>\n",
       "      <td>1</td>\n",
       "      <td>2012</td>\n",
       "      <td>1</td>\n",
       "      <td>...</td>\n",
       "      <td>4</td>\n",
       "      <td>8</td>\n",
       "      <td>0</td>\n",
       "      <td>0</td>\n",
       "      <td>NaN</td>\n",
       "      <td>0.0</td>\n",
       "      <td>1.0</td>\n",
       "      <td>NaN</td>\n",
       "      <td>NaN</td>\n",
       "      <td>es_4</td>\n",
       "    </tr>\n",
       "  </tbody>\n",
       "</table>\n",
       "<p>5 rows × 23 columns</p>\n",
       "</div>"
      ],
      "text/plain": [
       "   Unnamed: 0  danho  ciclo  Cod.Asign  Asignatura Cod.Car.Sec  Cod.Curso  \\\n",
       "0           0   2012      1       2402  COMBUSTION  INT9MECANI         13   \n",
       "1           1   2012      1       2402  COMBUSTION  MEC9-OPT           13   \n",
       "2           2   2012      1       2402  COMBUSTION  INT9MECANI         13   \n",
       "3           3   2012      1       2402  COMBUSTION  MEC9-OPT           13   \n",
       "4           4   2012      1       2402  COMBUSTION  MEC9-OPT           13   \n",
       "\n",
       "   Convocatoria  Anho  Semestre  ... Segundo.Par  AOT  Primer.Rec  \\\n",
       "0             1  2012         1  ...           0    0           0   \n",
       "1             1  2012         1  ...          14    8           0   \n",
       "2             1  2012         1  ...          23    9           0   \n",
       "3             1  2012         1  ...          14    8           0   \n",
       "4             1  2012         1  ...           4    8           0   \n",
       "\n",
       "   Segundo.Rec  Nota.Final  Tercer.Par  Asis Cuarto.Par  4P_60  id_anony  \n",
       "0            0         NaN         0.0   1.0        NaN    NaN      es_0  \n",
       "1            0        1F-5         0.0   1.0        NaN    NaN      es_1  \n",
       "2            0        1F-5         0.0   1.0        NaN    NaN      es_2  \n",
       "3            0   1F-1,2F-2         0.0   1.0        NaN    NaN      es_3  \n",
       "4            0         NaN         0.0   1.0        NaN    NaN      es_4  \n",
       "\n",
       "[5 rows x 23 columns]"
      ]
     },
     "execution_count": 3,
     "metadata": {},
     "output_type": "execute_result"
    }
   ],
   "source": [
    "Lectura.head()"
   ]
  },
  {
   "cell_type": "code",
   "execution_count": 265,
   "metadata": {},
   "outputs": [],
   "source": [
    "#Visualizamos que tamaño tienen los datos\n",
    "#print('Tamaño de los datos: ',Lectura.shape)"
   ]
  },
  {
   "cell_type": "code",
   "execution_count": 266,
   "metadata": {},
   "outputs": [],
   "source": [
    "#Hay valores nulos en los datos?\n",
    "#Lectura.info()"
   ]
  },
  {
   "cell_type": "markdown",
   "metadata": {},
   "source": [
    "ANALIZAMOS LOS CODIGO DE CARRERAS"
   ]
  },
  {
   "cell_type": "code",
   "execution_count": 4,
   "metadata": {},
   "outputs": [
    {
     "data": {
      "text/plain": [
       "array(['CGF-175-09', 'CGF-PLS09 ', 'CGF-PLS13 ', 'CIV-175-09',\n",
       "       'CIV-PLS09 ', 'CIV-PLS13 ', 'ECA-175-09', 'ECA-PLS09 ',\n",
       "       'ECA-PLS13 ', 'ECA9-OPT  ', 'ELE-175-09', 'ELE-PLS09 ',\n",
       "       'ELE-PLS13 ', 'IND-175-09', 'IND-PLS09 ', 'IND-PLS13 ',\n",
       "       'INT9-PROYT', 'INT9CONSTR', 'INT9ELECTR', 'INT9G-ECO ',\n",
       "       'INT9MECANI', 'INT9ORTERR', 'INT9RNYMA ', 'INT9SANEHI',\n",
       "       'INT9SDIGYT', 'INT9TRANSP', 'MCT-175-09', 'MCT-PLS09 ',\n",
       "       'MCT-PLS13 ', 'MCT9-OPT  ', 'MEC-175-09', 'MEC-PLS09 ',\n",
       "       'MEC-PLS13 ', 'MEC9-OPT  ', 'TIVAS     '], dtype=object)"
      ]
     },
     "execution_count": 4,
     "metadata": {},
     "output_type": "execute_result"
    }
   ],
   "source": [
    "np.unique(Lectura[\"Cod.Car.Sec\"])"
   ]
  },
  {
   "cell_type": "code",
   "execution_count": null,
   "metadata": {},
   "outputs": [],
   "source": []
  },
  {
   "cell_type": "markdown",
   "metadata": {},
   "source": [
    "SEPARAMOS LOS DATOS PARA SER ANALIZDOS:\n",
    "En este caso seleccione  los de la carrera de ING. CIVIL"
   ]
  },
  {
   "cell_type": "code",
   "execution_count": 5,
   "metadata": {},
   "outputs": [
    {
     "name": "stdout",
     "output_type": "stream",
     "text": [
      "CIV-175-09\n",
      "CIV-PLS09 \n",
      "CIV-PLS13 \n"
     ]
    }
   ],
   "source": [
    "civil=pd.DataFrame(columns=Lectura.columns)\n",
    "for car in ['CIV-175-09','CIV-PLS09 ', 'CIV-PLS13 ']:\n",
    "    print(car)\n",
    "    civil=pd.concat([civil, Lectura[Lectura[\"Cod.Car.Sec\"]==car]], axis=0)"
   ]
  },
  {
   "cell_type": "code",
   "execution_count": null,
   "metadata": {},
   "outputs": [],
   "source": []
  },
  {
   "cell_type": "code",
   "execution_count": null,
   "metadata": {},
   "outputs": [],
   "source": []
  },
  {
   "cell_type": "markdown",
   "metadata": {},
   "source": [
    "MATERIAS DEL PRIMER SEMESTRE"
   ]
  },
  {
   "cell_type": "code",
   "execution_count": 6,
   "metadata": {},
   "outputs": [
    {
     "data": {
      "text/plain": [
       "array(['ALGEBRA LINEAL 1', 'CALCULO 1', 'DIBUJO TECNICO', 'FISICA 1',\n",
       "       'GEOMETRIA ANALITICA', 'GEOMETRIA DESCRIPTIVA'], dtype=object)"
      ]
     },
     "execution_count": 6,
     "metadata": {},
     "output_type": "execute_result"
    }
   ],
   "source": [
    "primerS=civil[ (civil[\"Cod.Curso\"]==1) & (civil[\"Aprobado\"]==\"S\")]\n",
    "CprimerS=np.unique(primerS[\"Asignatura\"])\n",
    "CprimerS\n"
   ]
  },
  {
   "cell_type": "code",
   "execution_count": null,
   "metadata": {},
   "outputs": [],
   "source": []
  },
  {
   "cell_type": "code",
   "execution_count": null,
   "metadata": {},
   "outputs": [],
   "source": []
  },
  {
   "cell_type": "markdown",
   "metadata": {},
   "source": [
    "FILTRO LOS ID QUE CURSARON TODAS MATERIAS DEL CUARTO SEMESTRE"
   ]
  },
  {
   "cell_type": "code",
   "execution_count": 7,
   "metadata": {},
   "outputs": [
    {
     "name": "stdout",
     "output_type": "stream",
     "text": [
      "CALCULO 4\n",
      "DINAMICA\n",
      "ESTRUCTURAS 1\n",
      "FISICA 4\n",
      "MECANICA DE MATERIALES 1\n",
      "Cantidad de elementos (8848, 23)\n"
     ]
    }
   ],
   "source": [
    "newdata=pd.DataFrame(columns=civil.columns)\n",
    "for mat in ['CALCULO 4', 'DINAMICA', 'ESTRUCTURAS 1', 'FISICA 4',\n",
    "       'MECANICA DE MATERIALES 1']:\n",
    "    newdata=pd.concat([newdata, civil[civil[\"Asignatura\"]==mat]], axis=0)\n",
    "    print(mat)\n",
    "print('Cantidad de elementos',newdata.shape)"
   ]
  },
  {
   "cell_type": "code",
   "execution_count": null,
   "metadata": {},
   "outputs": [],
   "source": []
  },
  {
   "cell_type": "code",
   "execution_count": null,
   "metadata": {},
   "outputs": [],
   "source": []
  },
  {
   "cell_type": "markdown",
   "metadata": {},
   "source": [
    "SEGUIDAMENTE FILTRO SOLO LOS QUE TIENEN APROBADO ESAS MATERIAS"
   ]
  },
  {
   "cell_type": "code",
   "execution_count": 8,
   "metadata": {},
   "outputs": [
    {
     "name": "stdout",
     "output_type": "stream",
     "text": [
      "Cantidad de elementos (4054, 23)\n"
     ]
    }
   ],
   "source": [
    "df=newdata[newdata[\"Aprobado\"]==\"S\"]\n",
    "print('Cantidad de elementos',df.shape)"
   ]
  },
  {
   "cell_type": "code",
   "execution_count": null,
   "metadata": {},
   "outputs": [],
   "source": []
  },
  {
   "cell_type": "code",
   "execution_count": null,
   "metadata": {},
   "outputs": [],
   "source": []
  },
  {
   "cell_type": "markdown",
   "metadata": {},
   "source": [
    "LUEGO VISUALIZAMOS LA CANTIDAD DE ESTUDIANTES REALES"
   ]
  },
  {
   "cell_type": "code",
   "execution_count": 9,
   "metadata": {},
   "outputs": [
    {
     "name": "stdout",
     "output_type": "stream",
     "text": [
      "968\n"
     ]
    }
   ],
   "source": [
    "estudiantes=np.unique(df['id_anony'])\n",
    "materias=np.unique(df['Asignatura'])\n",
    "print(len(estudiantes))"
   ]
  },
  {
   "cell_type": "code",
   "execution_count": 10,
   "metadata": {},
   "outputs": [],
   "source": [
    "#nuevo=df[df.id_anony.values=='es_4160']\n",
    "#nuevo=civil[civil.id_anony.values=='es_4160']\n",
    "#nuevo"
   ]
  },
  {
   "cell_type": "code",
   "execution_count": 11,
   "metadata": {},
   "outputs": [],
   "source": [
    "#estudiantes"
   ]
  },
  {
   "cell_type": "code",
   "execution_count": null,
   "metadata": {},
   "outputs": [],
   "source": []
  },
  {
   "cell_type": "code",
   "execution_count": 15,
   "metadata": {},
   "outputs": [],
   "source": [
    "Alumnos=[]\n",
    "Alumnos.clear()\n",
    "Inicio=[]\n",
    "Inicio.clear()\n",
    "Duracion=[]\n",
    "Duracion.clear()"
   ]
  },
  {
   "cell_type": "code",
   "execution_count": 16,
   "metadata": {},
   "outputs": [],
   "source": [
    "for ides in estudiantes:\n",
    "    registro=df[df.id_anony.values==ides]\n",
    "    regis=civil[civil.id_anony.values==ides]\n",
    "    cant=np.unique(registro[\"Asignatura\"])\n",
    "    a=np.sum(cant=='CALCULO 4')\n",
    "    a=a+np.sum(cant=='DINAMICA')\n",
    "    a=a+np.sum(cant=='ESTRUCTURAS 1')\n",
    "    a=a+np.sum(cant=='FISICA 4')\n",
    "    a=a+np.sum(cant=='MECANICA DE MATERIALES 1')\n",
    "    regi=np.sum((regis[\"Cod.Curso\"].values==1))\n",
    "    if (a==5)&(regi>0):\n",
    "        ides\n",
    "        AnhoIn=min(regis[\"danho\"])\n",
    "        AnhoFin=max(registro[\"danho\"])\n",
    "        Tiempo=AnhoFin-AnhoIn\n",
    "        Alumnos.append(ides)\n",
    "        Duracion.append(Tiempo)\n",
    "        Inicio.append(AnhoIn)\n",
    "        #print(ides,Tiempo)"
   ]
  },
  {
   "cell_type": "raw",
   "metadata": {},
   "source": []
  },
  {
   "cell_type": "code",
   "execution_count": 50,
   "metadata": {},
   "outputs": [
    {
     "data": {
      "text/html": [
       "<div>\n",
       "<style scoped>\n",
       "    .dataframe tbody tr th:only-of-type {\n",
       "        vertical-align: middle;\n",
       "    }\n",
       "\n",
       "    .dataframe tbody tr th {\n",
       "        vertical-align: top;\n",
       "    }\n",
       "\n",
       "    .dataframe thead th {\n",
       "        text-align: right;\n",
       "    }\n",
       "</style>\n",
       "<table border=\"1\" class=\"dataframe\">\n",
       "  <thead>\n",
       "    <tr style=\"text-align: right;\">\n",
       "      <th></th>\n",
       "      <th>Alumnos</th>\n",
       "      <th>Ingreso</th>\n",
       "      <th>Duracion</th>\n",
       "    </tr>\n",
       "  </thead>\n",
       "  <tbody>\n",
       "    <tr>\n",
       "      <th>0</th>\n",
       "      <td>es_1164</td>\n",
       "      <td>2012</td>\n",
       "      <td>4</td>\n",
       "    </tr>\n",
       "    <tr>\n",
       "      <th>1</th>\n",
       "      <td>es_1185</td>\n",
       "      <td>2012</td>\n",
       "      <td>3</td>\n",
       "    </tr>\n",
       "    <tr>\n",
       "      <th>2</th>\n",
       "      <td>es_1204</td>\n",
       "      <td>2012</td>\n",
       "      <td>8</td>\n",
       "    </tr>\n",
       "    <tr>\n",
       "      <th>3</th>\n",
       "      <td>es_1244</td>\n",
       "      <td>2012</td>\n",
       "      <td>5</td>\n",
       "    </tr>\n",
       "    <tr>\n",
       "      <th>4</th>\n",
       "      <td>es_1253</td>\n",
       "      <td>2012</td>\n",
       "      <td>4</td>\n",
       "    </tr>\n",
       "    <tr>\n",
       "      <th>...</th>\n",
       "      <td>...</td>\n",
       "      <td>...</td>\n",
       "      <td>...</td>\n",
       "    </tr>\n",
       "    <tr>\n",
       "      <th>415</th>\n",
       "      <td>es_4087</td>\n",
       "      <td>2018</td>\n",
       "      <td>2</td>\n",
       "    </tr>\n",
       "    <tr>\n",
       "      <th>416</th>\n",
       "      <td>es_4104</td>\n",
       "      <td>2018</td>\n",
       "      <td>2</td>\n",
       "    </tr>\n",
       "    <tr>\n",
       "      <th>417</th>\n",
       "      <td>es_4134</td>\n",
       "      <td>2018</td>\n",
       "      <td>2</td>\n",
       "    </tr>\n",
       "    <tr>\n",
       "      <th>418</th>\n",
       "      <td>es_4156</td>\n",
       "      <td>2018</td>\n",
       "      <td>2</td>\n",
       "    </tr>\n",
       "    <tr>\n",
       "      <th>419</th>\n",
       "      <td>es_4189</td>\n",
       "      <td>2018</td>\n",
       "      <td>2</td>\n",
       "    </tr>\n",
       "  </tbody>\n",
       "</table>\n",
       "<p>420 rows × 3 columns</p>\n",
       "</div>"
      ],
      "text/plain": [
       "     Alumnos  Ingreso  Duracion\n",
       "0    es_1164     2012         4\n",
       "1    es_1185     2012         3\n",
       "2    es_1204     2012         8\n",
       "3    es_1244     2012         5\n",
       "4    es_1253     2012         4\n",
       "..       ...      ...       ...\n",
       "415  es_4087     2018         2\n",
       "416  es_4104     2018         2\n",
       "417  es_4134     2018         2\n",
       "418  es_4156     2018         2\n",
       "419  es_4189     2018         2\n",
       "\n",
       "[420 rows x 3 columns]"
      ]
     },
     "execution_count": 50,
     "metadata": {},
     "output_type": "execute_result"
    }
   ],
   "source": [
    "Datos=pd.DataFrame({'Alumnos':Alumnos,'Ingreso':Inicio,'Duracion':Duracion})\n",
    "Datos"
   ]
  },
  {
   "cell_type": "code",
   "execution_count": 74,
   "metadata": {},
   "outputs": [],
   "source": [
    "#Datos.iloc[:,0]"
   ]
  },
  {
   "cell_type": "code",
   "execution_count": 51,
   "metadata": {},
   "outputs": [],
   "source": [
    "x=Datos.iloc[:,1].values\n",
    "X=x.reshape(-1, 1)\n",
    "y=Datos.iloc[:,2].values\n",
    "\n",
    "#x = Datos[\"Ingreso\"]\n",
    "#y = Datos[\"Duracion\"]"
   ]
  },
  {
   "cell_type": "code",
   "execution_count": 52,
   "metadata": {},
   "outputs": [
    {
     "data": {
      "image/png": "[encoded data removed]",
      "text/plain": [
       "<Figure size 432x288 with 1 Axes>"
      ]
     },
     "metadata": {
      "needs_background": "light"
     },
     "output_type": "display_data"
    }
   ],
   "source": [
    "plt.scatter(x,y,alpha=0.5)\n",
    "plt.show()"
   ]
  },
  {
   "cell_type": "code",
   "execution_count": null,
   "metadata": {},
   "outputs": [],
   "source": []
  },
  {
   "cell_type": "code",
   "execution_count": 57,
   "metadata": {},
   "outputs": [],
   "source": [
    "from sklearn.model_selection import train_test_split\n",
    "from sklearn.linear_model import LinearRegression"
   ]
  },
  {
   "cell_type": "code",
   "execution_count": 56,
   "metadata": {},
   "outputs": [
    {
     "name": "stdout",
     "output_type": "stream",
     "text": [
      "Train Data shape: (378, 1)\n",
      "test Data shape: (42, 1)\n",
      "Train labels shape: (378,)\n",
      "test labels shape: (42,)\n"
     ]
    }
   ],
   "source": [
    "X_train,X_test,Y_train,Y_test=train_test_split(X,Y,test_size=0.1)\n",
    "print(\"Train Data shape: \" + str(X_train.shape)) #datos  \n",
    "print(\"test Data shape: \" + str(X_test.shape))\n",
    "print(\"Train labels shape: \" + str(Y_train.shape)) #datos  \n",
    "print(\"test labels shape: \" + str(Y_test.shape))"
   ]
  },
  {
   "cell_type": "code",
   "execution_count": 58,
   "metadata": {},
   "outputs": [
    {
     "data": {
      "text/plain": [
       "LinearRegression()"
      ]
     },
     "execution_count": 58,
     "metadata": {},
     "output_type": "execute_result"
    }
   ],
   "source": [
    "lm = LinearRegression()\n",
    "lm.fit(X_train,Y_train)"
   ]
  },
  {
   "cell_type": "code",
   "execution_count": 59,
   "metadata": {},
   "outputs": [
    {
     "name": "stdout",
     "output_type": "stream",
     "text": [
      "Coeficiente de determinacion 0.1858150238795041\n",
      "b0: 688.0252752818847\n",
      "b1: [-0.33992121]\n"
     ]
    }
   ],
   "source": [
    "R_sq=lm.score(X_train,Y_train)\n",
    "print('Coeficiente de determinacion',R_sq)\n",
    "print('b0:',lm.intercept_)\n",
    "print('b1:',lm.coef_)"
   ]
  },
  {
   "cell_type": "code",
   "execution_count": 73,
   "metadata": {},
   "outputs": [
    {
     "data": {
      "text/plain": [
       "array([3.4239497 , 2.74410728, 2.40418606, 2.74410728, 4.10379213,\n",
       "       4.10379213, 3.76387092, 4.10379213, 3.76387092, 4.10379213,\n",
       "       2.06426485, 2.74410728, 3.4239497 , 4.10379213, 4.10379213,\n",
       "       3.08402849, 3.08402849, 3.76387092, 2.74410728, 3.08402849,\n",
       "       2.40418606, 2.06426485, 2.74410728, 4.10379213, 4.10379213,\n",
       "       4.10379213, 2.06426485, 3.08402849, 4.10379213, 3.4239497 ,\n",
       "       4.10379213, 2.74410728, 3.76387092, 3.76387092, 3.4239497 ,\n",
       "       4.10379213, 3.76387092, 3.08402849, 3.76387092, 3.76387092,\n",
       "       3.76387092, 3.08402849])"
      ]
     },
     "execution_count": 73,
     "metadata": {},
     "output_type": "execute_result"
    }
   ],
   "source": [
    "prediccion = lm.predict(X_test)\n",
    "prediccion"
   ]
  },
  {
   "cell_type": "code",
   "execution_count": 76,
   "metadata": {},
   "outputs": [
    {
     "data": {
      "text/plain": [
       "3.3996696171584815"
      ]
     },
     "execution_count": 76,
     "metadata": {},
     "output_type": "execute_result"
    }
   ],
   "source": [
    "np.mean(prediccion)"
   ]
  },
  {
   "cell_type": "code",
   "execution_count": 78,
   "metadata": {},
   "outputs": [
    {
     "data": {
      "image/png": "[encoded data removed]",
      "text/plain": [
       "<Figure size 432x288 with 1 Axes>"
      ]
     },
     "metadata": {
      "needs_background": "light"
     },
     "output_type": "display_data"
    }
   ],
   "source": [
    "plt.scatter(X_test,Y_test,alpha=0.5)\n",
    "plt.show()"
   ]
  },
  {
   "cell_type": "code",
   "execution_count": null,
   "metadata": {},
   "outputs": [],
   "source": []
  },
  {
   "cell_type": "code",
   "execution_count": null,
   "metadata": {},
   "outputs": [],
   "source": []
  },
  {
   "cell_type": "code",
   "execution_count": null,
   "metadata": {},
   "outputs": [],
   "source": []
  },
  {
   "cell_type": "code",
   "execution_count": null,
   "metadata": {},
   "outputs": [],
   "source": [
    "#'es_4104'\n",
    "#primerS.loc[['es_4134']]"
   ]
  }
 ],
 "metadata": {
  "colab": {
   "name": "Untitled2.ipynb",
   "provenance": []
  },
  "kernelspec": {
   "display_name": "Python 3 (ipykernel)",
   "language": "python",
   "name": "python3"
  },
  "language_info": {
   "codemirror_mode": {
    "name": "ipython",
    "version": 3
   },
   "file_extension": ".py",
   "mimetype": "text/x-python",
   "name": "python",
   "nbconvert_exporter": "python",
   "pygments_lexer": "ipython3",
   "version": "3.9.7"
  }
 },
 "nbformat": 4,
 "nbformat_minor": 4
}
