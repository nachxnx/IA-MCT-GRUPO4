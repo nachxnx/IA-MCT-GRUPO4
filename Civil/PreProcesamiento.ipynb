{
 "cells": [
  {
   "cell_type": "code",
   "execution_count": 2,
   "metadata": {
    "id": "_6-vmhdvjq5v"
   },
   "outputs": [],
   "source": [
    "import numpy as np\n",
    "import pandas as pd\n",
    "import matplotlib.pyplot as plt"
   ]
  },
  {
   "cell_type": "code",
   "execution_count": 5,
   "metadata": {},
   "outputs": [],
   "source": [
    "Lectura=pd.read_csv(\"datosConcatenados/datosConcatenados.csv\")"
   ]
  },
  {
   "cell_type": "code",
   "execution_count": 6,
   "metadata": {},
   "outputs": [
    {
     "name": "stdout",
     "output_type": "stream",
     "text": [
      "<class 'pandas.core.frame.DataFrame'>\n",
      "RangeIndex: 221921 entries, 0 to 221920\n",
      "Data columns (total 23 columns):\n",
      " #   Column        Non-Null Count   Dtype  \n",
      "---  ------        --------------   -----  \n",
      " 0   Unnamed: 0    221921 non-null  int64  \n",
      " 1   danho         221921 non-null  int64  \n",
      " 2   ciclo         221921 non-null  int64  \n",
      " 3   Cod.Asign     221921 non-null  int64  \n",
      " 4   Asignatura    221921 non-null  object \n",
      " 5   Cod.Car.Sec   221921 non-null  object \n",
      " 6   Cod.Curso     221921 non-null  int64  \n",
      " 7   Convocatoria  221921 non-null  int64  \n",
      " 8   Anho          221921 non-null  int64  \n",
      " 9   Semestre      221921 non-null  int64  \n",
      " 10  Aprobado      221921 non-null  object \n",
      " 11  Anho.Firma    221921 non-null  int64  \n",
      " 12  Primer.Par    221921 non-null  int64  \n",
      " 13  Segundo.Par   221921 non-null  int64  \n",
      " 14  AOT           221921 non-null  int64  \n",
      " 15  Primer.Rec    221921 non-null  int64  \n",
      " 16  Segundo.Rec   221921 non-null  int64  \n",
      " 17  Nota.Final    137115 non-null  object \n",
      " 18  Tercer.Par    221921 non-null  float64\n",
      " 19  Asis          221921 non-null  float64\n",
      " 20  Cuarto.Par    28045 non-null   float64\n",
      " 21  4P_60         28045 non-null   float64\n",
      " 22  id_anony      221921 non-null  object \n",
      "dtypes: float64(4), int64(14), object(5)\n",
      "memory usage: 38.9+ MB\n"
     ]
    }
   ],
   "source": [
    "Lectura.info()"
   ]
  }
 ],
 "metadata": {
  "colab": {
   "name": "Untitled2.ipynb",
   "provenance": []
  },
  "kernelspec": {
   "display_name": "Python 3 (ipykernel)",
   "language": "python",
   "name": "python3"
  },
  "language_info": {
   "codemirror_mode": {
    "name": "ipython",
    "version": 3
   },
   "file_extension": ".py",
   "mimetype": "text/x-python",
   "name": "python",
   "nbconvert_exporter": "python",
   "pygments_lexer": "ipython3",
   "version": "3.9.7"
  }
 },
 "nbformat": 4,
 "nbformat_minor": 4
}
