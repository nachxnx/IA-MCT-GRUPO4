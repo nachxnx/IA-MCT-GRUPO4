{
  "cells": [
    {
      "cell_type": "markdown",
      "metadata": {
        "id": "VYwY_yiHqqjO"
      },
      "source": [
        "IMPORTACION DE LIBRERIAS"
      ]
    },
    {
      "cell_type": "code",
      "execution_count": 1,
      "metadata": {
        "id": "_6-vmhdvjq5v"
      },
      "outputs": [],
      "source": [
        "import numpy as np\n",
        "import pandas as pd\n",
        "import matplotlib.pyplot as plt"
      ]
    },
    {
      "cell_type": "code",
      "execution_count": null,
      "metadata": {
        "id": "TkUowqZsqqjb"
      },
      "outputs": [],
      "source": [
        ""
      ]
    },
    {
      "cell_type": "markdown",
      "metadata": {
        "id": "jM8IBZjfqqjb"
      },
      "source": [
        "LECTURA DE DATOS"
      ]
    },
    {
      "cell_type": "code",
      "execution_count": 3,
      "metadata": {
        "id": "u9US2e2Iqqjc"
      },
      "outputs": [],
      "source": [
        "Lectura=pd.read_csv(\"datosConcatenadossinCI.csv\")"
      ]
    },
    {
      "cell_type": "code",
      "execution_count": 2,
      "metadata": {
        "id": "x2CfFLpzqqjd"
      },
      "outputs": [],
      "source": [
        ""
      ]
    },
    {
      "cell_type": "markdown",
      "metadata": {
        "id": "S83VoVa2qqje"
      },
      "source": [
        "VISUALIZAMOS LOS PRIMEROS DATOS"
      ]
    },
    {
      "cell_type": "code",
      "execution_count": 4,
      "metadata": {
        "colab": {
          "base_uri": "https://localhost:8080/",
          "height": 317
        },
        "id": "W0AVRQh5qqjf",
        "outputId": "8dac6906-216c-4f11-c0e7-b65b08217b31"
      },
      "outputs": [
        {
          "output_type": "execute_result",
          "data": {
            "text/plain": [
              "   Unnamed: 0  danho  ciclo  Cod.Asign  Asignatura Cod.Car.Sec  Cod.Curso  \\\n",
              "0           0   2012      1       2402  COMBUSTION  INT9MECANI         13   \n",
              "1           1   2012      1       2402  COMBUSTION  MEC9-OPT           13   \n",
              "2           2   2012      1       2402  COMBUSTION  INT9MECANI         13   \n",
              "3           3   2012      1       2402  COMBUSTION  MEC9-OPT           13   \n",
              "4           4   2012      1       2402  COMBUSTION  MEC9-OPT           13   \n",
              "\n",
              "   Convocatoria  Anho  Semestre  ... Segundo.Par  AOT  Primer.Rec  \\\n",
              "0             1  2012         1  ...           0    0           0   \n",
              "1             1  2012         1  ...          14    8           0   \n",
              "2             1  2012         1  ...          23    9           0   \n",
              "3             1  2012         1  ...          14    8           0   \n",
              "4             1  2012         1  ...           4    8           0   \n",
              "\n",
              "   Segundo.Rec  Nota.Final  Tercer.Par  Asis Cuarto.Par  4P_60  id_anony  \n",
              "0            0         NaN         0.0   1.0        NaN    NaN      es_0  \n",
              "1            0        1F-5         0.0   1.0        NaN    NaN      es_1  \n",
              "2            0        1F-5         0.0   1.0        NaN    NaN      es_2  \n",
              "3            0   1F-1,2F-2         0.0   1.0        NaN    NaN      es_3  \n",
              "4            0         NaN         0.0   1.0        NaN    NaN      es_4  \n",
              "\n",
              "[5 rows x 23 columns]"
            ],
            "text/html": [
              "\n",
              "  <div id=\"df-bc04952d-9ae2-41c5-aa13-88981ff0260f\">\n",
              "    <div class=\"colab-df-container\">\n",
              "      <div>\n",
              "<style scoped>\n",
              "    .dataframe tbody tr th:only-of-type {\n",
              "        vertical-align: middle;\n",
              "    }\n",
              "\n",
              "    .dataframe tbody tr th {\n",
              "        vertical-align: top;\n",
              "    }\n",
              "\n",
              "    .dataframe thead th {\n",
              "        text-align: right;\n",
              "    }\n",
              "</style>\n",
              "<table border=\"1\" class=\"dataframe\">\n",
              "  <thead>\n",
              "    <tr style=\"text-align: right;\">\n",
              "      <th></th>\n",
              "      <th>Unnamed: 0</th>\n",
              "      <th>danho</th>\n",
              "      <th>ciclo</th>\n",
              "      <th>Cod.Asign</th>\n",
              "      <th>Asignatura</th>\n",
              "      <th>Cod.Car.Sec</th>\n",
              "      <th>Cod.Curso</th>\n",
              "      <th>Convocatoria</th>\n",
              "      <th>Anho</th>\n",
              "      <th>Semestre</th>\n",
              "      <th>...</th>\n",
              "      <th>Segundo.Par</th>\n",
              "      <th>AOT</th>\n",
              "      <th>Primer.Rec</th>\n",
              "      <th>Segundo.Rec</th>\n",
              "      <th>Nota.Final</th>\n",
              "      <th>Tercer.Par</th>\n",
              "      <th>Asis</th>\n",
              "      <th>Cuarto.Par</th>\n",
              "      <th>4P_60</th>\n",
              "      <th>id_anony</th>\n",
              "    </tr>\n",
              "  </thead>\n",
              "  <tbody>\n",
              "    <tr>\n",
              "      <th>0</th>\n",
              "      <td>0</td>\n",
              "      <td>2012</td>\n",
              "      <td>1</td>\n",
              "      <td>2402</td>\n",
              "      <td>COMBUSTION</td>\n",
              "      <td>INT9MECANI</td>\n",
              "      <td>13</td>\n",
              "      <td>1</td>\n",
              "      <td>2012</td>\n",
              "      <td>1</td>\n",
              "      <td>...</td>\n",
              "      <td>0</td>\n",
              "      <td>0</td>\n",
              "      <td>0</td>\n",
              "      <td>0</td>\n",
              "      <td>NaN</td>\n",
              "      <td>0.0</td>\n",
              "      <td>1.0</td>\n",
              "      <td>NaN</td>\n",
              "      <td>NaN</td>\n",
              "      <td>es_0</td>\n",
              "    </tr>\n",
              "    <tr>\n",
              "      <th>1</th>\n",
              "      <td>1</td>\n",
              "      <td>2012</td>\n",
              "      <td>1</td>\n",
              "      <td>2402</td>\n",
              "      <td>COMBUSTION</td>\n",
              "      <td>MEC9-OPT</td>\n",
              "      <td>13</td>\n",
              "      <td>1</td>\n",
              "      <td>2012</td>\n",
              "      <td>1</td>\n",
              "      <td>...</td>\n",
              "      <td>14</td>\n",
              "      <td>8</td>\n",
              "      <td>0</td>\n",
              "      <td>0</td>\n",
              "      <td>1F-5</td>\n",
              "      <td>0.0</td>\n",
              "      <td>1.0</td>\n",
              "      <td>NaN</td>\n",
              "      <td>NaN</td>\n",
              "      <td>es_1</td>\n",
              "    </tr>\n",
              "    <tr>\n",
              "      <th>2</th>\n",
              "      <td>2</td>\n",
              "      <td>2012</td>\n",
              "      <td>1</td>\n",
              "      <td>2402</td>\n",
              "      <td>COMBUSTION</td>\n",
              "      <td>INT9MECANI</td>\n",
              "      <td>13</td>\n",
              "      <td>1</td>\n",
              "      <td>2012</td>\n",
              "      <td>1</td>\n",
              "      <td>...</td>\n",
              "      <td>23</td>\n",
              "      <td>9</td>\n",
              "      <td>0</td>\n",
              "      <td>0</td>\n",
              "      <td>1F-5</td>\n",
              "      <td>0.0</td>\n",
              "      <td>1.0</td>\n",
              "      <td>NaN</td>\n",
              "      <td>NaN</td>\n",
              "      <td>es_2</td>\n",
              "    </tr>\n",
              "    <tr>\n",
              "      <th>3</th>\n",
              "      <td>3</td>\n",
              "      <td>2012</td>\n",
              "      <td>1</td>\n",
              "      <td>2402</td>\n",
              "      <td>COMBUSTION</td>\n",
              "      <td>MEC9-OPT</td>\n",
              "      <td>13</td>\n",
              "      <td>1</td>\n",
              "      <td>2012</td>\n",
              "      <td>1</td>\n",
              "      <td>...</td>\n",
              "      <td>14</td>\n",
              "      <td>8</td>\n",
              "      <td>0</td>\n",
              "      <td>0</td>\n",
              "      <td>1F-1,2F-2</td>\n",
              "      <td>0.0</td>\n",
              "      <td>1.0</td>\n",
              "      <td>NaN</td>\n",
              "      <td>NaN</td>\n",
              "      <td>es_3</td>\n",
              "    </tr>\n",
              "    <tr>\n",
              "      <th>4</th>\n",
              "      <td>4</td>\n",
              "      <td>2012</td>\n",
              "      <td>1</td>\n",
              "      <td>2402</td>\n",
              "      <td>COMBUSTION</td>\n",
              "      <td>MEC9-OPT</td>\n",
              "      <td>13</td>\n",
              "      <td>1</td>\n",
              "      <td>2012</td>\n",
              "      <td>1</td>\n",
              "      <td>...</td>\n",
              "      <td>4</td>\n",
              "      <td>8</td>\n",
              "      <td>0</td>\n",
              "      <td>0</td>\n",
              "      <td>NaN</td>\n",
              "      <td>0.0</td>\n",
              "      <td>1.0</td>\n",
              "      <td>NaN</td>\n",
              "      <td>NaN</td>\n",
              "      <td>es_4</td>\n",
              "    </tr>\n",
              "  </tbody>\n",
              "</table>\n",
              "<p>5 rows × 23 columns</p>\n",
              "</div>\n",
              "      <button class=\"colab-df-convert\" onclick=\"convertToInteractive('df-bc04952d-9ae2-41c5-aa13-88981ff0260f')\"\n",
              "              title=\"Convert this dataframe to an interactive table.\"\n",
              "              style=\"display:none;\">\n",
              "        \n",
              "  <svg xmlns=\"http://www.w3.org/2000/svg\" height=\"24px\"viewBox=\"0 0 24 24\"\n",
              "       width=\"24px\">\n",
              "    <path d=\"M0 0h24v24H0V0z\" fill=\"none\"/>\n",
              "    <path d=\"M18.56 5.44l.94 2.06.94-2.06 2.06-.94-2.06-.94-.94-2.06-.94 2.06-2.06.94zm-11 1L8.5 8.5l.94-2.06 2.06-.94-2.06-.94L8.5 2.5l-.94 2.06-2.06.94zm10 10l.94 2.06.94-2.06 2.06-.94-2.06-.94-.94-2.06-.94 2.06-2.06.94z\"/><path d=\"M17.41 7.96l-1.37-1.37c-.4-.4-.92-.59-1.43-.59-.52 0-1.04.2-1.43.59L10.3 9.45l-7.72 7.72c-.78.78-.78 2.05 0 2.83L4 21.41c.39.39.9.59 1.41.59.51 0 1.02-.2 1.41-.59l7.78-7.78 2.81-2.81c.8-.78.8-2.07 0-2.86zM5.41 20L4 18.59l7.72-7.72 1.47 1.35L5.41 20z\"/>\n",
              "  </svg>\n",
              "      </button>\n",
              "      \n",
              "  <style>\n",
              "    .colab-df-container {\n",
              "      display:flex;\n",
              "      flex-wrap:wrap;\n",
              "      gap: 12px;\n",
              "    }\n",
              "\n",
              "    .colab-df-convert {\n",
              "      background-color: #E8F0FE;\n",
              "      border: none;\n",
              "      border-radius: 50%;\n",
              "      cursor: pointer;\n",
              "      display: none;\n",
              "      fill: #1967D2;\n",
              "      height: 32px;\n",
              "      padding: 0 0 0 0;\n",
              "      width: 32px;\n",
              "    }\n",
              "\n",
              "    .colab-df-convert:hover {\n",
              "      background-color: #E2EBFA;\n",
              "      box-shadow: 0px 1px 2px rgba(60, 64, 67, 0.3), 0px 1px 3px 1px rgba(60, 64, 67, 0.15);\n",
              "      fill: #174EA6;\n",
              "    }\n",
              "\n",
              "    [theme=dark] .colab-df-convert {\n",
              "      background-color: #3B4455;\n",
              "      fill: #D2E3FC;\n",
              "    }\n",
              "\n",
              "    [theme=dark] .colab-df-convert:hover {\n",
              "      background-color: #434B5C;\n",
              "      box-shadow: 0px 1px 3px 1px rgba(0, 0, 0, 0.15);\n",
              "      filter: drop-shadow(0px 1px 2px rgba(0, 0, 0, 0.3));\n",
              "      fill: #FFFFFF;\n",
              "    }\n",
              "  </style>\n",
              "\n",
              "      <script>\n",
              "        const buttonEl =\n",
              "          document.querySelector('#df-bc04952d-9ae2-41c5-aa13-88981ff0260f button.colab-df-convert');\n",
              "        buttonEl.style.display =\n",
              "          google.colab.kernel.accessAllowed ? 'block' : 'none';\n",
              "\n",
              "        async function convertToInteractive(key) {\n",
              "          const element = document.querySelector('#df-bc04952d-9ae2-41c5-aa13-88981ff0260f');\n",
              "          const dataTable =\n",
              "            await google.colab.kernel.invokeFunction('convertToInteractive',\n",
              "                                                     [key], {});\n",
              "          if (!dataTable) return;\n",
              "\n",
              "          const docLinkHtml = 'Like what you see? Visit the ' +\n",
              "            '<a target=\"_blank\" href=https://colab.research.google.com/notebooks/data_table.ipynb>data table notebook</a>'\n",
              "            + ' to learn more about interactive tables.';\n",
              "          element.innerHTML = '';\n",
              "          dataTable['output_type'] = 'display_data';\n",
              "          await google.colab.output.renderOutput(dataTable, element);\n",
              "          const docLink = document.createElement('div');\n",
              "          docLink.innerHTML = docLinkHtml;\n",
              "          element.appendChild(docLink);\n",
              "        }\n",
              "      </script>\n",
              "    </div>\n",
              "  </div>\n",
              "  "
            ]
          },
          "metadata": {},
          "execution_count": 4
        }
      ],
      "source": [
        "Lectura.head()"
      ]
    },
    {
      "cell_type": "code",
      "execution_count": null,
      "metadata": {
        "id": "IE2UVP2_qqji"
      },
      "outputs": [],
      "source": [
        "#Visualizamos que tamaño tienen los datos\n",
        "#print('Tamaño de los datos: ',Lectura.shape)"
      ]
    },
    {
      "cell_type": "code",
      "execution_count": null,
      "metadata": {
        "id": "QU4gdqrFqqjl"
      },
      "outputs": [],
      "source": [
        "#Hay valores nulos en los datos?\n",
        "#Lectura.info()"
      ]
    },
    {
      "cell_type": "markdown",
      "metadata": {
        "id": "2QmV0LOBqqjn"
      },
      "source": [
        "ANALIZAMOS LOS CODIGO DE CARRERAS"
      ]
    },
    {
      "cell_type": "code",
      "execution_count": 5,
      "metadata": {
        "colab": {
          "base_uri": "https://localhost:8080/"
        },
        "id": "NfefnEfiqqjn",
        "outputId": "f10d280f-4944-4871-b04d-8e664f6863b3"
      },
      "outputs": [
        {
          "output_type": "execute_result",
          "data": {
            "text/plain": [
              "array(['CGF-175-09', 'CGF-PLS09 ', 'CGF-PLS13 ', 'CIV-175-09',\n",
              "       'CIV-PLS09 ', 'CIV-PLS13 ', 'ECA-175-09', 'ECA-PLS09 ',\n",
              "       'ECA-PLS13 ', 'ECA9-OPT  ', 'ELE-175-09', 'ELE-PLS09 ',\n",
              "       'ELE-PLS13 ', 'IND-175-09', 'IND-PLS09 ', 'IND-PLS13 ',\n",
              "       'INT9-PROYT', 'INT9CONSTR', 'INT9ELECTR', 'INT9G-ECO ',\n",
              "       'INT9MECANI', 'INT9ORTERR', 'INT9RNYMA ', 'INT9SANEHI',\n",
              "       'INT9SDIGYT', 'INT9TRANSP', 'MCT-175-09', 'MCT-PLS09 ',\n",
              "       'MCT-PLS13 ', 'MCT9-OPT  ', 'MEC-175-09', 'MEC-PLS09 ',\n",
              "       'MEC-PLS13 ', 'MEC9-OPT  ', 'TIVAS     '], dtype=object)"
            ]
          },
          "metadata": {},
          "execution_count": 5
        }
      ],
      "source": [
        "np.unique(Lectura[\"Cod.Car.Sec\"])"
      ]
    },
    {
      "cell_type": "code",
      "execution_count": null,
      "metadata": {
        "id": "_beQHTOQqqjo"
      },
      "outputs": [],
      "source": [
        ""
      ]
    },
    {
      "cell_type": "markdown",
      "metadata": {
        "id": "O3eufN2-qqjp"
      },
      "source": [
        "SEPARAMOS LOS DATOS PARA SER ANALIZDOS:\n",
        "En este caso seleccione  los de la carrera de ING. CIVIL"
      ]
    },
    {
      "cell_type": "code",
      "execution_count": 6,
      "metadata": {
        "colab": {
          "base_uri": "https://localhost:8080/"
        },
        "id": "Qxrtq7rXqqjq",
        "outputId": "e2884c68-2ae3-4f36-caba-0ce8a8e35bed"
      },
      "outputs": [
        {
          "output_type": "stream",
          "name": "stdout",
          "text": [
            "CIV-175-09\n",
            "CIV-PLS09 \n",
            "CIV-PLS13 \n"
          ]
        }
      ],
      "source": [
        "civil=pd.DataFrame(columns=Lectura.columns)\n",
        "for car in ['CIV-175-09','CIV-PLS09 ', 'CIV-PLS13 ']:\n",
        "    print(car)\n",
        "    civil=pd.concat([civil, Lectura[Lectura[\"Cod.Car.Sec\"]==car]], axis=0)"
      ]
    },
    {
      "cell_type": "code",
      "execution_count": null,
      "metadata": {
        "id": "ag0Xuz_Lqqjr"
      },
      "outputs": [],
      "source": [
        ""
      ]
    },
    {
      "cell_type": "code",
      "execution_count": null,
      "metadata": {
        "id": "CJ6bgsjSqqjr"
      },
      "outputs": [],
      "source": [
        ""
      ]
    },
    {
      "cell_type": "markdown",
      "metadata": {
        "id": "9yPXkCn3qqjs"
      },
      "source": [
        "MATERIAS DEL PRIMER SEMESTRE"
      ]
    },
    {
      "cell_type": "code",
      "execution_count": 7,
      "metadata": {
        "colab": {
          "base_uri": "https://localhost:8080/"
        },
        "id": "GxsJ8GXgqqkY",
        "outputId": "00f950bd-2ca8-41a5-8b44-2681a94684e7"
      },
      "outputs": [
        {
          "output_type": "execute_result",
          "data": {
            "text/plain": [
              "array(['ALGEBRA LINEAL 1', 'CALCULO 1', 'DIBUJO TECNICO', 'FISICA 1',\n",
              "       'GEOMETRIA ANALITICA', 'GEOMETRIA DESCRIPTIVA'], dtype=object)"
            ]
          },
          "metadata": {},
          "execution_count": 7
        }
      ],
      "source": [
        "primerS=civil[ (civil[\"Cod.Curso\"]==1) & (civil[\"Aprobado\"]==\"S\")]\n",
        "CprimerS=np.unique(primerS[\"Asignatura\"])\n",
        "CprimerS\n"
      ]
    },
    {
      "cell_type": "code",
      "execution_count": null,
      "metadata": {
        "id": "-ahHJ7ccqqka"
      },
      "outputs": [],
      "source": [
        ""
      ]
    },
    {
      "cell_type": "code",
      "execution_count": null,
      "metadata": {
        "id": "d9iXbio7qqkb"
      },
      "outputs": [],
      "source": [
        ""
      ]
    },
    {
      "cell_type": "markdown",
      "metadata": {
        "id": "-_vFAnrEqqkd"
      },
      "source": [
        "FILTRO LOS ID QUE CURSARON TODAS MATERIAS DEL CUARTO SEMESTRE"
      ]
    },
    {
      "cell_type": "code",
      "execution_count": 8,
      "metadata": {
        "colab": {
          "base_uri": "https://localhost:8080/"
        },
        "id": "DUDXksggqqkd",
        "outputId": "d88981de-9698-4683-cf54-3530271af63c"
      },
      "outputs": [
        {
          "output_type": "stream",
          "name": "stdout",
          "text": [
            "CALCULO 4\n",
            "DINAMICA\n",
            "ESTRUCTURAS 1\n",
            "FISICA 4\n",
            "MECANICA DE MATERIALES 1\n",
            "Cantidad de elementos (8848, 23)\n"
          ]
        }
      ],
      "source": [
        "newdata=pd.DataFrame(columns=civil.columns)\n",
        "for mat in ['CALCULO 4', 'DINAMICA', 'ESTRUCTURAS 1', 'FISICA 4',\n",
        "       'MECANICA DE MATERIALES 1']:\n",
        "    newdata=pd.concat([newdata, civil[civil[\"Asignatura\"]==mat]], axis=0)\n",
        "    print(mat)\n",
        "print('Cantidad de elementos',newdata.shape)"
      ]
    },
    {
      "cell_type": "code",
      "execution_count": null,
      "metadata": {
        "id": "R0ON3ngqqqkf"
      },
      "outputs": [],
      "source": [
        ""
      ]
    },
    {
      "cell_type": "code",
      "execution_count": null,
      "metadata": {
        "id": "UMGzu2UMqqkf"
      },
      "outputs": [],
      "source": [
        ""
      ]
    },
    {
      "cell_type": "markdown",
      "metadata": {
        "id": "XEyc-3Euqqkg"
      },
      "source": [
        "SEGUIDAMENTE FILTRO SOLO LOS QUE TIENEN APROBADO ESAS MATERIAS"
      ]
    },
    {
      "cell_type": "code",
      "execution_count": 9,
      "metadata": {
        "colab": {
          "base_uri": "https://localhost:8080/"
        },
        "id": "JvfDJFcoqqkh",
        "outputId": "49a6b52e-8aaa-496a-9073-c1491989965c"
      },
      "outputs": [
        {
          "output_type": "stream",
          "name": "stdout",
          "text": [
            "Cantidad de elementos (4054, 23)\n"
          ]
        }
      ],
      "source": [
        "df=newdata[newdata[\"Aprobado\"]==\"S\"]\n",
        "print('Cantidad de elementos',df.shape)\n"
      ]
    },
    {
      "cell_type": "code",
      "execution_count": null,
      "metadata": {
        "id": "lyVfyAF8qqki"
      },
      "outputs": [],
      "source": [
        ""
      ]
    },
    {
      "cell_type": "code",
      "execution_count": null,
      "metadata": {
        "id": "mifFVSd_qqkj"
      },
      "outputs": [],
      "source": [
        ""
      ]
    },
    {
      "cell_type": "markdown",
      "metadata": {
        "id": "8XDQJiaQqqkk"
      },
      "source": [
        "LUEGO VISUALIZAMOS LA CANTIDAD DE ESTUDIANTES REALES"
      ]
    },
    {
      "cell_type": "code",
      "execution_count": 10,
      "metadata": {
        "colab": {
          "base_uri": "https://localhost:8080/"
        },
        "id": "RV53rx75qqkp",
        "outputId": "3476e662-858a-49bf-91d2-a8f988b37288"
      },
      "outputs": [
        {
          "output_type": "stream",
          "name": "stdout",
          "text": [
            "968\n"
          ]
        }
      ],
      "source": [
        "estudiantes=np.unique(df['id_anony'])\n",
        "materias=np.unique(df['Asignatura'])\n",
        "print(len(estudiantes))"
      ]
    },
    {
      "cell_type": "code",
      "execution_count": null,
      "metadata": {
        "id": "JBpn7BKeqqkr"
      },
      "outputs": [],
      "source": [
        "#nuevo=df[df.id_anony.values=='es_4160']\n",
        "#nuevo=civil[civil.id_anony.values=='es_4160']\n",
        "#nuevo"
      ]
    },
    {
      "cell_type": "code",
      "execution_count": null,
      "metadata": {
        "id": "vM0W6efeqqks"
      },
      "outputs": [],
      "source": [
        "#estudiantes"
      ]
    },
    {
      "cell_type": "code",
      "execution_count": null,
      "metadata": {
        "id": "RhnZssgwqqkt"
      },
      "outputs": [],
      "source": [
        ""
      ]
    },
    {
      "cell_type": "code",
      "execution_count": 11,
      "metadata": {
        "id": "0yGIcHm_qqkt"
      },
      "outputs": [],
      "source": [
        "Alumnos=[]\n",
        "Alumnos.clear()\n",
        "Inicio=[]\n",
        "Inicio.clear()\n",
        "Duracion=[]\n",
        "Duracion.clear()\n"
      ]
    },
    {
      "cell_type": "code",
      "execution_count": 12,
      "metadata": {
        "id": "zL7JziVRqqku"
      },
      "outputs": [],
      "source": [
        "for ides in estudiantes:\n",
        "    registro=df[df.id_anony.values==ides]\n",
        "    regis=civil[civil.id_anony.values==ides]\n",
        "    cant=np.unique(registro[\"Asignatura\"])\n",
        "    a=np.sum(cant=='CALCULO 4')\n",
        "    a=a+np.sum(cant=='DINAMICA')\n",
        "    a=a+np.sum(cant=='ESTRUCTURAS 1')\n",
        "    a=a+np.sum(cant=='FISICA 4')\n",
        "    a=a+np.sum(cant=='MECANICA DE MATERIALES 1')\n",
        "    regi=np.sum((regis[\"Cod.Curso\"].values==1))\n",
        "    if (a==5)&(regi>0):\n",
        "        ides\n",
        "        AnhoIn=min(regis[\"danho\"])\n",
        "        AnhoFin=max(registro[\"danho\"])\n",
        "        Tiempo=AnhoFin-AnhoIn\n",
        "        Alumnos.append(ides)\n",
        "        Duracion.append(Tiempo)\n",
        "        Inicio.append(AnhoIn)"
      ]
    },
    {
      "cell_type": "code",
      "execution_count": null,
      "metadata": {
        "id": "bjIjl1kMqqkx"
      },
      "outputs": [],
      "source": [
        ""
      ]
    },
    {
      "cell_type": "code",
      "execution_count": 13,
      "metadata": {
        "colab": {
          "base_uri": "https://localhost:8080/",
          "height": 424
        },
        "id": "nZKC3GU4qqky",
        "outputId": "fff8bfad-6c03-45e4-f29b-38ef4c237d52"
      },
      "outputs": [
        {
          "output_type": "execute_result",
          "data": {
            "text/plain": [
              "     Alumnos  Ingreso  Duracion\n",
              "0    es_1164     2012         4\n",
              "1    es_1185     2012         3\n",
              "2    es_1204     2012         8\n",
              "3    es_1244     2012         5\n",
              "4    es_1253     2012         4\n",
              "..       ...      ...       ...\n",
              "415  es_4087     2018         2\n",
              "416  es_4104     2018         2\n",
              "417  es_4134     2018         2\n",
              "418  es_4156     2018         2\n",
              "419  es_4189     2018         2\n",
              "\n",
              "[420 rows x 3 columns]"
            ],
            "text/html": [
              "\n",
              "  <div id=\"df-1d785bfd-ab29-4c82-b07d-6321ab5baed1\">\n",
              "    <div class=\"colab-df-container\">\n",
              "      <div>\n",
              "<style scoped>\n",
              "    .dataframe tbody tr th:only-of-type {\n",
              "        vertical-align: middle;\n",
              "    }\n",
              "\n",
              "    .dataframe tbody tr th {\n",
              "        vertical-align: top;\n",
              "    }\n",
              "\n",
              "    .dataframe thead th {\n",
              "        text-align: right;\n",
              "    }\n",
              "</style>\n",
              "<table border=\"1\" class=\"dataframe\">\n",
              "  <thead>\n",
              "    <tr style=\"text-align: right;\">\n",
              "      <th></th>\n",
              "      <th>Alumnos</th>\n",
              "      <th>Ingreso</th>\n",
              "      <th>Duracion</th>\n",
              "    </tr>\n",
              "  </thead>\n",
              "  <tbody>\n",
              "    <tr>\n",
              "      <th>0</th>\n",
              "      <td>es_1164</td>\n",
              "      <td>2012</td>\n",
              "      <td>4</td>\n",
              "    </tr>\n",
              "    <tr>\n",
              "      <th>1</th>\n",
              "      <td>es_1185</td>\n",
              "      <td>2012</td>\n",
              "      <td>3</td>\n",
              "    </tr>\n",
              "    <tr>\n",
              "      <th>2</th>\n",
              "      <td>es_1204</td>\n",
              "      <td>2012</td>\n",
              "      <td>8</td>\n",
              "    </tr>\n",
              "    <tr>\n",
              "      <th>3</th>\n",
              "      <td>es_1244</td>\n",
              "      <td>2012</td>\n",
              "      <td>5</td>\n",
              "    </tr>\n",
              "    <tr>\n",
              "      <th>4</th>\n",
              "      <td>es_1253</td>\n",
              "      <td>2012</td>\n",
              "      <td>4</td>\n",
              "    </tr>\n",
              "    <tr>\n",
              "      <th>...</th>\n",
              "      <td>...</td>\n",
              "      <td>...</td>\n",
              "      <td>...</td>\n",
              "    </tr>\n",
              "    <tr>\n",
              "      <th>415</th>\n",
              "      <td>es_4087</td>\n",
              "      <td>2018</td>\n",
              "      <td>2</td>\n",
              "    </tr>\n",
              "    <tr>\n",
              "      <th>416</th>\n",
              "      <td>es_4104</td>\n",
              "      <td>2018</td>\n",
              "      <td>2</td>\n",
              "    </tr>\n",
              "    <tr>\n",
              "      <th>417</th>\n",
              "      <td>es_4134</td>\n",
              "      <td>2018</td>\n",
              "      <td>2</td>\n",
              "    </tr>\n",
              "    <tr>\n",
              "      <th>418</th>\n",
              "      <td>es_4156</td>\n",
              "      <td>2018</td>\n",
              "      <td>2</td>\n",
              "    </tr>\n",
              "    <tr>\n",
              "      <th>419</th>\n",
              "      <td>es_4189</td>\n",
              "      <td>2018</td>\n",
              "      <td>2</td>\n",
              "    </tr>\n",
              "  </tbody>\n",
              "</table>\n",
              "<p>420 rows × 3 columns</p>\n",
              "</div>\n",
              "      <button class=\"colab-df-convert\" onclick=\"convertToInteractive('df-1d785bfd-ab29-4c82-b07d-6321ab5baed1')\"\n",
              "              title=\"Convert this dataframe to an interactive table.\"\n",
              "              style=\"display:none;\">\n",
              "        \n",
              "  <svg xmlns=\"http://www.w3.org/2000/svg\" height=\"24px\"viewBox=\"0 0 24 24\"\n",
              "       width=\"24px\">\n",
              "    <path d=\"M0 0h24v24H0V0z\" fill=\"none\"/>\n",
              "    <path d=\"M18.56 5.44l.94 2.06.94-2.06 2.06-.94-2.06-.94-.94-2.06-.94 2.06-2.06.94zm-11 1L8.5 8.5l.94-2.06 2.06-.94-2.06-.94L8.5 2.5l-.94 2.06-2.06.94zm10 10l.94 2.06.94-2.06 2.06-.94-2.06-.94-.94-2.06-.94 2.06-2.06.94z\"/><path d=\"M17.41 7.96l-1.37-1.37c-.4-.4-.92-.59-1.43-.59-.52 0-1.04.2-1.43.59L10.3 9.45l-7.72 7.72c-.78.78-.78 2.05 0 2.83L4 21.41c.39.39.9.59 1.41.59.51 0 1.02-.2 1.41-.59l7.78-7.78 2.81-2.81c.8-.78.8-2.07 0-2.86zM5.41 20L4 18.59l7.72-7.72 1.47 1.35L5.41 20z\"/>\n",
              "  </svg>\n",
              "      </button>\n",
              "      \n",
              "  <style>\n",
              "    .colab-df-container {\n",
              "      display:flex;\n",
              "      flex-wrap:wrap;\n",
              "      gap: 12px;\n",
              "    }\n",
              "\n",
              "    .colab-df-convert {\n",
              "      background-color: #E8F0FE;\n",
              "      border: none;\n",
              "      border-radius: 50%;\n",
              "      cursor: pointer;\n",
              "      display: none;\n",
              "      fill: #1967D2;\n",
              "      height: 32px;\n",
              "      padding: 0 0 0 0;\n",
              "      width: 32px;\n",
              "    }\n",
              "\n",
              "    .colab-df-convert:hover {\n",
              "      background-color: #E2EBFA;\n",
              "      box-shadow: 0px 1px 2px rgba(60, 64, 67, 0.3), 0px 1px 3px 1px rgba(60, 64, 67, 0.15);\n",
              "      fill: #174EA6;\n",
              "    }\n",
              "\n",
              "    [theme=dark] .colab-df-convert {\n",
              "      background-color: #3B4455;\n",
              "      fill: #D2E3FC;\n",
              "    }\n",
              "\n",
              "    [theme=dark] .colab-df-convert:hover {\n",
              "      background-color: #434B5C;\n",
              "      box-shadow: 0px 1px 3px 1px rgba(0, 0, 0, 0.15);\n",
              "      filter: drop-shadow(0px 1px 2px rgba(0, 0, 0, 0.3));\n",
              "      fill: #FFFFFF;\n",
              "    }\n",
              "  </style>\n",
              "\n",
              "      <script>\n",
              "        const buttonEl =\n",
              "          document.querySelector('#df-1d785bfd-ab29-4c82-b07d-6321ab5baed1 button.colab-df-convert');\n",
              "        buttonEl.style.display =\n",
              "          google.colab.kernel.accessAllowed ? 'block' : 'none';\n",
              "\n",
              "        async function convertToInteractive(key) {\n",
              "          const element = document.querySelector('#df-1d785bfd-ab29-4c82-b07d-6321ab5baed1');\n",
              "          const dataTable =\n",
              "            await google.colab.kernel.invokeFunction('convertToInteractive',\n",
              "                                                     [key], {});\n",
              "          if (!dataTable) return;\n",
              "\n",
              "          const docLinkHtml = 'Like what you see? Visit the ' +\n",
              "            '<a target=\"_blank\" href=https://colab.research.google.com/notebooks/data_table.ipynb>data table notebook</a>'\n",
              "            + ' to learn more about interactive tables.';\n",
              "          element.innerHTML = '';\n",
              "          dataTable['output_type'] = 'display_data';\n",
              "          await google.colab.output.renderOutput(dataTable, element);\n",
              "          const docLink = document.createElement('div');\n",
              "          docLink.innerHTML = docLinkHtml;\n",
              "          element.appendChild(docLink);\n",
              "        }\n",
              "      </script>\n",
              "    </div>\n",
              "  </div>\n",
              "  "
            ]
          },
          "metadata": {},
          "execution_count": 13
        }
      ],
      "source": [
        "Datos=pd.DataFrame({'Alumnos':Alumnos,'Ingreso':Inicio,'Duracion':Duracion})\n",
        "Datos"
      ]
    },
    {
      "cell_type": "code",
      "execution_count": null,
      "metadata": {
        "id": "eCqdcmeFqqkz"
      },
      "outputs": [],
      "source": [
        "#Datos.iloc[:,0]"
      ]
    },
    {
      "cell_type": "code",
      "execution_count": 14,
      "metadata": {
        "id": "7DnWkmCqqqk0"
      },
      "outputs": [],
      "source": [
        "x=Datos.iloc[:,1].values\n",
        "X=x.reshape(-1, 1)\n",
        "y=Datos.iloc[:,2].values\n",
        "\n",
        "#x = Datos[\"Ingreso\"]\n",
        "#y = Datos[\"Duracion\"]"
      ]
    },
    {
      "cell_type": "code",
      "execution_count": 15,
      "metadata": {
        "colab": {
          "base_uri": "https://localhost:8080/",
          "height": 265
        },
        "id": "6WY2n1Meqqk8",
        "outputId": "b82c688e-3268-49cf-81c3-477d8bc71bce"
      },
      "outputs": [
        {
          "output_type": "display_data",
          "data": {
            "text/plain": [
              "<Figure size 432x288 with 1 Axes>"
            ],
            "image/png": "[encoded data removed]"
          },
          "metadata": {
            "needs_background": "light"
          }
        }
      ],
      "source": [
        "plt.scatter(x,y,alpha=0.5)\n",
        "plt.show()"
      ]
    },
    {
      "cell_type": "code",
      "execution_count": null,
      "metadata": {
        "id": "_14_CGy6qqk9"
      },
      "outputs": [],
      "source": [
        ""
      ]
    },
    {
      "cell_type": "code",
      "execution_count": 16,
      "metadata": {
        "id": "kj6knL6Tqqk-"
      },
      "outputs": [],
      "source": [
        "from sklearn.model_selection import train_test_split\n",
        "from sklearn.linear_model import LinearRegression"
      ]
    },
    {
      "cell_type": "code",
      "execution_count": 17,
      "metadata": {
        "colab": {
          "base_uri": "https://localhost:8080/"
        },
        "id": "NOuI5VL6qqk-",
        "outputId": "01ae0a42-f3fb-4945-baf2-17b1bc19d3a0"
      },
      "outputs": [
        {
          "output_type": "stream",
          "name": "stdout",
          "text": [
            "Train Data shape: (378, 1)\n",
            "test Data shape: (42, 1)\n",
            "Train labels shape: (378,)\n",
            "test labels shape: (42,)\n"
          ]
        }
      ],
      "source": [
        "X_train,X_test,Y_train,Y_test=train_test_split(X,y,test_size=0.1)\n",
        "print(\"Train Data shape: \" + str(X_train.shape)) #datos  \n",
        "print(\"test Data shape: \" + str(X_test.shape))\n",
        "print(\"Train labels shape: \" + str(Y_train.shape)) #datos  \n",
        "print(\"test labels shape: \" + str(Y_test.shape))"
      ]
    },
    {
      "cell_type": "code",
      "execution_count": 18,
      "metadata": {
        "colab": {
          "base_uri": "https://localhost:8080/"
        },
        "id": "qcz52TLyqqk_",
        "outputId": "4a58adf6-7302-41ec-8f3b-4272e9cd7343"
      },
      "outputs": [
        {
          "output_type": "execute_result",
          "data": {
            "text/plain": [
              "LinearRegression()"
            ]
          },
          "metadata": {},
          "execution_count": 18
        }
      ],
      "source": [
        "lm = LinearRegression()\n",
        "lm.fit(X_train,Y_train)"
      ]
    },
    {
      "cell_type": "code",
      "execution_count": 19,
      "metadata": {
        "colab": {
          "base_uri": "https://localhost:8080/"
        },
        "id": "OoY-tTedqqlA",
        "outputId": "fd317459-32bc-4093-ed1a-e340ebf0b453"
      },
      "outputs": [
        {
          "output_type": "stream",
          "name": "stdout",
          "text": [
            "Coeficiente de determinacion 0.1751137634581894\n",
            "b0: 641.7146167658478\n",
            "b1: [-0.31693319]\n"
          ]
        }
      ],
      "source": [
        "R_sq=lm.score(X_train,Y_train)\n",
        "print('Coeficiente de determinacion',R_sq)\n",
        "print('b0:',lm.intercept_)\n",
        "print('b1:',lm.coef_)"
      ]
    },
    {
      "cell_type": "code",
      "execution_count": 20,
      "metadata": {
        "colab": {
          "base_uri": "https://localhost:8080/"
        },
        "id": "CEuEJiKrqqlB",
        "outputId": "e250a570-bfdd-46bd-e1e7-e653cce32cef"
      },
      "outputs": [
        {
          "output_type": "execute_result",
          "data": {
            "text/plain": [
              "array([3.72811199, 4.04504517, 3.72811199, 4.04504517, 4.04504517,\n",
              "       4.04504517, 4.04504517, 3.4111788 , 2.77731243, 3.72811199,\n",
              "       2.14344605, 4.04504517, 4.04504517, 4.04504517, 3.72811199,\n",
              "       3.4111788 , 3.09424561, 3.72811199, 3.4111788 , 3.09424561,\n",
              "       3.09424561, 3.4111788 , 2.14344605, 3.72811199, 3.4111788 ,\n",
              "       3.4111788 , 3.4111788 , 4.04504517, 4.04504517, 3.09424561,\n",
              "       3.09424561, 2.46037924, 4.04504517, 3.09424561, 4.04504517,\n",
              "       3.72811199, 3.09424561, 2.46037924, 3.72811199, 3.09424561,\n",
              "       2.77731243, 2.77731243])"
            ]
          },
          "metadata": {},
          "execution_count": 20
        }
      ],
      "source": [
        "prediccion = lm.predict(X_test)\n",
        "prediccion"
      ]
    },
    {
      "cell_type": "code",
      "execution_count": 21,
      "metadata": {
        "colab": {
          "base_uri": "https://localhost:8080/"
        },
        "id": "U4p_abTdqqlH",
        "outputId": "3a49cbfe-a47e-488a-8095-288ce86d8578"
      },
      "outputs": [
        {
          "output_type": "execute_result",
          "data": {
            "text/plain": [
              "3.441362911749474"
            ]
          },
          "metadata": {},
          "execution_count": 21
        }
      ],
      "source": [
        "np.mean(prediccion)"
      ]
    },
    {
      "cell_type": "code",
      "execution_count": 22,
      "metadata": {
        "colab": {
          "base_uri": "https://localhost:8080/",
          "height": 265
        },
        "id": "fsSnuu-OqqlJ",
        "outputId": "4019b63d-a6f1-43a8-9e77-bf24717ab874"
      },
      "outputs": [
        {
          "output_type": "display_data",
          "data": {
            "text/plain": [
              "<Figure size 432x288 with 1 Axes>"
            ],
            "image/png": "[encoded data removed]"
          },
          "metadata": {
            "needs_background": "light"
          }
        }
      ],
      "source": [
        "plt.scatter(X_test,prediccion,alpha=0.5)\n",
        "plt.show()"
      ]
    },
    {
      "cell_type": "code",
      "execution_count": null,
      "metadata": {
        "id": "d_RRAu_4qqlJ"
      },
      "outputs": [],
      "source": [
        ""
      ]
    },
    {
      "cell_type": "code",
      "execution_count": null,
      "metadata": {
        "id": "LGot4gmFqqlK"
      },
      "outputs": [],
      "source": [
        ""
      ]
    },
    {
      "cell_type": "code",
      "execution_count": null,
      "metadata": {
        "id": "khYnaLJtqqlK"
      },
      "outputs": [],
      "source": [
        ""
      ]
    },
    {
      "cell_type": "code",
      "execution_count": null,
      "metadata": {
        "id": "xntzwmpjqqlL"
      },
      "outputs": [],
      "source": [
        ""
      ]
    },
    {
      "cell_type": "code",
      "execution_count": 153,
      "metadata": {
        "colab": {
          "base_uri": "https://localhost:8080/"
        },
        "id": "0rnjj3kYqqlL",
        "outputId": "2ff842e9-99be-47d6-fe93-44bba0029ac9"
      },
      "outputs": [
        {
          "output_type": "stream",
          "name": "stdout",
          "text": [
            "CIV-175-09\n",
            "CIV-PLS09 \n",
            "CIV-PLS13 \n"
          ]
        }
      ],
      "source": [
        "civil=pd.DataFrame(columns=Lectura.columns)\n",
        "for car in ['CIV-175-09','CIV-PLS09 ', 'CIV-PLS13 ']:\n",
        "    print(car)\n",
        "    civil=pd.concat([civil, Lectura[Lectura[\"Cod.Car.Sec\"]==car]], axis=0)\n"
      ]
    },
    {
      "cell_type": "code",
      "source": [
        "civil=civil[civil[\"Cod.Curso\"]<5]\n"
      ],
      "metadata": {
        "id": "W2CdznOW472s"
      },
      "execution_count": 165,
      "outputs": []
    },
    {
      "cell_type": "code",
      "execution_count": 165,
      "metadata": {
        "id": "8ePCZUbkqqlL"
      },
      "outputs": [],
      "source": [
        ""
      ]
    },
    {
      "cell_type": "markdown",
      "source": [
        "newda=pd.DataFrame(columns=civil.columns)\n",
        "for mat in ['CALCULO 4', 'DINAMICA', 'ESTRUCTURAS 1', 'FISICA 4',\n",
        "       'MECANICA DE MATERIALES 1']:\n",
        "    newda=pd.concat([newda, civil[civil[\"Asignatura\"]==mat]], axis=0)\n",
        "    print(mat)\n",
        "print('Cantidad de elementos',newda.shape)"
      ],
      "metadata": {
        "id": "JjB1qUNZ6CSh"
      }
    },
    {
      "cell_type": "code",
      "execution_count": 166,
      "metadata": {
        "id": "8tMuskFZqqlM"
      },
      "outputs": [],
      "source": [
        "daf=civil[(civil[\"Aprobado\"]==\"S\")|(civil[\"Aprobado\"]==\"N\") ]"
      ]
    },
    {
      "cell_type": "code",
      "execution_count": 167,
      "metadata": {
        "colab": {
          "base_uri": "https://localhost:8080/"
        },
        "id": "in6Ke1MWqqlP",
        "outputId": "7632d81c-660e-49c6-ae9a-fc4be77654fd"
      },
      "outputs": [
        {
          "output_type": "stream",
          "name": "stdout",
          "text": [
            "2006\n"
          ]
        }
      ],
      "source": [
        "estudiantes=np.unique(daf['id_anony'])\n",
        "materias=np.unique(daf['Asignatura'])\n",
        "print(len(estudiantes))"
      ]
    },
    {
      "cell_type": "code",
      "source": [
        ""
      ],
      "metadata": {
        "id": "bPHYuHvxAj1b"
      },
      "execution_count": 167,
      "outputs": []
    },
    {
      "cell_type": "code",
      "execution_count": 146,
      "metadata": {
        "id": "zbwtiJUkqqly"
      },
      "outputs": [],
      "source": [
        ""
      ]
    },
    {
      "cell_type": "code",
      "execution_count": 168,
      "metadata": {
        "id": "rQFh77HDqqlz"
      },
      "outputs": [],
      "source": [
        "Alumnos=[]\n",
        "Alumnos.clear()\n",
        "Inicio=[]\n",
        "Inicio.clear()\n",
        "Duracion=[]\n",
        "Duracion.clear()\n",
        "Aprobado=[]\n",
        "Aprobado.clear()\n",
        "Mate=[]\n",
        "Mate.clear()\n",
        "for ides in estudiantes:\n",
        "    registro=daf[daf.id_anony.values==ides]\n",
        "    cant=np.unique(registro[\"Asignatura\"])\n",
        "    a=np.sum(cant=='CALCULO 4')\n",
        "    a=a+np.sum(cant=='DINAMICA')\n",
        "    a=a+np.sum(cant=='ESTRUCTURAS 1')\n",
        "    a=a+np.sum(cant=='FISICA 4')\n",
        "    a=a+np.sum(cant=='MECANICA DE MATERIALES 1')\n",
        "    regi=np.sum((registro[\"Cod.Curso\"].values==1))\n",
        "    pasadas=registro[registro[\"Aprobado\"]==\"S\"]\n",
        "    pasadas=np.unique(registro[\"Asignatura\"])\n",
        "    if regi>0:\n",
        "      if (a==5):\n",
        "        AnhoIn=min(registro[\"danho\"])\n",
        "        AnhoFin=max(registro[\"danho\"])\n",
        "        Tiempo=AnhoFin-AnhoIn\n",
        "        Alumnos.append(ides)\n",
        "        Duracion.append(Tiempo)\n",
        "        Inicio.append(AnhoIn)\n",
        "        Aprobado.append(1)\n",
        "        Mate.append(22)\n",
        "\n",
        "      else :\n",
        "        AnhoIn=min(registro[\"danho\"])\n",
        "        AnhoFin=max(registro[\"danho\"])\n",
        "        Tiempo=AnhoFin-AnhoIn\n",
        "        Alumnos.append(ides)\n",
        "        Duracion.append(Tiempo)\n",
        "        Inicio.append(AnhoIn)\n",
        "        Aprobado.append(0)\n",
        "        Mate.append(len(pasadas))\n",
        "        #print(ides,Tiempo)\n",
        "    "
      ]
    },
    {
      "cell_type": "code",
      "execution_count": 169,
      "metadata": {
        "colab": {
          "base_uri": "https://localhost:8080/",
          "height": 1000
        },
        "id": "B7dyQ4Muqql8",
        "outputId": "843d17fe-18c1-4aa3-e30e-210c7b925049"
      },
      "outputs": [
        {
          "output_type": "execute_result",
          "data": {
            "text/plain": [
              "    Alumnos  Ingreso  Duracion  Materias  CB Fin\n",
              "0    es_104     2012         9        14       0\n",
              "1   es_1102     2012         1        11       0\n",
              "2   es_1104     2012         4        22       1\n",
              "3   es_1108     2012         7        11       0\n",
              "4   es_1114     2012         4        22       1\n",
              "5   es_1115     2012         5        22       1\n",
              "6   es_1123     2012         4        14       0\n",
              "7   es_1142     2012         1        12       0\n",
              "8   es_1153     2012         4        15       0\n",
              "9   es_1164     2012         4        22       1\n",
              "10  es_1185     2012         3        22       1\n",
              "11  es_1192     2012         1        10       0\n",
              "12  es_1195     2013         8        11       0\n",
              "13  es_1204     2012         8        22       1\n",
              "14  es_1219     2012         4        16       0\n",
              "15  es_1222     2012         2        14       0\n",
              "16  es_1228     2012         9        22       1\n",
              "17  es_1244     2012         5        22       1\n",
              "18  es_1253     2012         4        22       1\n",
              "19  es_1287     2013         2        15       0\n",
              "20  es_1294     2012         2         9       0\n",
              "21  es_1297     2012         0         6       0\n",
              "22  es_1303     2012         3        11       0\n",
              "23  es_1324     2012         3        22       1\n",
              "24  es_1325     2012         7        22       1\n",
              "25  es_1328     2012         6        22       1\n",
              "26  es_1336     2012         5        22       1\n",
              "27  es_1337     2012         6        10       0\n",
              "28  es_1341     2012         5        15       0\n",
              "29  es_1342     2012         9        22       1\n",
              "30  es_1364     2012         2         8       0\n",
              "31  es_1368     2012         5        15       0\n",
              "32  es_1369     2012         2         8       0\n",
              "33  es_1370     2012         1         7       0\n",
              "34  es_1372     2021         0         5       0\n",
              "35  es_1378     2012         8        22       1\n",
              "36  es_1379     2012         6        22       1\n",
              "37  es_1381     2012         9        22       1\n",
              "38  es_1383     2012         2        14       0\n",
              "39  es_1384     2012         9        22       1\n",
              "40  es_1385     2012         4        22       1\n",
              "41  es_1387     2012         0         7       0\n",
              "42  es_1388     2012         3        22       1\n",
              "43  es_1391     2013         5        22       1\n",
              "44  es_1393     2012         3        11       0\n",
              "45  es_1394     2012         2        11       0\n",
              "46  es_1397     2012         5        22       1\n",
              "47  es_1404     2012         9        15       0\n",
              "48  es_1405     2012         3         9       0\n",
              "49  es_1409     2012         6        10       0"
            ],
            "text/html": [
              "\n",
              "  <div id=\"df-ef9d1bef-c757-43ad-82f3-71ccc771d39d\">\n",
              "    <div class=\"colab-df-container\">\n",
              "      <div>\n",
              "<style scoped>\n",
              "    .dataframe tbody tr th:only-of-type {\n",
              "        vertical-align: middle;\n",
              "    }\n",
              "\n",
              "    .dataframe tbody tr th {\n",
              "        vertical-align: top;\n",
              "    }\n",
              "\n",
              "    .dataframe thead th {\n",
              "        text-align: right;\n",
              "    }\n",
              "</style>\n",
              "<table border=\"1\" class=\"dataframe\">\n",
              "  <thead>\n",
              "    <tr style=\"text-align: right;\">\n",
              "      <th></th>\n",
              "      <th>Alumnos</th>\n",
              "      <th>Ingreso</th>\n",
              "      <th>Duracion</th>\n",
              "      <th>Materias</th>\n",
              "      <th>CB Fin</th>\n",
              "    </tr>\n",
              "  </thead>\n",
              "  <tbody>\n",
              "    <tr>\n",
              "      <th>0</th>\n",
              "      <td>es_104</td>\n",
              "      <td>2012</td>\n",
              "      <td>9</td>\n",
              "      <td>14</td>\n",
              "      <td>0</td>\n",
              "    </tr>\n",
              "    <tr>\n",
              "      <th>1</th>\n",
              "      <td>es_1102</td>\n",
              "      <td>2012</td>\n",
              "      <td>1</td>\n",
              "      <td>11</td>\n",
              "      <td>0</td>\n",
              "    </tr>\n",
              "    <tr>\n",
              "      <th>2</th>\n",
              "      <td>es_1104</td>\n",
              "      <td>2012</td>\n",
              "      <td>4</td>\n",
              "      <td>22</td>\n",
              "      <td>1</td>\n",
              "    </tr>\n",
              "    <tr>\n",
              "      <th>3</th>\n",
              "      <td>es_1108</td>\n",
              "      <td>2012</td>\n",
              "      <td>7</td>\n",
              "      <td>11</td>\n",
              "      <td>0</td>\n",
              "    </tr>\n",
              "    <tr>\n",
              "      <th>4</th>\n",
              "      <td>es_1114</td>\n",
              "      <td>2012</td>\n",
              "      <td>4</td>\n",
              "      <td>22</td>\n",
              "      <td>1</td>\n",
              "    </tr>\n",
              "    <tr>\n",
              "      <th>5</th>\n",
              "      <td>es_1115</td>\n",
              "      <td>2012</td>\n",
              "      <td>5</td>\n",
              "      <td>22</td>\n",
              "      <td>1</td>\n",
              "    </tr>\n",
              "    <tr>\n",
              "      <th>6</th>\n",
              "      <td>es_1123</td>\n",
              "      <td>2012</td>\n",
              "      <td>4</td>\n",
              "      <td>14</td>\n",
              "      <td>0</td>\n",
              "    </tr>\n",
              "    <tr>\n",
              "      <th>7</th>\n",
              "      <td>es_1142</td>\n",
              "      <td>2012</td>\n",
              "      <td>1</td>\n",
              "      <td>12</td>\n",
              "      <td>0</td>\n",
              "    </tr>\n",
              "    <tr>\n",
              "      <th>8</th>\n",
              "      <td>es_1153</td>\n",
              "      <td>2012</td>\n",
              "      <td>4</td>\n",
              "      <td>15</td>\n",
              "      <td>0</td>\n",
              "    </tr>\n",
              "    <tr>\n",
              "      <th>9</th>\n",
              "      <td>es_1164</td>\n",
              "      <td>2012</td>\n",
              "      <td>4</td>\n",
              "      <td>22</td>\n",
              "      <td>1</td>\n",
              "    </tr>\n",
              "    <tr>\n",
              "      <th>10</th>\n",
              "      <td>es_1185</td>\n",
              "      <td>2012</td>\n",
              "      <td>3</td>\n",
              "      <td>22</td>\n",
              "      <td>1</td>\n",
              "    </tr>\n",
              "    <tr>\n",
              "      <th>11</th>\n",
              "      <td>es_1192</td>\n",
              "      <td>2012</td>\n",
              "      <td>1</td>\n",
              "      <td>10</td>\n",
              "      <td>0</td>\n",
              "    </tr>\n",
              "    <tr>\n",
              "      <th>12</th>\n",
              "      <td>es_1195</td>\n",
              "      <td>2013</td>\n",
              "      <td>8</td>\n",
              "      <td>11</td>\n",
              "      <td>0</td>\n",
              "    </tr>\n",
              "    <tr>\n",
              "      <th>13</th>\n",
              "      <td>es_1204</td>\n",
              "      <td>2012</td>\n",
              "      <td>8</td>\n",
              "      <td>22</td>\n",
              "      <td>1</td>\n",
              "    </tr>\n",
              "    <tr>\n",
              "      <th>14</th>\n",
              "      <td>es_1219</td>\n",
              "      <td>2012</td>\n",
              "      <td>4</td>\n",
              "      <td>16</td>\n",
              "      <td>0</td>\n",
              "    </tr>\n",
              "    <tr>\n",
              "      <th>15</th>\n",
              "      <td>es_1222</td>\n",
              "      <td>2012</td>\n",
              "      <td>2</td>\n",
              "      <td>14</td>\n",
              "      <td>0</td>\n",
              "    </tr>\n",
              "    <tr>\n",
              "      <th>16</th>\n",
              "      <td>es_1228</td>\n",
              "      <td>2012</td>\n",
              "      <td>9</td>\n",
              "      <td>22</td>\n",
              "      <td>1</td>\n",
              "    </tr>\n",
              "    <tr>\n",
              "      <th>17</th>\n",
              "      <td>es_1244</td>\n",
              "      <td>2012</td>\n",
              "      <td>5</td>\n",
              "      <td>22</td>\n",
              "      <td>1</td>\n",
              "    </tr>\n",
              "    <tr>\n",
              "      <th>18</th>\n",
              "      <td>es_1253</td>\n",
              "      <td>2012</td>\n",
              "      <td>4</td>\n",
              "      <td>22</td>\n",
              "      <td>1</td>\n",
              "    </tr>\n",
              "    <tr>\n",
              "      <th>19</th>\n",
              "      <td>es_1287</td>\n",
              "      <td>2013</td>\n",
              "      <td>2</td>\n",
              "      <td>15</td>\n",
              "      <td>0</td>\n",
              "    </tr>\n",
              "    <tr>\n",
              "      <th>20</th>\n",
              "      <td>es_1294</td>\n",
              "      <td>2012</td>\n",
              "      <td>2</td>\n",
              "      <td>9</td>\n",
              "      <td>0</td>\n",
              "    </tr>\n",
              "    <tr>\n",
              "      <th>21</th>\n",
              "      <td>es_1297</td>\n",
              "      <td>2012</td>\n",
              "      <td>0</td>\n",
              "      <td>6</td>\n",
              "      <td>0</td>\n",
              "    </tr>\n",
              "    <tr>\n",
              "      <th>22</th>\n",
              "      <td>es_1303</td>\n",
              "      <td>2012</td>\n",
              "      <td>3</td>\n",
              "      <td>11</td>\n",
              "      <td>0</td>\n",
              "    </tr>\n",
              "    <tr>\n",
              "      <th>23</th>\n",
              "      <td>es_1324</td>\n",
              "      <td>2012</td>\n",
              "      <td>3</td>\n",
              "      <td>22</td>\n",
              "      <td>1</td>\n",
              "    </tr>\n",
              "    <tr>\n",
              "      <th>24</th>\n",
              "      <td>es_1325</td>\n",
              "      <td>2012</td>\n",
              "      <td>7</td>\n",
              "      <td>22</td>\n",
              "      <td>1</td>\n",
              "    </tr>\n",
              "    <tr>\n",
              "      <th>25</th>\n",
              "      <td>es_1328</td>\n",
              "      <td>2012</td>\n",
              "      <td>6</td>\n",
              "      <td>22</td>\n",
              "      <td>1</td>\n",
              "    </tr>\n",
              "    <tr>\n",
              "      <th>26</th>\n",
              "      <td>es_1336</td>\n",
              "      <td>2012</td>\n",
              "      <td>5</td>\n",
              "      <td>22</td>\n",
              "      <td>1</td>\n",
              "    </tr>\n",
              "    <tr>\n",
              "      <th>27</th>\n",
              "      <td>es_1337</td>\n",
              "      <td>2012</td>\n",
              "      <td>6</td>\n",
              "      <td>10</td>\n",
              "      <td>0</td>\n",
              "    </tr>\n",
              "    <tr>\n",
              "      <th>28</th>\n",
              "      <td>es_1341</td>\n",
              "      <td>2012</td>\n",
              "      <td>5</td>\n",
              "      <td>15</td>\n",
              "      <td>0</td>\n",
              "    </tr>\n",
              "    <tr>\n",
              "      <th>29</th>\n",
              "      <td>es_1342</td>\n",
              "      <td>2012</td>\n",
              "      <td>9</td>\n",
              "      <td>22</td>\n",
              "      <td>1</td>\n",
              "    </tr>\n",
              "    <tr>\n",
              "      <th>30</th>\n",
              "      <td>es_1364</td>\n",
              "      <td>2012</td>\n",
              "      <td>2</td>\n",
              "      <td>8</td>\n",
              "      <td>0</td>\n",
              "    </tr>\n",
              "    <tr>\n",
              "      <th>31</th>\n",
              "      <td>es_1368</td>\n",
              "      <td>2012</td>\n",
              "      <td>5</td>\n",
              "      <td>15</td>\n",
              "      <td>0</td>\n",
              "    </tr>\n",
              "    <tr>\n",
              "      <th>32</th>\n",
              "      <td>es_1369</td>\n",
              "      <td>2012</td>\n",
              "      <td>2</td>\n",
              "      <td>8</td>\n",
              "      <td>0</td>\n",
              "    </tr>\n",
              "    <tr>\n",
              "      <th>33</th>\n",
              "      <td>es_1370</td>\n",
              "      <td>2012</td>\n",
              "      <td>1</td>\n",
              "      <td>7</td>\n",
              "      <td>0</td>\n",
              "    </tr>\n",
              "    <tr>\n",
              "      <th>34</th>\n",
              "      <td>es_1372</td>\n",
              "      <td>2021</td>\n",
              "      <td>0</td>\n",
              "      <td>5</td>\n",
              "      <td>0</td>\n",
              "    </tr>\n",
              "    <tr>\n",
              "      <th>35</th>\n",
              "      <td>es_1378</td>\n",
              "      <td>2012</td>\n",
              "      <td>8</td>\n",
              "      <td>22</td>\n",
              "      <td>1</td>\n",
              "    </tr>\n",
              "    <tr>\n",
              "      <th>36</th>\n",
              "      <td>es_1379</td>\n",
              "      <td>2012</td>\n",
              "      <td>6</td>\n",
              "      <td>22</td>\n",
              "      <td>1</td>\n",
              "    </tr>\n",
              "    <tr>\n",
              "      <th>37</th>\n",
              "      <td>es_1381</td>\n",
              "      <td>2012</td>\n",
              "      <td>9</td>\n",
              "      <td>22</td>\n",
              "      <td>1</td>\n",
              "    </tr>\n",
              "    <tr>\n",
              "      <th>38</th>\n",
              "      <td>es_1383</td>\n",
              "      <td>2012</td>\n",
              "      <td>2</td>\n",
              "      <td>14</td>\n",
              "      <td>0</td>\n",
              "    </tr>\n",
              "    <tr>\n",
              "      <th>39</th>\n",
              "      <td>es_1384</td>\n",
              "      <td>2012</td>\n",
              "      <td>9</td>\n",
              "      <td>22</td>\n",
              "      <td>1</td>\n",
              "    </tr>\n",
              "    <tr>\n",
              "      <th>40</th>\n",
              "      <td>es_1385</td>\n",
              "      <td>2012</td>\n",
              "      <td>4</td>\n",
              "      <td>22</td>\n",
              "      <td>1</td>\n",
              "    </tr>\n",
              "    <tr>\n",
              "      <th>41</th>\n",
              "      <td>es_1387</td>\n",
              "      <td>2012</td>\n",
              "      <td>0</td>\n",
              "      <td>7</td>\n",
              "      <td>0</td>\n",
              "    </tr>\n",
              "    <tr>\n",
              "      <th>42</th>\n",
              "      <td>es_1388</td>\n",
              "      <td>2012</td>\n",
              "      <td>3</td>\n",
              "      <td>22</td>\n",
              "      <td>1</td>\n",
              "    </tr>\n",
              "    <tr>\n",
              "      <th>43</th>\n",
              "      <td>es_1391</td>\n",
              "      <td>2013</td>\n",
              "      <td>5</td>\n",
              "      <td>22</td>\n",
              "      <td>1</td>\n",
              "    </tr>\n",
              "    <tr>\n",
              "      <th>44</th>\n",
              "      <td>es_1393</td>\n",
              "      <td>2012</td>\n",
              "      <td>3</td>\n",
              "      <td>11</td>\n",
              "      <td>0</td>\n",
              "    </tr>\n",
              "    <tr>\n",
              "      <th>45</th>\n",
              "      <td>es_1394</td>\n",
              "      <td>2012</td>\n",
              "      <td>2</td>\n",
              "      <td>11</td>\n",
              "      <td>0</td>\n",
              "    </tr>\n",
              "    <tr>\n",
              "      <th>46</th>\n",
              "      <td>es_1397</td>\n",
              "      <td>2012</td>\n",
              "      <td>5</td>\n",
              "      <td>22</td>\n",
              "      <td>1</td>\n",
              "    </tr>\n",
              "    <tr>\n",
              "      <th>47</th>\n",
              "      <td>es_1404</td>\n",
              "      <td>2012</td>\n",
              "      <td>9</td>\n",
              "      <td>15</td>\n",
              "      <td>0</td>\n",
              "    </tr>\n",
              "    <tr>\n",
              "      <th>48</th>\n",
              "      <td>es_1405</td>\n",
              "      <td>2012</td>\n",
              "      <td>3</td>\n",
              "      <td>9</td>\n",
              "      <td>0</td>\n",
              "    </tr>\n",
              "    <tr>\n",
              "      <th>49</th>\n",
              "      <td>es_1409</td>\n",
              "      <td>2012</td>\n",
              "      <td>6</td>\n",
              "      <td>10</td>\n",
              "      <td>0</td>\n",
              "    </tr>\n",
              "  </tbody>\n",
              "</table>\n",
              "</div>\n",
              "      <button class=\"colab-df-convert\" onclick=\"convertToInteractive('df-ef9d1bef-c757-43ad-82f3-71ccc771d39d')\"\n",
              "              title=\"Convert this dataframe to an interactive table.\"\n",
              "              style=\"display:none;\">\n",
              "        \n",
              "  <svg xmlns=\"http://www.w3.org/2000/svg\" height=\"24px\"viewBox=\"0 0 24 24\"\n",
              "       width=\"24px\">\n",
              "    <path d=\"M0 0h24v24H0V0z\" fill=\"none\"/>\n",
              "    <path d=\"M18.56 5.44l.94 2.06.94-2.06 2.06-.94-2.06-.94-.94-2.06-.94 2.06-2.06.94zm-11 1L8.5 8.5l.94-2.06 2.06-.94-2.06-.94L8.5 2.5l-.94 2.06-2.06.94zm10 10l.94 2.06.94-2.06 2.06-.94-2.06-.94-.94-2.06-.94 2.06-2.06.94z\"/><path d=\"M17.41 7.96l-1.37-1.37c-.4-.4-.92-.59-1.43-.59-.52 0-1.04.2-1.43.59L10.3 9.45l-7.72 7.72c-.78.78-.78 2.05 0 2.83L4 21.41c.39.39.9.59 1.41.59.51 0 1.02-.2 1.41-.59l7.78-7.78 2.81-2.81c.8-.78.8-2.07 0-2.86zM5.41 20L4 18.59l7.72-7.72 1.47 1.35L5.41 20z\"/>\n",
              "  </svg>\n",
              "      </button>\n",
              "      \n",
              "  <style>\n",
              "    .colab-df-container {\n",
              "      display:flex;\n",
              "      flex-wrap:wrap;\n",
              "      gap: 12px;\n",
              "    }\n",
              "\n",
              "    .colab-df-convert {\n",
              "      background-color: #E8F0FE;\n",
              "      border: none;\n",
              "      border-radius: 50%;\n",
              "      cursor: pointer;\n",
              "      display: none;\n",
              "      fill: #1967D2;\n",
              "      height: 32px;\n",
              "      padding: 0 0 0 0;\n",
              "      width: 32px;\n",
              "    }\n",
              "\n",
              "    .colab-df-convert:hover {\n",
              "      background-color: #E2EBFA;\n",
              "      box-shadow: 0px 1px 2px rgba(60, 64, 67, 0.3), 0px 1px 3px 1px rgba(60, 64, 67, 0.15);\n",
              "      fill: #174EA6;\n",
              "    }\n",
              "\n",
              "    [theme=dark] .colab-df-convert {\n",
              "      background-color: #3B4455;\n",
              "      fill: #D2E3FC;\n",
              "    }\n",
              "\n",
              "    [theme=dark] .colab-df-convert:hover {\n",
              "      background-color: #434B5C;\n",
              "      box-shadow: 0px 1px 3px 1px rgba(0, 0, 0, 0.15);\n",
              "      filter: drop-shadow(0px 1px 2px rgba(0, 0, 0, 0.3));\n",
              "      fill: #FFFFFF;\n",
              "    }\n",
              "  </style>\n",
              "\n",
              "      <script>\n",
              "        const buttonEl =\n",
              "          document.querySelector('#df-ef9d1bef-c757-43ad-82f3-71ccc771d39d button.colab-df-convert');\n",
              "        buttonEl.style.display =\n",
              "          google.colab.kernel.accessAllowed ? 'block' : 'none';\n",
              "\n",
              "        async function convertToInteractive(key) {\n",
              "          const element = document.querySelector('#df-ef9d1bef-c757-43ad-82f3-71ccc771d39d');\n",
              "          const dataTable =\n",
              "            await google.colab.kernel.invokeFunction('convertToInteractive',\n",
              "                                                     [key], {});\n",
              "          if (!dataTable) return;\n",
              "\n",
              "          const docLinkHtml = 'Like what you see? Visit the ' +\n",
              "            '<a target=\"_blank\" href=https://colab.research.google.com/notebooks/data_table.ipynb>data table notebook</a>'\n",
              "            + ' to learn more about interactive tables.';\n",
              "          element.innerHTML = '';\n",
              "          dataTable['output_type'] = 'display_data';\n",
              "          await google.colab.output.renderOutput(dataTable, element);\n",
              "          const docLink = document.createElement('div');\n",
              "          docLink.innerHTML = docLinkHtml;\n",
              "          element.appendChild(docLink);\n",
              "        }\n",
              "      </script>\n",
              "    </div>\n",
              "  </div>\n",
              "  "
            ]
          },
          "metadata": {},
          "execution_count": 169
        }
      ],
      "source": [
        "Datos=pd.DataFrame({'Alumnos':Alumnos,'Ingreso':Inicio,'Duracion':Duracion,'Materias':Mate,'CB Fin':Aprobado})\n",
        "Datos.head(50)"
      ]
    },
    {
      "cell_type": "code",
      "execution_count": 33,
      "metadata": {
        "id": "-aUCjQ5HqqmD"
      },
      "outputs": [],
      "source": [
        "x=Datos.iloc[:,1].values\n",
        "X=x.reshape(-1, 1)\n",
        "y=Datos.iloc[:,3].values"
      ]
    },
    {
      "cell_type": "code",
      "execution_count": null,
      "metadata": {
        "id": "loH4sClUqqmF",
        "outputId": "d0ec9122-09f8-439e-c203-da16514b14ca"
      },
      "outputs": [
        {
          "data": {
            "image/png": "[encoded data removed]",
            "text/plain": [
              "<Figure size 432x288 with 1 Axes>"
            ]
          },
          "metadata": {
            "needs_background": "light"
          },
          "output_type": "display_data"
        }
      ],
      "source": [
        "plt.scatter(X,y,alpha=0.5)\n",
        "plt.show()"
      ]
    },
    {
      "cell_type": "code",
      "execution_count": 77,
      "metadata": {
        "id": "zka_XuH2qqmF"
      },
      "outputs": [],
      "source": [
        "X=Datos[['Ingreso','Duracion']].values"
      ]
    },
    {
      "cell_type": "code",
      "execution_count": 78,
      "metadata": {
        "id": "vHNeuI8RqqmG"
      },
      "outputs": [],
      "source": [
        "Y=Datos['Aprobado'].values"
      ]
    },
    {
      "cell_type": "code",
      "source": [
        ""
      ],
      "metadata": {
        "id": "4kauw0U_szHn"
      },
      "execution_count": 35,
      "outputs": []
    },
    {
      "cell_type": "code",
      "execution_count": 62,
      "metadata": {
        "id": "YFESlJYWqqmH"
      },
      "outputs": [],
      "source": [
        "#plt.scatter(X,Y,s=40,c=1,cmap=plt.cm.Spectral)#para graficar\n",
        "#plt.show()"
      ]
    },
    {
      "cell_type": "code",
      "execution_count": null,
      "metadata": {
        "id": "mhx8tAx-qqmK"
      },
      "outputs": [],
      "source": [
        "#'es_4104'\n",
        "#primerS.loc[['es_4134']]"
      ]
    },
    {
      "cell_type": "code",
      "execution_count": 79,
      "metadata": {
        "id": "D1nFUDmbqqmL"
      },
      "outputs": [],
      "source": [
        "from sklearn.model_selection import train_test_split\n",
        "from sklearn.linear_model import LogisticRegression\n",
        "from sklearn import metrics"
      ]
    },
    {
      "cell_type": "code",
      "execution_count": 94,
      "metadata": {
        "colab": {
          "base_uri": "https://localhost:8080/"
        },
        "id": "VR_hXtyTqqmL",
        "outputId": "f58e0295-676d-46f9-946a-9f090c88ef1c"
      },
      "outputs": [
        {
          "output_type": "stream",
          "name": "stdout",
          "text": [
            "Train Data shape: (869, 2)\n",
            "test Data shape: (373, 2)\n",
            "Train labels shape: (869,)\n",
            "test labels shape: (373,)\n"
          ]
        }
      ],
      "source": [
        "X_train,X_test,Y_train,Y_test=train_test_split(X,Y,test_size=0.3)\n",
        "print(\"Train Data shape: \" + str(X_train.shape)) #datos  \n",
        "print(\"test Data shape: \" + str(X_test.shape))\n",
        "print(\"Train labels shape: \" + str(Y_train.shape)) #datos  \n",
        "print(\"test labels shape: \" + str(Y_test.shape))"
      ]
    },
    {
      "cell_type": "code",
      "source": [
        "log_regression=LogisticRegression()"
      ],
      "metadata": {
        "id": "TbejUs56yuB4"
      },
      "execution_count": 95,
      "outputs": []
    },
    {
      "cell_type": "code",
      "source": [
        "log_regression.fit(X_train,Y_train)"
      ],
      "metadata": {
        "colab": {
          "base_uri": "https://localhost:8080/"
        },
        "id": "eKpR5JmQ0Dw_",
        "outputId": "c6df622e-4305-40a5-ee4c-bb3b066fc5de"
      },
      "execution_count": 96,
      "outputs": [
        {
          "output_type": "execute_result",
          "data": {
            "text/plain": [
              "LogisticRegression()"
            ]
          },
          "metadata": {},
          "execution_count": 96
        }
      ]
    },
    {
      "cell_type": "code",
      "source": [
        "Y_pred=log_regression.predict(X_test)\n",
        "Y_pred"
      ],
      "metadata": {
        "colab": {
          "base_uri": "https://localhost:8080/"
        },
        "id": "ouUsVAhh0N5K",
        "outputId": "3be34211-4bb6-4abd-a27c-0759d51f1758"
      },
      "execution_count": 97,
      "outputs": [
        {
          "output_type": "execute_result",
          "data": {
            "text/plain": [
              "array([0, 1, 1, 1, 0, 0, 1, 0, 1, 0, 1, 0, 1, 0, 0, 1, 1, 1, 1, 0, 0, 1,\n",
              "       1, 1, 0, 0, 0, 0, 1, 0, 0, 0, 0, 1, 0, 0, 1, 1, 0, 1, 1, 0, 1, 0,\n",
              "       0, 0, 0, 1, 0, 0, 1, 1, 0, 1, 0, 0, 1, 1, 1, 0, 0, 1, 1, 0, 0, 1,\n",
              "       1, 0, 0, 1, 0, 0, 1, 1, 1, 0, 0, 0, 0, 0, 1, 1, 1, 0, 0, 0, 1, 1,\n",
              "       1, 0, 0, 0, 1, 0, 0, 0, 0, 1, 0, 0, 0, 0, 0, 0, 0, 0, 0, 1, 1, 1,\n",
              "       0, 1, 0, 1, 1, 0, 0, 1, 0, 1, 0, 0, 0, 0, 0, 0, 0, 1, 0, 0, 1, 1,\n",
              "       1, 1, 1, 0, 0, 0, 0, 0, 0, 0, 0, 0, 0, 0, 0, 0, 1, 0, 1, 1, 0, 0,\n",
              "       0, 0, 1, 0, 1, 0, 1, 1, 0, 0, 0, 1, 0, 0, 0, 1, 0, 1, 0, 1, 0, 1,\n",
              "       0, 0, 0, 0, 1, 0, 0, 1, 0, 1, 1, 0, 1, 0, 0, 0, 1, 0, 0, 0, 1, 0,\n",
              "       0, 1, 0, 1, 1, 0, 0, 1, 1, 1, 1, 1, 0, 1, 0, 1, 1, 0, 1, 0, 0, 0,\n",
              "       0, 0, 1, 1, 1, 1, 0, 1, 0, 0, 1, 0, 0, 1, 1, 0, 0, 1, 0, 0, 0, 0,\n",
              "       0, 0, 0, 0, 0, 1, 0, 0, 0, 0, 0, 0, 1, 0, 1, 1, 1, 0, 0, 0, 1, 1,\n",
              "       0, 0, 0, 0, 1, 1, 1, 1, 0, 0, 1, 1, 0, 0, 0, 0, 0, 0, 0, 1, 0, 0,\n",
              "       0, 1, 0, 0, 1, 0, 0, 0, 1, 1, 0, 0, 0, 0, 0, 0, 1, 0, 0, 1, 1, 0,\n",
              "       1, 0, 1, 0, 0, 0, 1, 1, 0, 1, 0, 0, 1, 0, 0, 0, 0, 1, 1, 0, 0, 1,\n",
              "       0, 0, 1, 0, 0, 0, 0, 0, 0, 0, 0, 0, 0, 0, 1, 0, 0, 1, 1, 0, 1, 0,\n",
              "       0, 0, 0, 1, 0, 0, 0, 1, 0, 0, 0, 0, 0, 0, 1, 0, 0, 0, 0, 0, 1])"
            ]
          },
          "metadata": {},
          "execution_count": 97
        }
      ]
    },
    {
      "cell_type": "code",
      "source": [
        ""
      ],
      "metadata": {
        "id": "ZkhlGc9D0m89"
      },
      "execution_count": 97,
      "outputs": []
    },
    {
      "cell_type": "markdown",
      "source": [
        "Diagnosticos del modelo"
      ],
      "metadata": {
        "id": "5bSRFP3g0xYR"
      }
    },
    {
      "cell_type": "code",
      "execution_count": 98,
      "metadata": {
        "colab": {
          "base_uri": "https://localhost:8080/"
        },
        "id": "pdlDpZFQqqmM",
        "outputId": "279ba51a-e8bd-4457-f783-b00ea347a55f"
      },
      "outputs": [
        {
          "output_type": "execute_result",
          "data": {
            "text/plain": [
              "array([[147,  67],\n",
              "       [ 89,  70]])"
            ]
          },
          "metadata": {},
          "execution_count": 98
        }
      ],
      "source": [
        "matrix_confu=metrics.confusion_matrix(Y_test,Y_pred)\n",
        "matrix_confu"
      ]
    },
    {
      "cell_type": "code",
      "execution_count": 99,
      "metadata": {
        "colab": {
          "base_uri": "https://localhost:8080/"
        },
        "id": "hgTShfDXqqmN",
        "outputId": "6c3359c2-74d9-458b-82c9-c295122133bc"
      },
      "outputs": [
        {
          "output_type": "stream",
          "name": "stdout",
          "text": [
            "Precision del modelo: 0.5817694369973191\n"
          ]
        }
      ],
      "source": [
        "print(\"Precision del modelo:\",metrics.accuracy_score(Y_test,Y_pred))"
      ]
    },
    {
      "cell_type": "code",
      "execution_count": 65,
      "metadata": {
        "id": "3AANFj7NqqmO"
      },
      "outputs": [],
      "source": [
        ""
      ]
    },
    {
      "cell_type": "code",
      "execution_count": 83,
      "metadata": {
        "id": "0inFVBkhqqmP"
      },
      "outputs": [],
      "source": [
        ""
      ]
    },
    {
      "cell_type": "code",
      "execution_count": 83,
      "metadata": {
        "id": "bCSZP2yIqqmP"
      },
      "outputs": [],
      "source": [
        ""
      ]
    },
    {
      "cell_type": "code",
      "source": [
        ""
      ],
      "metadata": {
        "id": "ClBj25fsuzoi"
      },
      "execution_count": 83,
      "outputs": []
    },
    {
      "cell_type": "code",
      "source": [
        ""
      ],
      "metadata": {
        "id": "2yzsHCTWtj_7"
      },
      "execution_count": 83,
      "outputs": []
    },
    {
      "cell_type": "code",
      "source": [
        ""
      ],
      "metadata": {
        "id": "dvIhvxoPtzzp"
      },
      "execution_count": null,
      "outputs": []
    }
  ],
  "metadata": {
    "colab": {
      "name": "PreProcesamiento.ipynb",
      "provenance": []
    },
    "kernelspec": {
      "display_name": "Python 3 (ipykernel)",
      "language": "python",
      "name": "python3"
    },
    "language_info": {
      "codemirror_mode": {
        "name": "ipython",
        "version": 3
      },
      "file_extension": ".py",
      "mimetype": "text/x-python",
      "name": "python",
      "nbconvert_exporter": "python",
      "pygments_lexer": "ipython3",
      "version": "3.9.7"
    }
  },
  "nbformat": 4,
  "nbformat_minor": 0
}