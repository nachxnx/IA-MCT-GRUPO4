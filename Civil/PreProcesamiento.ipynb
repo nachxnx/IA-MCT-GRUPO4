{
  "cells": [
    {
      "cell_type": "markdown",
      "metadata": {
        "id": "VYwY_yiHqqjO"
      },
      "source": [
        "IMPORTACION DE LIBRERIAS"
      ]
    },
    {
      "cell_type": "code",
      "execution_count": 1,
      "metadata": {
        "id": "_6-vmhdvjq5v"
      },
      "outputs": [],
      "source": [
        "import numpy as np\n",
        "import pandas as pd\n",
        "import matplotlib.pyplot as plt"
      ]
    },
    {
      "cell_type": "code",
      "execution_count": 1,
      "metadata": {
        "id": "TkUowqZsqqjb"
      },
      "outputs": [],
      "source": [
        ""
      ]
    },
    {
      "cell_type": "markdown",
      "metadata": {
        "id": "jM8IBZjfqqjb"
      },
      "source": [
        "LECTURA DE DATOS"
      ]
    },
    {
      "cell_type": "code",
      "execution_count": 2,
      "metadata": {
        "id": "u9US2e2Iqqjc"
      },
      "outputs": [],
      "source": [
        "Lectura=pd.read_csv(\"datosConcatenadossinCI.csv\")"
      ]
    },
    {
      "cell_type": "code",
      "execution_count": 2,
      "metadata": {
        "id": "x2CfFLpzqqjd"
      },
      "outputs": [],
      "source": [
        ""
      ]
    },
    {
      "cell_type": "markdown",
      "metadata": {
        "id": "S83VoVa2qqje"
      },
      "source": [
        "VISUALIZAMOS LOS PRIMEROS DATOS"
      ]
    },
    {
      "cell_type": "code",
      "execution_count": 3,
      "metadata": {
        "colab": {
          "base_uri": "https://localhost:8080/",
          "height": 317
        },
        "id": "W0AVRQh5qqjf",
        "outputId": "d30f864c-831c-40f3-a48b-b5e819b11462"
      },
      "outputs": [
        {
          "output_type": "execute_result",
          "data": {
            "text/plain": [
              "   Unnamed: 0  danho  ciclo  Cod.Asign  Asignatura Cod.Car.Sec  Cod.Curso  \\\n",
              "0           0   2012      1       2402  COMBUSTION  INT9MECANI         13   \n",
              "1           1   2012      1       2402  COMBUSTION  MEC9-OPT           13   \n",
              "2           2   2012      1       2402  COMBUSTION  INT9MECANI         13   \n",
              "3           3   2012      1       2402  COMBUSTION  MEC9-OPT           13   \n",
              "4           4   2012      1       2402  COMBUSTION  MEC9-OPT           13   \n",
              "\n",
              "   Convocatoria  Anho  Semestre  ... Segundo.Par  AOT  Primer.Rec  \\\n",
              "0             1  2012         1  ...           0    0           0   \n",
              "1             1  2012         1  ...          14    8           0   \n",
              "2             1  2012         1  ...          23    9           0   \n",
              "3             1  2012         1  ...          14    8           0   \n",
              "4             1  2012         1  ...           4    8           0   \n",
              "\n",
              "   Segundo.Rec  Nota.Final  Tercer.Par  Asis Cuarto.Par  4P_60  id_anony  \n",
              "0            0         NaN         0.0   1.0        NaN    NaN      es_0  \n",
              "1            0        1F-5         0.0   1.0        NaN    NaN      es_1  \n",
              "2            0        1F-5         0.0   1.0        NaN    NaN      es_2  \n",
              "3            0   1F-1,2F-2         0.0   1.0        NaN    NaN      es_3  \n",
              "4            0         NaN         0.0   1.0        NaN    NaN      es_4  \n",
              "\n",
              "[5 rows x 23 columns]"
            ],
            "text/html": [
              "\n",
              "  <div id=\"df-8aabbf12-84c3-4098-808b-e948ae70e2be\">\n",
              "    <div class=\"colab-df-container\">\n",
              "      <div>\n",
              "<style scoped>\n",
              "    .dataframe tbody tr th:only-of-type {\n",
              "        vertical-align: middle;\n",
              "    }\n",
              "\n",
              "    .dataframe tbody tr th {\n",
              "        vertical-align: top;\n",
              "    }\n",
              "\n",
              "    .dataframe thead th {\n",
              "        text-align: right;\n",
              "    }\n",
              "</style>\n",
              "<table border=\"1\" class=\"dataframe\">\n",
              "  <thead>\n",
              "    <tr style=\"text-align: right;\">\n",
              "      <th></th>\n",
              "      <th>Unnamed: 0</th>\n",
              "      <th>danho</th>\n",
              "      <th>ciclo</th>\n",
              "      <th>Cod.Asign</th>\n",
              "      <th>Asignatura</th>\n",
              "      <th>Cod.Car.Sec</th>\n",
              "      <th>Cod.Curso</th>\n",
              "      <th>Convocatoria</th>\n",
              "      <th>Anho</th>\n",
              "      <th>Semestre</th>\n",
              "      <th>...</th>\n",
              "      <th>Segundo.Par</th>\n",
              "      <th>AOT</th>\n",
              "      <th>Primer.Rec</th>\n",
              "      <th>Segundo.Rec</th>\n",
              "      <th>Nota.Final</th>\n",
              "      <th>Tercer.Par</th>\n",
              "      <th>Asis</th>\n",
              "      <th>Cuarto.Par</th>\n",
              "      <th>4P_60</th>\n",
              "      <th>id_anony</th>\n",
              "    </tr>\n",
              "  </thead>\n",
              "  <tbody>\n",
              "    <tr>\n",
              "      <th>0</th>\n",
              "      <td>0</td>\n",
              "      <td>2012</td>\n",
              "      <td>1</td>\n",
              "      <td>2402</td>\n",
              "      <td>COMBUSTION</td>\n",
              "      <td>INT9MECANI</td>\n",
              "      <td>13</td>\n",
              "      <td>1</td>\n",
              "      <td>2012</td>\n",
              "      <td>1</td>\n",
              "      <td>...</td>\n",
              "      <td>0</td>\n",
              "      <td>0</td>\n",
              "      <td>0</td>\n",
              "      <td>0</td>\n",
              "      <td>NaN</td>\n",
              "      <td>0.0</td>\n",
              "      <td>1.0</td>\n",
              "      <td>NaN</td>\n",
              "      <td>NaN</td>\n",
              "      <td>es_0</td>\n",
              "    </tr>\n",
              "    <tr>\n",
              "      <th>1</th>\n",
              "      <td>1</td>\n",
              "      <td>2012</td>\n",
              "      <td>1</td>\n",
              "      <td>2402</td>\n",
              "      <td>COMBUSTION</td>\n",
              "      <td>MEC9-OPT</td>\n",
              "      <td>13</td>\n",
              "      <td>1</td>\n",
              "      <td>2012</td>\n",
              "      <td>1</td>\n",
              "      <td>...</td>\n",
              "      <td>14</td>\n",
              "      <td>8</td>\n",
              "      <td>0</td>\n",
              "      <td>0</td>\n",
              "      <td>1F-5</td>\n",
              "      <td>0.0</td>\n",
              "      <td>1.0</td>\n",
              "      <td>NaN</td>\n",
              "      <td>NaN</td>\n",
              "      <td>es_1</td>\n",
              "    </tr>\n",
              "    <tr>\n",
              "      <th>2</th>\n",
              "      <td>2</td>\n",
              "      <td>2012</td>\n",
              "      <td>1</td>\n",
              "      <td>2402</td>\n",
              "      <td>COMBUSTION</td>\n",
              "      <td>INT9MECANI</td>\n",
              "      <td>13</td>\n",
              "      <td>1</td>\n",
              "      <td>2012</td>\n",
              "      <td>1</td>\n",
              "      <td>...</td>\n",
              "      <td>23</td>\n",
              "      <td>9</td>\n",
              "      <td>0</td>\n",
              "      <td>0</td>\n",
              "      <td>1F-5</td>\n",
              "      <td>0.0</td>\n",
              "      <td>1.0</td>\n",
              "      <td>NaN</td>\n",
              "      <td>NaN</td>\n",
              "      <td>es_2</td>\n",
              "    </tr>\n",
              "    <tr>\n",
              "      <th>3</th>\n",
              "      <td>3</td>\n",
              "      <td>2012</td>\n",
              "      <td>1</td>\n",
              "      <td>2402</td>\n",
              "      <td>COMBUSTION</td>\n",
              "      <td>MEC9-OPT</td>\n",
              "      <td>13</td>\n",
              "      <td>1</td>\n",
              "      <td>2012</td>\n",
              "      <td>1</td>\n",
              "      <td>...</td>\n",
              "      <td>14</td>\n",
              "      <td>8</td>\n",
              "      <td>0</td>\n",
              "      <td>0</td>\n",
              "      <td>1F-1,2F-2</td>\n",
              "      <td>0.0</td>\n",
              "      <td>1.0</td>\n",
              "      <td>NaN</td>\n",
              "      <td>NaN</td>\n",
              "      <td>es_3</td>\n",
              "    </tr>\n",
              "    <tr>\n",
              "      <th>4</th>\n",
              "      <td>4</td>\n",
              "      <td>2012</td>\n",
              "      <td>1</td>\n",
              "      <td>2402</td>\n",
              "      <td>COMBUSTION</td>\n",
              "      <td>MEC9-OPT</td>\n",
              "      <td>13</td>\n",
              "      <td>1</td>\n",
              "      <td>2012</td>\n",
              "      <td>1</td>\n",
              "      <td>...</td>\n",
              "      <td>4</td>\n",
              "      <td>8</td>\n",
              "      <td>0</td>\n",
              "      <td>0</td>\n",
              "      <td>NaN</td>\n",
              "      <td>0.0</td>\n",
              "      <td>1.0</td>\n",
              "      <td>NaN</td>\n",
              "      <td>NaN</td>\n",
              "      <td>es_4</td>\n",
              "    </tr>\n",
              "  </tbody>\n",
              "</table>\n",
              "<p>5 rows × 23 columns</p>\n",
              "</div>\n",
              "      <button class=\"colab-df-convert\" onclick=\"convertToInteractive('df-8aabbf12-84c3-4098-808b-e948ae70e2be')\"\n",
              "              title=\"Convert this dataframe to an interactive table.\"\n",
              "              style=\"display:none;\">\n",
              "        \n",
              "  <svg xmlns=\"http://www.w3.org/2000/svg\" height=\"24px\"viewBox=\"0 0 24 24\"\n",
              "       width=\"24px\">\n",
              "    <path d=\"M0 0h24v24H0V0z\" fill=\"none\"/>\n",
              "    <path d=\"M18.56 5.44l.94 2.06.94-2.06 2.06-.94-2.06-.94-.94-2.06-.94 2.06-2.06.94zm-11 1L8.5 8.5l.94-2.06 2.06-.94-2.06-.94L8.5 2.5l-.94 2.06-2.06.94zm10 10l.94 2.06.94-2.06 2.06-.94-2.06-.94-.94-2.06-.94 2.06-2.06.94z\"/><path d=\"M17.41 7.96l-1.37-1.37c-.4-.4-.92-.59-1.43-.59-.52 0-1.04.2-1.43.59L10.3 9.45l-7.72 7.72c-.78.78-.78 2.05 0 2.83L4 21.41c.39.39.9.59 1.41.59.51 0 1.02-.2 1.41-.59l7.78-7.78 2.81-2.81c.8-.78.8-2.07 0-2.86zM5.41 20L4 18.59l7.72-7.72 1.47 1.35L5.41 20z\"/>\n",
              "  </svg>\n",
              "      </button>\n",
              "      \n",
              "  <style>\n",
              "    .colab-df-container {\n",
              "      display:flex;\n",
              "      flex-wrap:wrap;\n",
              "      gap: 12px;\n",
              "    }\n",
              "\n",
              "    .colab-df-convert {\n",
              "      background-color: #E8F0FE;\n",
              "      border: none;\n",
              "      border-radius: 50%;\n",
              "      cursor: pointer;\n",
              "      display: none;\n",
              "      fill: #1967D2;\n",
              "      height: 32px;\n",
              "      padding: 0 0 0 0;\n",
              "      width: 32px;\n",
              "    }\n",
              "\n",
              "    .colab-df-convert:hover {\n",
              "      background-color: #E2EBFA;\n",
              "      box-shadow: 0px 1px 2px rgba(60, 64, 67, 0.3), 0px 1px 3px 1px rgba(60, 64, 67, 0.15);\n",
              "      fill: #174EA6;\n",
              "    }\n",
              "\n",
              "    [theme=dark] .colab-df-convert {\n",
              "      background-color: #3B4455;\n",
              "      fill: #D2E3FC;\n",
              "    }\n",
              "\n",
              "    [theme=dark] .colab-df-convert:hover {\n",
              "      background-color: #434B5C;\n",
              "      box-shadow: 0px 1px 3px 1px rgba(0, 0, 0, 0.15);\n",
              "      filter: drop-shadow(0px 1px 2px rgba(0, 0, 0, 0.3));\n",
              "      fill: #FFFFFF;\n",
              "    }\n",
              "  </style>\n",
              "\n",
              "      <script>\n",
              "        const buttonEl =\n",
              "          document.querySelector('#df-8aabbf12-84c3-4098-808b-e948ae70e2be button.colab-df-convert');\n",
              "        buttonEl.style.display =\n",
              "          google.colab.kernel.accessAllowed ? 'block' : 'none';\n",
              "\n",
              "        async function convertToInteractive(key) {\n",
              "          const element = document.querySelector('#df-8aabbf12-84c3-4098-808b-e948ae70e2be');\n",
              "          const dataTable =\n",
              "            await google.colab.kernel.invokeFunction('convertToInteractive',\n",
              "                                                     [key], {});\n",
              "          if (!dataTable) return;\n",
              "\n",
              "          const docLinkHtml = 'Like what you see? Visit the ' +\n",
              "            '<a target=\"_blank\" href=https://colab.research.google.com/notebooks/data_table.ipynb>data table notebook</a>'\n",
              "            + ' to learn more about interactive tables.';\n",
              "          element.innerHTML = '';\n",
              "          dataTable['output_type'] = 'display_data';\n",
              "          await google.colab.output.renderOutput(dataTable, element);\n",
              "          const docLink = document.createElement('div');\n",
              "          docLink.innerHTML = docLinkHtml;\n",
              "          element.appendChild(docLink);\n",
              "        }\n",
              "      </script>\n",
              "    </div>\n",
              "  </div>\n",
              "  "
            ]
          },
          "metadata": {},
          "execution_count": 3
        }
      ],
      "source": [
        "Lectura.head()"
      ]
    },
    {
      "cell_type": "code",
      "execution_count": 4,
      "metadata": {
        "id": "IE2UVP2_qqji"
      },
      "outputs": [],
      "source": [
        "#Visualizamos que tamaño tienen los datos\n",
        "#print('Tamaño de los datos: ',Lectura.shape)"
      ]
    },
    {
      "cell_type": "code",
      "execution_count": 5,
      "metadata": {
        "id": "QU4gdqrFqqjl"
      },
      "outputs": [],
      "source": [
        "#Hay valores nulos en los datos?\n",
        "#Lectura.info()"
      ]
    },
    {
      "cell_type": "markdown",
      "metadata": {
        "id": "2QmV0LOBqqjn"
      },
      "source": [
        "ANALIZAMOS LOS CODIGO DE CARRERAS"
      ]
    },
    {
      "cell_type": "code",
      "execution_count": 6,
      "metadata": {
        "colab": {
          "base_uri": "https://localhost:8080/"
        },
        "id": "NfefnEfiqqjn",
        "outputId": "4bf2d672-1164-4355-e852-a3f44cbb624f"
      },
      "outputs": [
        {
          "output_type": "execute_result",
          "data": {
            "text/plain": [
              "array(['CGF-175-09', 'CGF-PLS09 ', 'CGF-PLS13 ', 'CIV-175-09',\n",
              "       'CIV-PLS09 ', 'CIV-PLS13 ', 'ECA-175-09', 'ECA-PLS09 ',\n",
              "       'ECA-PLS13 ', 'ECA9-OPT  ', 'ELE-175-09', 'ELE-PLS09 ',\n",
              "       'ELE-PLS13 ', 'IND-175-09', 'IND-PLS09 ', 'IND-PLS13 ',\n",
              "       'INT9-PROYT', 'INT9CONSTR', 'INT9ELECTR', 'INT9G-ECO ',\n",
              "       'INT9MECANI', 'INT9ORTERR', 'INT9RNYMA ', 'INT9SANEHI',\n",
              "       'INT9SDIGYT', 'INT9TRANSP', 'MCT-175-09', 'MCT-PLS09 ',\n",
              "       'MCT-PLS13 ', 'MCT9-OPT  ', 'MEC-175-09', 'MEC-PLS09 ',\n",
              "       'MEC-PLS13 ', 'MEC9-OPT  ', 'TIVAS     '], dtype=object)"
            ]
          },
          "metadata": {},
          "execution_count": 6
        }
      ],
      "source": [
        "np.unique(Lectura[\"Cod.Car.Sec\"])"
      ]
    },
    {
      "cell_type": "code",
      "execution_count": 6,
      "metadata": {
        "id": "_beQHTOQqqjo"
      },
      "outputs": [],
      "source": [
        ""
      ]
    },
    {
      "cell_type": "markdown",
      "metadata": {
        "id": "O3eufN2-qqjp"
      },
      "source": [
        "SEPARAMOS LOS DATOS PARA SER ANALIZDOS:\n",
        "En este caso seleccione  los de la carrera de ING. CIVIL"
      ]
    },
    {
      "cell_type": "code",
      "execution_count": 7,
      "metadata": {
        "colab": {
          "base_uri": "https://localhost:8080/"
        },
        "id": "Qxrtq7rXqqjq",
        "outputId": "487b3d58-6aab-4eac-d6c1-94ee2aa04249"
      },
      "outputs": [
        {
          "output_type": "stream",
          "name": "stdout",
          "text": [
            "CIV-175-09\n",
            "CIV-PLS09 \n",
            "CIV-PLS13 \n"
          ]
        }
      ],
      "source": [
        "civil=pd.DataFrame(columns=Lectura.columns)\n",
        "for car in ['CIV-175-09','CIV-PLS09 ', 'CIV-PLS13 ']:\n",
        "    print(car)\n",
        "    civil=pd.concat([civil, Lectura[Lectura[\"Cod.Car.Sec\"]==car]], axis=0)"
      ]
    },
    {
      "cell_type": "code",
      "execution_count": 7,
      "metadata": {
        "id": "ag0Xuz_Lqqjr"
      },
      "outputs": [],
      "source": [
        ""
      ]
    },
    {
      "cell_type": "code",
      "execution_count": 7,
      "metadata": {
        "id": "CJ6bgsjSqqjr"
      },
      "outputs": [],
      "source": [
        ""
      ]
    },
    {
      "cell_type": "markdown",
      "metadata": {
        "id": "9yPXkCn3qqjs"
      },
      "source": [
        "MATERIAS DEL PRIMER SEMESTRE"
      ]
    },
    {
      "cell_type": "code",
      "execution_count": 8,
      "metadata": {
        "colab": {
          "base_uri": "https://localhost:8080/"
        },
        "id": "GxsJ8GXgqqkY",
        "outputId": "ba46f2fd-6c26-485e-dde7-f10121a8e4f2"
      },
      "outputs": [
        {
          "output_type": "execute_result",
          "data": {
            "text/plain": [
              "array(['ALGEBRA LINEAL 1', 'CALCULO 1', 'DIBUJO TECNICO', 'FISICA 1',\n",
              "       'GEOMETRIA ANALITICA', 'GEOMETRIA DESCRIPTIVA'], dtype=object)"
            ]
          },
          "metadata": {},
          "execution_count": 8
        }
      ],
      "source": [
        "primerS=civil[ (civil[\"Cod.Curso\"]==1) & (civil[\"Aprobado\"]==\"S\")]\n",
        "CprimerS=np.unique(primerS[\"Asignatura\"])\n",
        "CprimerS\n"
      ]
    },
    {
      "cell_type": "code",
      "execution_count": 8,
      "metadata": {
        "id": "-ahHJ7ccqqka"
      },
      "outputs": [],
      "source": [
        ""
      ]
    },
    {
      "cell_type": "code",
      "execution_count": 8,
      "metadata": {
        "id": "d9iXbio7qqkb"
      },
      "outputs": [],
      "source": [
        ""
      ]
    },
    {
      "cell_type": "markdown",
      "metadata": {
        "id": "-_vFAnrEqqkd"
      },
      "source": [
        "FILTRO LOS ID QUE CURSARON TODAS MATERIAS DEL CUARTO SEMESTRE"
      ]
    },
    {
      "cell_type": "code",
      "execution_count": 9,
      "metadata": {
        "colab": {
          "base_uri": "https://localhost:8080/"
        },
        "id": "DUDXksggqqkd",
        "outputId": "f4c76328-e980-4362-9636-8d3a8d284f55"
      },
      "outputs": [
        {
          "output_type": "stream",
          "name": "stdout",
          "text": [
            "CALCULO 4\n",
            "DINAMICA\n",
            "ESTRUCTURAS 1\n",
            "FISICA 4\n",
            "MECANICA DE MATERIALES 1\n",
            "Cantidad de elementos (8848, 23)\n"
          ]
        }
      ],
      "source": [
        "newdata=pd.DataFrame(columns=civil.columns)\n",
        "for mat in ['CALCULO 4', 'DINAMICA', 'ESTRUCTURAS 1', 'FISICA 4',\n",
        "       'MECANICA DE MATERIALES 1']:\n",
        "    newdata=pd.concat([newdata, civil[civil[\"Asignatura\"]==mat]], axis=0)\n",
        "    print(mat)\n",
        "print('Cantidad de elementos',newdata.shape)"
      ]
    },
    {
      "cell_type": "code",
      "execution_count": 9,
      "metadata": {
        "id": "R0ON3ngqqqkf"
      },
      "outputs": [],
      "source": [
        ""
      ]
    },
    {
      "cell_type": "code",
      "execution_count": 9,
      "metadata": {
        "id": "UMGzu2UMqqkf"
      },
      "outputs": [],
      "source": [
        ""
      ]
    },
    {
      "cell_type": "markdown",
      "metadata": {
        "id": "XEyc-3Euqqkg"
      },
      "source": [
        "SEGUIDAMENTE FILTRO SOLO LOS QUE TIENEN APROBADO ESAS MATERIAS"
      ]
    },
    {
      "cell_type": "code",
      "execution_count": 10,
      "metadata": {
        "colab": {
          "base_uri": "https://localhost:8080/"
        },
        "id": "JvfDJFcoqqkh",
        "outputId": "475c833a-f1f9-44e9-fdd5-7bc84e1fa356"
      },
      "outputs": [
        {
          "output_type": "stream",
          "name": "stdout",
          "text": [
            "Cantidad de elementos (4054, 23)\n"
          ]
        }
      ],
      "source": [
        "df=newdata[newdata[\"Aprobado\"]==\"S\"]\n",
        "print('Cantidad de elementos',df.shape)\n"
      ]
    },
    {
      "cell_type": "code",
      "execution_count": 10,
      "metadata": {
        "id": "lyVfyAF8qqki"
      },
      "outputs": [],
      "source": [
        ""
      ]
    },
    {
      "cell_type": "code",
      "execution_count": 10,
      "metadata": {
        "id": "mifFVSd_qqkj"
      },
      "outputs": [],
      "source": [
        ""
      ]
    },
    {
      "cell_type": "markdown",
      "metadata": {
        "id": "8XDQJiaQqqkk"
      },
      "source": [
        "LUEGO VISUALIZAMOS LA CANTIDAD DE ESTUDIANTES REALES"
      ]
    },
    {
      "cell_type": "code",
      "execution_count": 11,
      "metadata": {
        "colab": {
          "base_uri": "https://localhost:8080/"
        },
        "id": "RV53rx75qqkp",
        "outputId": "87698a46-82bd-409d-e7f9-b3f4ad8c2868"
      },
      "outputs": [
        {
          "output_type": "stream",
          "name": "stdout",
          "text": [
            "968\n"
          ]
        }
      ],
      "source": [
        "estudiantes=np.unique(df['id_anony'])\n",
        "materias=np.unique(df['Asignatura'])\n",
        "print(len(estudiantes))"
      ]
    },
    {
      "cell_type": "code",
      "execution_count": 12,
      "metadata": {
        "id": "JBpn7BKeqqkr"
      },
      "outputs": [],
      "source": [
        "#nuevo=df[df.id_anony.values=='es_4160']\n",
        "#nuevo=civil[civil.id_anony.values=='es_4160']\n",
        "#nuevo"
      ]
    },
    {
      "cell_type": "code",
      "execution_count": 13,
      "metadata": {
        "id": "vM0W6efeqqks"
      },
      "outputs": [],
      "source": [
        "#estudiantes"
      ]
    },
    {
      "cell_type": "code",
      "execution_count": 13,
      "metadata": {
        "id": "RhnZssgwqqkt"
      },
      "outputs": [],
      "source": [
        ""
      ]
    },
    {
      "cell_type": "code",
      "execution_count": 14,
      "metadata": {
        "id": "0yGIcHm_qqkt"
      },
      "outputs": [],
      "source": [
        "\n"
      ]
    },
    {
      "cell_type": "code",
      "execution_count": 192,
      "metadata": {
        "id": "zL7JziVRqqku"
      },
      "outputs": [],
      "source": [
        "Alumnos=[]\n",
        "Alumnos.clear()\n",
        "Inicio=[]\n",
        "Inicio.clear()\n",
        "Duracion=[]\n",
        "Duracion.clear()\n",
        "for ides in estudiantes:\n",
        "    registro=df[df.id_anony.values==ides]\n",
        "    regis=civil[civil.id_anony.values==ides]\n",
        "    cant=np.unique(registro[\"Asignatura\"])\n",
        "    a=np.sum(cant=='CALCULO 4')\n",
        "    a=a+np.sum(cant=='DINAMICA')\n",
        "    a=a+np.sum(cant=='ESTRUCTURAS 1')\n",
        "    a=a+np.sum(cant=='FISICA 4')\n",
        "    a=a+np.sum(cant=='MECANICA DE MATERIALES 1')\n",
        "    regi=np.sum((regis[\"Cod.Curso\"].values==1))\n",
        "    if (a==5)&(regi>0):\n",
        "        ides\n",
        "        AnhoIn=min(regis[\"danho\"])\n",
        "        AnhoFin=max(registro[\"danho\"])\n",
        "        Tiempo=AnhoFin-AnhoIn\n",
        "        Alumnos.append(ides)\n",
        "        Duracion.append(Tiempo)\n",
        "        Inicio.append(AnhoIn)"
      ]
    },
    {
      "cell_type": "code",
      "execution_count": 15,
      "metadata": {
        "id": "bjIjl1kMqqkx"
      },
      "outputs": [],
      "source": [
        ""
      ]
    },
    {
      "cell_type": "code",
      "execution_count": 193,
      "metadata": {
        "colab": {
          "base_uri": "https://localhost:8080/",
          "height": 424
        },
        "id": "nZKC3GU4qqky",
        "outputId": "57a46677-8848-4146-e7b0-5384005519a2"
      },
      "outputs": [
        {
          "output_type": "execute_result",
          "data": {
            "text/plain": [
              "     Alumnos  Ingreso  Duracion\n",
              "0    es_1164     2012         4\n",
              "1    es_1185     2012         3\n",
              "2    es_1204     2012         8\n",
              "3    es_1244     2012         5\n",
              "4    es_1253     2012         4\n",
              "..       ...      ...       ...\n",
              "415  es_4087     2018         2\n",
              "416  es_4104     2018         2\n",
              "417  es_4134     2018         2\n",
              "418  es_4156     2018         2\n",
              "419  es_4189     2018         2\n",
              "\n",
              "[420 rows x 3 columns]"
            ],
            "text/html": [
              "\n",
              "  <div id=\"df-cb19cd99-0878-4b52-bd9d-1d9c2e9665be\">\n",
              "    <div class=\"colab-df-container\">\n",
              "      <div>\n",
              "<style scoped>\n",
              "    .dataframe tbody tr th:only-of-type {\n",
              "        vertical-align: middle;\n",
              "    }\n",
              "\n",
              "    .dataframe tbody tr th {\n",
              "        vertical-align: top;\n",
              "    }\n",
              "\n",
              "    .dataframe thead th {\n",
              "        text-align: right;\n",
              "    }\n",
              "</style>\n",
              "<table border=\"1\" class=\"dataframe\">\n",
              "  <thead>\n",
              "    <tr style=\"text-align: right;\">\n",
              "      <th></th>\n",
              "      <th>Alumnos</th>\n",
              "      <th>Ingreso</th>\n",
              "      <th>Duracion</th>\n",
              "    </tr>\n",
              "  </thead>\n",
              "  <tbody>\n",
              "    <tr>\n",
              "      <th>0</th>\n",
              "      <td>es_1164</td>\n",
              "      <td>2012</td>\n",
              "      <td>4</td>\n",
              "    </tr>\n",
              "    <tr>\n",
              "      <th>1</th>\n",
              "      <td>es_1185</td>\n",
              "      <td>2012</td>\n",
              "      <td>3</td>\n",
              "    </tr>\n",
              "    <tr>\n",
              "      <th>2</th>\n",
              "      <td>es_1204</td>\n",
              "      <td>2012</td>\n",
              "      <td>8</td>\n",
              "    </tr>\n",
              "    <tr>\n",
              "      <th>3</th>\n",
              "      <td>es_1244</td>\n",
              "      <td>2012</td>\n",
              "      <td>5</td>\n",
              "    </tr>\n",
              "    <tr>\n",
              "      <th>4</th>\n",
              "      <td>es_1253</td>\n",
              "      <td>2012</td>\n",
              "      <td>4</td>\n",
              "    </tr>\n",
              "    <tr>\n",
              "      <th>...</th>\n",
              "      <td>...</td>\n",
              "      <td>...</td>\n",
              "      <td>...</td>\n",
              "    </tr>\n",
              "    <tr>\n",
              "      <th>415</th>\n",
              "      <td>es_4087</td>\n",
              "      <td>2018</td>\n",
              "      <td>2</td>\n",
              "    </tr>\n",
              "    <tr>\n",
              "      <th>416</th>\n",
              "      <td>es_4104</td>\n",
              "      <td>2018</td>\n",
              "      <td>2</td>\n",
              "    </tr>\n",
              "    <tr>\n",
              "      <th>417</th>\n",
              "      <td>es_4134</td>\n",
              "      <td>2018</td>\n",
              "      <td>2</td>\n",
              "    </tr>\n",
              "    <tr>\n",
              "      <th>418</th>\n",
              "      <td>es_4156</td>\n",
              "      <td>2018</td>\n",
              "      <td>2</td>\n",
              "    </tr>\n",
              "    <tr>\n",
              "      <th>419</th>\n",
              "      <td>es_4189</td>\n",
              "      <td>2018</td>\n",
              "      <td>2</td>\n",
              "    </tr>\n",
              "  </tbody>\n",
              "</table>\n",
              "<p>420 rows × 3 columns</p>\n",
              "</div>\n",
              "      <button class=\"colab-df-convert\" onclick=\"convertToInteractive('df-cb19cd99-0878-4b52-bd9d-1d9c2e9665be')\"\n",
              "              title=\"Convert this dataframe to an interactive table.\"\n",
              "              style=\"display:none;\">\n",
              "        \n",
              "  <svg xmlns=\"http://www.w3.org/2000/svg\" height=\"24px\"viewBox=\"0 0 24 24\"\n",
              "       width=\"24px\">\n",
              "    <path d=\"M0 0h24v24H0V0z\" fill=\"none\"/>\n",
              "    <path d=\"M18.56 5.44l.94 2.06.94-2.06 2.06-.94-2.06-.94-.94-2.06-.94 2.06-2.06.94zm-11 1L8.5 8.5l.94-2.06 2.06-.94-2.06-.94L8.5 2.5l-.94 2.06-2.06.94zm10 10l.94 2.06.94-2.06 2.06-.94-2.06-.94-.94-2.06-.94 2.06-2.06.94z\"/><path d=\"M17.41 7.96l-1.37-1.37c-.4-.4-.92-.59-1.43-.59-.52 0-1.04.2-1.43.59L10.3 9.45l-7.72 7.72c-.78.78-.78 2.05 0 2.83L4 21.41c.39.39.9.59 1.41.59.51 0 1.02-.2 1.41-.59l7.78-7.78 2.81-2.81c.8-.78.8-2.07 0-2.86zM5.41 20L4 18.59l7.72-7.72 1.47 1.35L5.41 20z\"/>\n",
              "  </svg>\n",
              "      </button>\n",
              "      \n",
              "  <style>\n",
              "    .colab-df-container {\n",
              "      display:flex;\n",
              "      flex-wrap:wrap;\n",
              "      gap: 12px;\n",
              "    }\n",
              "\n",
              "    .colab-df-convert {\n",
              "      background-color: #E8F0FE;\n",
              "      border: none;\n",
              "      border-radius: 50%;\n",
              "      cursor: pointer;\n",
              "      display: none;\n",
              "      fill: #1967D2;\n",
              "      height: 32px;\n",
              "      padding: 0 0 0 0;\n",
              "      width: 32px;\n",
              "    }\n",
              "\n",
              "    .colab-df-convert:hover {\n",
              "      background-color: #E2EBFA;\n",
              "      box-shadow: 0px 1px 2px rgba(60, 64, 67, 0.3), 0px 1px 3px 1px rgba(60, 64, 67, 0.15);\n",
              "      fill: #174EA6;\n",
              "    }\n",
              "\n",
              "    [theme=dark] .colab-df-convert {\n",
              "      background-color: #3B4455;\n",
              "      fill: #D2E3FC;\n",
              "    }\n",
              "\n",
              "    [theme=dark] .colab-df-convert:hover {\n",
              "      background-color: #434B5C;\n",
              "      box-shadow: 0px 1px 3px 1px rgba(0, 0, 0, 0.15);\n",
              "      filter: drop-shadow(0px 1px 2px rgba(0, 0, 0, 0.3));\n",
              "      fill: #FFFFFF;\n",
              "    }\n",
              "  </style>\n",
              "\n",
              "      <script>\n",
              "        const buttonEl =\n",
              "          document.querySelector('#df-cb19cd99-0878-4b52-bd9d-1d9c2e9665be button.colab-df-convert');\n",
              "        buttonEl.style.display =\n",
              "          google.colab.kernel.accessAllowed ? 'block' : 'none';\n",
              "\n",
              "        async function convertToInteractive(key) {\n",
              "          const element = document.querySelector('#df-cb19cd99-0878-4b52-bd9d-1d9c2e9665be');\n",
              "          const dataTable =\n",
              "            await google.colab.kernel.invokeFunction('convertToInteractive',\n",
              "                                                     [key], {});\n",
              "          if (!dataTable) return;\n",
              "\n",
              "          const docLinkHtml = 'Like what you see? Visit the ' +\n",
              "            '<a target=\"_blank\" href=https://colab.research.google.com/notebooks/data_table.ipynb>data table notebook</a>'\n",
              "            + ' to learn more about interactive tables.';\n",
              "          element.innerHTML = '';\n",
              "          dataTable['output_type'] = 'display_data';\n",
              "          await google.colab.output.renderOutput(dataTable, element);\n",
              "          const docLink = document.createElement('div');\n",
              "          docLink.innerHTML = docLinkHtml;\n",
              "          element.appendChild(docLink);\n",
              "        }\n",
              "      </script>\n",
              "    </div>\n",
              "  </div>\n",
              "  "
            ]
          },
          "metadata": {},
          "execution_count": 193
        }
      ],
      "source": [
        "Datos=pd.DataFrame({'Alumnos':Alumnos,'Ingreso':Inicio,'Duracion':Duracion})\n",
        "Datos"
      ]
    },
    {
      "cell_type": "code",
      "execution_count": 17,
      "metadata": {
        "id": "eCqdcmeFqqkz"
      },
      "outputs": [],
      "source": [
        "#Datos.iloc[:,0]"
      ]
    },
    {
      "cell_type": "code",
      "execution_count": 204,
      "metadata": {
        "id": "7DnWkmCqqqk0"
      },
      "outputs": [],
      "source": [
        "xlin=Datos.iloc[:,1].values\n",
        "Xlin=xlin.reshape(-1, 1)\n",
        "ylin=Datos.iloc[:,2].values\n",
        "\n",
        "#x = Datos[\"Ingreso\"]\n",
        "#y = Datos[\"Duracion\"]"
      ]
    },
    {
      "cell_type": "code",
      "execution_count": 205,
      "metadata": {
        "colab": {
          "base_uri": "https://localhost:8080/",
          "height": 265
        },
        "id": "6WY2n1Meqqk8",
        "outputId": "bbf95b2a-9703-48e5-9160-5f410fec9e8d"
      },
      "outputs": [
        {
          "output_type": "display_data",
          "data": {
            "text/plain": [
              "<Figure size 432x288 with 1 Axes>"
            ],
            "image/png": "[encoded data removed]"
          },
          "metadata": {
            "needs_background": "light"
          }
        }
      ],
      "source": [
        "plt.scatter(xlin,ylin,alpha=0.5)\n",
        "plt.show()"
      ]
    },
    {
      "cell_type": "code",
      "execution_count": 19,
      "metadata": {
        "id": "_14_CGy6qqk9"
      },
      "outputs": [],
      "source": [
        ""
      ]
    },
    {
      "cell_type": "code",
      "execution_count": 214,
      "metadata": {
        "id": "kj6knL6Tqqk-"
      },
      "outputs": [],
      "source": [
        "from sklearn.model_selection import train_test_split\n",
        "from sklearn.linear_model import LinearRegression\n",
        "from sklearn.metrics import confusion_matrix\n",
        "from sklearn.metrics import mean_squared_error"
      ]
    },
    {
      "cell_type": "code",
      "execution_count": 207,
      "metadata": {
        "colab": {
          "base_uri": "https://localhost:8080/"
        },
        "id": "NOuI5VL6qqk-",
        "outputId": "86946c08-bfb1-4e50-e8e5-76cb11518565"
      },
      "outputs": [
        {
          "output_type": "stream",
          "name": "stdout",
          "text": [
            "Train Data shape: (378, 1)\n",
            "test Data shape: (42, 1)\n",
            "Train labels shape: (378,)\n",
            "test labels shape: (42,)\n"
          ]
        }
      ],
      "source": [
        "X_train,X_test,Y_train,Y_test=train_test_split(Xlin,ylin,test_size=0.1,random_state=0)\n",
        "print(\"Train Data shape: \" + str(X_train.shape)) #datos  \n",
        "print(\"test Data shape: \" + str(X_test.shape))\n",
        "print(\"Train labels shape: \" + str(Y_train.shape)) #datos  \n",
        "print(\"test labels shape: \" + str(Y_test.shape))"
      ]
    },
    {
      "cell_type": "code",
      "execution_count": 208,
      "metadata": {
        "colab": {
          "base_uri": "https://localhost:8080/"
        },
        "id": "qcz52TLyqqk_",
        "outputId": "d1cef4fb-fdf3-4e83-e4de-8903f764825a"
      },
      "outputs": [
        {
          "output_type": "execute_result",
          "data": {
            "text/plain": [
              "LinearRegression()"
            ]
          },
          "metadata": {},
          "execution_count": 208
        }
      ],
      "source": [
        "lm = LinearRegression()\n",
        "lm.fit(X_train,Y_train)"
      ]
    },
    {
      "cell_type": "code",
      "execution_count": 209,
      "metadata": {
        "colab": {
          "base_uri": "https://localhost:8080/"
        },
        "id": "OoY-tTedqqlA",
        "outputId": "9e1a210a-3f85-40e8-e80f-a05ec5bc7c16"
      },
      "outputs": [
        {
          "output_type": "stream",
          "name": "stdout",
          "text": [
            "Coeficiente de determinacion 0.18393233172103607\n",
            "b0: 663.0921736215854\n",
            "b1: [-0.32755153]\n"
          ]
        }
      ],
      "source": [
        "R_sq=lm.score(X_train,Y_train)\n",
        "print('Coeficiente de determinacion',R_sq)\n",
        "print('b0:',lm.intercept_)\n",
        "print('b1:',lm.coef_)"
      ]
    },
    {
      "cell_type": "code",
      "execution_count": 210,
      "metadata": {
        "colab": {
          "base_uri": "https://localhost:8080/"
        },
        "id": "CEuEJiKrqqlB",
        "outputId": "0b59215b-2f2f-41b4-9669-0bebf5819500"
      },
      "outputs": [
        {
          "output_type": "execute_result",
          "data": {
            "text/plain": [
              "array([3.73093682, 2.74828222, 4.05848835, 3.73093682, 3.73093682,\n",
              "       3.40338529, 4.05848835, 3.07583375, 3.40338529, 3.07583375,\n",
              "       4.05848835, 3.73093682, 3.73093682, 3.40338529, 2.74828222,\n",
              "       3.40338529, 3.73093682, 2.09317915, 2.74828222, 3.07583375,\n",
              "       4.05848835, 4.05848835, 3.07583375, 4.05848835, 2.74828222,\n",
              "       2.42073069, 3.07583375, 3.73093682, 3.73093682, 3.40338529,\n",
              "       2.42073069, 4.05848835, 3.07583375, 3.07583375, 3.73093682,\n",
              "       2.74828222, 4.05848835, 3.73093682, 3.73093682, 2.42073069,\n",
              "       4.05848835, 3.07583375])"
            ]
          },
          "metadata": {},
          "execution_count": 210
        }
      ],
      "source": [
        "prediccion = lm.predict(X_test)\n",
        "prediccion"
      ]
    },
    {
      "cell_type": "code",
      "execution_count": 211,
      "metadata": {
        "colab": {
          "base_uri": "https://localhost:8080/"
        },
        "id": "U4p_abTdqqlH",
        "outputId": "1abf7a67-480d-4d30-c891-a4f4b049b975"
      },
      "outputs": [
        {
          "output_type": "execute_result",
          "data": {
            "text/plain": [
              "3.38778759366996"
            ]
          },
          "metadata": {},
          "execution_count": 211
        }
      ],
      "source": [
        "np.mean(prediccion)"
      ]
    },
    {
      "cell_type": "code",
      "source": [
        "mse = mean_squared_error(Y_test,prediccion)\n",
        "print('Error cuadratico medio:',mse)"
      ],
      "metadata": {
        "colab": {
          "base_uri": "https://localhost:8080/"
        },
        "id": "SXcSfkYwJ-C7",
        "outputId": "724ae013-c1eb-48c6-a15d-02299594f938"
      },
      "execution_count": 215,
      "outputs": [
        {
          "output_type": "stream",
          "name": "stdout",
          "text": [
            "Error cuadratico medio: 1.6431632056465548\n"
          ]
        }
      ]
    },
    {
      "cell_type": "code",
      "source": [
        ""
      ],
      "metadata": {
        "id": "bTXYE1bC9DBg"
      },
      "execution_count": 201,
      "outputs": []
    },
    {
      "cell_type": "code",
      "execution_count": 202,
      "metadata": {
        "colab": {
          "base_uri": "https://localhost:8080/",
          "height": 265
        },
        "id": "fsSnuu-OqqlJ",
        "outputId": "3b4e6b3a-8abb-49c2-d083-bc446081f590"
      },
      "outputs": [
        {
          "output_type": "display_data",
          "data": {
            "text/plain": [
              "<Figure size 432x288 with 1 Axes>"
            ],
            "image/png": "[encoded data removed]"
          },
          "metadata": {
            "needs_background": "light"
          }
        }
      ],
      "source": [
        "plt.scatter(X_test,prediccion)\n",
        "plt.show()"
      ]
    },
    {
      "cell_type": "code",
      "execution_count": null,
      "metadata": {
        "id": "d_RRAu_4qqlJ"
      },
      "outputs": [],
      "source": [
        ""
      ]
    },
    {
      "cell_type": "code",
      "execution_count": null,
      "metadata": {
        "id": "LGot4gmFqqlK"
      },
      "outputs": [],
      "source": [
        ""
      ]
    },
    {
      "cell_type": "code",
      "execution_count": null,
      "metadata": {
        "id": "khYnaLJtqqlK"
      },
      "outputs": [],
      "source": [
        ""
      ]
    },
    {
      "cell_type": "code",
      "execution_count": null,
      "metadata": {
        "id": "xntzwmpjqqlL"
      },
      "outputs": [],
      "source": [
        ""
      ]
    },
    {
      "cell_type": "code",
      "execution_count": 28,
      "metadata": {
        "colab": {
          "base_uri": "https://localhost:8080/"
        },
        "id": "0rnjj3kYqqlL",
        "outputId": "1e90f745-c6f0-48e5-c329-6a56318c3562"
      },
      "outputs": [
        {
          "output_type": "stream",
          "name": "stdout",
          "text": [
            "CIV-175-09\n",
            "CIV-PLS09 \n",
            "CIV-PLS13 \n"
          ]
        }
      ],
      "source": [
        "civil=pd.DataFrame(columns=Lectura.columns)\n",
        "for car in ['CIV-175-09','CIV-PLS09 ', 'CIV-PLS13 ']:\n",
        "    print(car)\n",
        "    civil=pd.concat([civil, Lectura[Lectura[\"Cod.Car.Sec\"]==car]], axis=0)\n"
      ]
    },
    {
      "cell_type": "code",
      "source": [
        "civil=civil[civil[\"Cod.Curso\"]<5]\n"
      ],
      "metadata": {
        "id": "W2CdznOW472s"
      },
      "execution_count": 29,
      "outputs": []
    },
    {
      "cell_type": "code",
      "execution_count": null,
      "metadata": {
        "id": "8ePCZUbkqqlL"
      },
      "outputs": [],
      "source": [
        ""
      ]
    },
    {
      "cell_type": "markdown",
      "source": [
        "newda=pd.DataFrame(columns=civil.columns)\n",
        "for mat in ['CALCULO 4', 'DINAMICA', 'ESTRUCTURAS 1', 'FISICA 4',\n",
        "       'MECANICA DE MATERIALES 1']:\n",
        "    newda=pd.concat([newda, civil[civil[\"Asignatura\"]==mat]], axis=0)\n",
        "    print(mat)\n",
        "print('Cantidad de elementos',newda.shape)"
      ],
      "metadata": {
        "id": "JjB1qUNZ6CSh"
      }
    },
    {
      "cell_type": "code",
      "execution_count": 30,
      "metadata": {
        "id": "8tMuskFZqqlM"
      },
      "outputs": [],
      "source": [
        "daf=civil[(civil[\"Aprobado\"]==\"S\")|(civil[\"Aprobado\"]==\"N\") ]"
      ]
    },
    {
      "cell_type": "code",
      "execution_count": 31,
      "metadata": {
        "colab": {
          "base_uri": "https://localhost:8080/"
        },
        "id": "in6Ke1MWqqlP",
        "outputId": "a7336c5c-4b9a-4ffc-9eea-1a072663839c"
      },
      "outputs": [
        {
          "output_type": "stream",
          "name": "stdout",
          "text": [
            "2006\n"
          ]
        }
      ],
      "source": [
        "estudiantes=np.unique(daf['id_anony'])\n",
        "materias=np.unique(daf['Asignatura'])\n",
        "print(len(estudiantes))"
      ]
    },
    {
      "cell_type": "code",
      "source": [
        ""
      ],
      "metadata": {
        "id": "bPHYuHvxAj1b"
      },
      "execution_count": null,
      "outputs": []
    },
    {
      "cell_type": "code",
      "execution_count": null,
      "metadata": {
        "id": "zbwtiJUkqqly"
      },
      "outputs": [],
      "source": [
        ""
      ]
    },
    {
      "cell_type": "code",
      "execution_count": 217,
      "metadata": {
        "id": "rQFh77HDqqlz"
      },
      "outputs": [],
      "source": [
        "Alumnos=[]\n",
        "Alumnos.clear()\n",
        "Inicio=[]\n",
        "Inicio.clear()\n",
        "Duracion=[]\n",
        "Duracion.clear()\n",
        "Aprobado=[]\n",
        "Aprobado.clear()\n",
        "Mate=[]\n",
        "Mate.clear()\n",
        "for ides in estudiantes:\n",
        "    registro=daf[daf.id_anony.values==ides]\n",
        "    cant=np.unique(registro[\"Asignatura\"])\n",
        "    a=np.sum(cant=='CALCULO 4')\n",
        "    a=a+np.sum(cant=='DINAMICA')\n",
        "    a=a+np.sum(cant=='ESTRUCTURAS 1')\n",
        "    a=a+np.sum(cant=='FISICA 4')\n",
        "    a=a+np.sum(cant=='MECANICA DE MATERIALES 1')\n",
        "    regi=np.sum((registro[\"Cod.Curso\"].values==1))\n",
        "    pasadas=registro[registro[\"Aprobado\"]==\"S\"]\n",
        "    pasadas=np.unique(registro[\"Asignatura\"])\n",
        "    if regi>0:\n",
        "      if (a==5):\n",
        "        AnhoIn=min(registro[\"danho\"])\n",
        "        AnhoFin=max(registro[\"danho\"])\n",
        "        Tiempo=AnhoFin-AnhoIn\n",
        "        Alumnos.append(ides)\n",
        "        Duracion.append(Tiempo)\n",
        "        Inicio.append(AnhoIn)\n",
        "        Aprobado.append(1)\n",
        "        #Mate.append(22)\n",
        "        Mate.append(len(pasadas))\n",
        "\n",
        "      else :\n",
        "        AnhoIn=min(registro[\"danho\"])\n",
        "        AnhoFin=max(registro[\"danho\"])\n",
        "        Tiempo=AnhoFin-AnhoIn\n",
        "        Alumnos.append(ides)\n",
        "        Duracion.append(Tiempo)\n",
        "        Inicio.append(AnhoIn)\n",
        "        Aprobado.append(0)\n",
        "        Mate.append(len(pasadas))\n",
        "        #print(ides,Tiempo)\n",
        "    "
      ]
    },
    {
      "cell_type": "code",
      "execution_count": 218,
      "metadata": {
        "colab": {
          "base_uri": "https://localhost:8080/",
          "height": 206
        },
        "id": "B7dyQ4Muqql8",
        "outputId": "92cf3b69-1cd7-429a-e849-84a673048c1c"
      },
      "outputs": [
        {
          "output_type": "execute_result",
          "data": {
            "text/plain": [
              "   Alumnos  Ingreso  Duracion  Materias    CB Fin\n",
              "0   es_104     2012         9        14         0\n",
              "1  es_1102     2012         1        11         0\n",
              "2  es_1104     2012         4        22         1\n",
              "3  es_1108     2012         7        11         0\n",
              "4  es_1114     2012         4        20         1"
            ],
            "text/html": [
              "\n",
              "  <div id=\"df-b79f3b89-31b2-4bb8-8a78-bd37a9692d6b\">\n",
              "    <div class=\"colab-df-container\">\n",
              "      <div>\n",
              "<style scoped>\n",
              "    .dataframe tbody tr th:only-of-type {\n",
              "        vertical-align: middle;\n",
              "    }\n",
              "\n",
              "    .dataframe tbody tr th {\n",
              "        vertical-align: top;\n",
              "    }\n",
              "\n",
              "    .dataframe thead th {\n",
              "        text-align: right;\n",
              "    }\n",
              "</style>\n",
              "<table border=\"1\" class=\"dataframe\">\n",
              "  <thead>\n",
              "    <tr style=\"text-align: right;\">\n",
              "      <th></th>\n",
              "      <th>Alumnos</th>\n",
              "      <th>Ingreso</th>\n",
              "      <th>Duracion</th>\n",
              "      <th>Materias</th>\n",
              "      <th>CB Fin</th>\n",
              "    </tr>\n",
              "  </thead>\n",
              "  <tbody>\n",
              "    <tr>\n",
              "      <th>0</th>\n",
              "      <td>es_104</td>\n",
              "      <td>2012</td>\n",
              "      <td>9</td>\n",
              "      <td>14</td>\n",
              "      <td>0</td>\n",
              "    </tr>\n",
              "    <tr>\n",
              "      <th>1</th>\n",
              "      <td>es_1102</td>\n",
              "      <td>2012</td>\n",
              "      <td>1</td>\n",
              "      <td>11</td>\n",
              "      <td>0</td>\n",
              "    </tr>\n",
              "    <tr>\n",
              "      <th>2</th>\n",
              "      <td>es_1104</td>\n",
              "      <td>2012</td>\n",
              "      <td>4</td>\n",
              "      <td>22</td>\n",
              "      <td>1</td>\n",
              "    </tr>\n",
              "    <tr>\n",
              "      <th>3</th>\n",
              "      <td>es_1108</td>\n",
              "      <td>2012</td>\n",
              "      <td>7</td>\n",
              "      <td>11</td>\n",
              "      <td>0</td>\n",
              "    </tr>\n",
              "    <tr>\n",
              "      <th>4</th>\n",
              "      <td>es_1114</td>\n",
              "      <td>2012</td>\n",
              "      <td>4</td>\n",
              "      <td>20</td>\n",
              "      <td>1</td>\n",
              "    </tr>\n",
              "  </tbody>\n",
              "</table>\n",
              "</div>\n",
              "      <button class=\"colab-df-convert\" onclick=\"convertToInteractive('df-b79f3b89-31b2-4bb8-8a78-bd37a9692d6b')\"\n",
              "              title=\"Convert this dataframe to an interactive table.\"\n",
              "              style=\"display:none;\">\n",
              "        \n",
              "  <svg xmlns=\"http://www.w3.org/2000/svg\" height=\"24px\"viewBox=\"0 0 24 24\"\n",
              "       width=\"24px\">\n",
              "    <path d=\"M0 0h24v24H0V0z\" fill=\"none\"/>\n",
              "    <path d=\"M18.56 5.44l.94 2.06.94-2.06 2.06-.94-2.06-.94-.94-2.06-.94 2.06-2.06.94zm-11 1L8.5 8.5l.94-2.06 2.06-.94-2.06-.94L8.5 2.5l-.94 2.06-2.06.94zm10 10l.94 2.06.94-2.06 2.06-.94-2.06-.94-.94-2.06-.94 2.06-2.06.94z\"/><path d=\"M17.41 7.96l-1.37-1.37c-.4-.4-.92-.59-1.43-.59-.52 0-1.04.2-1.43.59L10.3 9.45l-7.72 7.72c-.78.78-.78 2.05 0 2.83L4 21.41c.39.39.9.59 1.41.59.51 0 1.02-.2 1.41-.59l7.78-7.78 2.81-2.81c.8-.78.8-2.07 0-2.86zM5.41 20L4 18.59l7.72-7.72 1.47 1.35L5.41 20z\"/>\n",
              "  </svg>\n",
              "      </button>\n",
              "      \n",
              "  <style>\n",
              "    .colab-df-container {\n",
              "      display:flex;\n",
              "      flex-wrap:wrap;\n",
              "      gap: 12px;\n",
              "    }\n",
              "\n",
              "    .colab-df-convert {\n",
              "      background-color: #E8F0FE;\n",
              "      border: none;\n",
              "      border-radius: 50%;\n",
              "      cursor: pointer;\n",
              "      display: none;\n",
              "      fill: #1967D2;\n",
              "      height: 32px;\n",
              "      padding: 0 0 0 0;\n",
              "      width: 32px;\n",
              "    }\n",
              "\n",
              "    .colab-df-convert:hover {\n",
              "      background-color: #E2EBFA;\n",
              "      box-shadow: 0px 1px 2px rgba(60, 64, 67, 0.3), 0px 1px 3px 1px rgba(60, 64, 67, 0.15);\n",
              "      fill: #174EA6;\n",
              "    }\n",
              "\n",
              "    [theme=dark] .colab-df-convert {\n",
              "      background-color: #3B4455;\n",
              "      fill: #D2E3FC;\n",
              "    }\n",
              "\n",
              "    [theme=dark] .colab-df-convert:hover {\n",
              "      background-color: #434B5C;\n",
              "      box-shadow: 0px 1px 3px 1px rgba(0, 0, 0, 0.15);\n",
              "      filter: drop-shadow(0px 1px 2px rgba(0, 0, 0, 0.3));\n",
              "      fill: #FFFFFF;\n",
              "    }\n",
              "  </style>\n",
              "\n",
              "      <script>\n",
              "        const buttonEl =\n",
              "          document.querySelector('#df-b79f3b89-31b2-4bb8-8a78-bd37a9692d6b button.colab-df-convert');\n",
              "        buttonEl.style.display =\n",
              "          google.colab.kernel.accessAllowed ? 'block' : 'none';\n",
              "\n",
              "        async function convertToInteractive(key) {\n",
              "          const element = document.querySelector('#df-b79f3b89-31b2-4bb8-8a78-bd37a9692d6b');\n",
              "          const dataTable =\n",
              "            await google.colab.kernel.invokeFunction('convertToInteractive',\n",
              "                                                     [key], {});\n",
              "          if (!dataTable) return;\n",
              "\n",
              "          const docLinkHtml = 'Like what you see? Visit the ' +\n",
              "            '<a target=\"_blank\" href=https://colab.research.google.com/notebooks/data_table.ipynb>data table notebook</a>'\n",
              "            + ' to learn more about interactive tables.';\n",
              "          element.innerHTML = '';\n",
              "          dataTable['output_type'] = 'display_data';\n",
              "          await google.colab.output.renderOutput(dataTable, element);\n",
              "          const docLink = document.createElement('div');\n",
              "          docLink.innerHTML = docLinkHtml;\n",
              "          element.appendChild(docLink);\n",
              "        }\n",
              "      </script>\n",
              "    </div>\n",
              "  </div>\n",
              "  "
            ]
          },
          "metadata": {},
          "execution_count": 218
        }
      ],
      "source": [
        "Datos=pd.DataFrame({'Alumnos':Alumnos,'Ingreso':Inicio,'Duracion':Duracion,'Materias':Mate,'  CB Fin':Aprobado})\n",
        "Datos.head()"
      ]
    },
    {
      "cell_type": "code",
      "source": [
        ""
      ],
      "metadata": {
        "id": "MW7kDbz97KBW"
      },
      "execution_count": null,
      "outputs": []
    },
    {
      "cell_type": "code",
      "execution_count": 219,
      "metadata": {
        "id": "-aUCjQ5HqqmD"
      },
      "outputs": [],
      "source": [
        "x=Datos.iloc[:,1].values\n",
        "X=x.reshape(-1, 1)\n",
        "y=Datos.iloc[:,4].values"
      ]
    },
    {
      "cell_type": "code",
      "execution_count": 220,
      "metadata": {
        "id": "loH4sClUqqmF",
        "outputId": "5fc34b0c-4d41-45a5-f889-3d68fdcc9e5f",
        "colab": {
          "base_uri": "https://localhost:8080/",
          "height": 265
        }
      },
      "outputs": [
        {
          "output_type": "display_data",
          "data": {
            "text/plain": [
              "<Figure size 432x288 with 1 Axes>"
            ],
            "image/png": "[encoded data removed]"
          },
          "metadata": {
            "needs_background": "light"
          }
        }
      ],
      "source": [
        "plt.scatter(X,y,alpha=0.5)\n",
        "plt.show()"
      ]
    },
    {
      "cell_type": "code",
      "source": [
        "X=Datos[['Ingreso','Duracion','Materias']].values"
      ],
      "metadata": {
        "id": "fP3zoTux-FLc"
      },
      "execution_count": 221,
      "outputs": []
    },
    {
      "cell_type": "code",
      "execution_count": 222,
      "metadata": {
        "id": "vHNeuI8RqqmG"
      },
      "outputs": [],
      "source": [
        "Y=Datos['  CB Fin'].values"
      ]
    },
    {
      "cell_type": "code",
      "source": [
        ""
      ],
      "metadata": {
        "id": "4kauw0U_szHn"
      },
      "execution_count": 222,
      "outputs": []
    },
    {
      "cell_type": "code",
      "execution_count": 223,
      "metadata": {
        "id": "YFESlJYWqqmH"
      },
      "outputs": [],
      "source": [
        "#plt.scatter(X,Y,s=40,c=1,cmap=plt.cm.Spectral)#para graficar\n",
        "#plt.show()"
      ]
    },
    {
      "cell_type": "code",
      "execution_count": 224,
      "metadata": {
        "id": "mhx8tAx-qqmK"
      },
      "outputs": [],
      "source": [
        "#'es_4104'\n",
        "#primerS.loc[['es_4134']]"
      ]
    },
    {
      "cell_type": "code",
      "execution_count": 225,
      "metadata": {
        "id": "D1nFUDmbqqmL"
      },
      "outputs": [],
      "source": [
        "from sklearn.model_selection import train_test_split\n",
        "from sklearn.linear_model import LogisticRegression\n",
        "from sklearn import metrics\n",
        "import seaborn as sns\n",
        "from sklearn.metrics import confusion_matrix"
      ]
    },
    {
      "cell_type": "code",
      "execution_count": 226,
      "metadata": {
        "colab": {
          "base_uri": "https://localhost:8080/"
        },
        "id": "VR_hXtyTqqmL",
        "outputId": "965bb8ed-d7f6-4991-a3bc-0ca7d7edab66"
      },
      "outputs": [
        {
          "output_type": "stream",
          "name": "stdout",
          "text": [
            "Train Data shape: (1368, 3)\n",
            "test Data shape: (153, 3)\n",
            "Train labels shape: (1368,)\n",
            "test labels shape: (153,)\n"
          ]
        }
      ],
      "source": [
        "X_train,X_test,Y_train,Y_test=train_test_split(X,Y,test_size=0.1,random_state=0)\n",
        "print(\"Train Data shape: \" + str(X_train.shape)) #datos  \n",
        "print(\"test Data shape: \" + str(X_test.shape))\n",
        "print(\"Train labels shape: \" + str(Y_train.shape)) #datos  \n",
        "print(\"test labels shape: \" + str(Y_test.shape))"
      ]
    },
    {
      "cell_type": "code",
      "source": [
        "log_regression=LogisticRegression()"
      ],
      "metadata": {
        "id": "TbejUs56yuB4"
      },
      "execution_count": 227,
      "outputs": []
    },
    {
      "cell_type": "code",
      "source": [
        "log_regression.fit(X_train,Y_train)"
      ],
      "metadata": {
        "colab": {
          "base_uri": "https://localhost:8080/"
        },
        "id": "eKpR5JmQ0Dw_",
        "outputId": "74e1027a-083d-47c7-f978-47655c5bd713"
      },
      "execution_count": 228,
      "outputs": [
        {
          "output_type": "execute_result",
          "data": {
            "text/plain": [
              "LogisticRegression()"
            ]
          },
          "metadata": {},
          "execution_count": 228
        }
      ]
    },
    {
      "cell_type": "code",
      "source": [
        "Y_pred=log_regression.predict(X_test)\n",
        "Y_pred"
      ],
      "metadata": {
        "colab": {
          "base_uri": "https://localhost:8080/"
        },
        "id": "ouUsVAhh0N5K",
        "outputId": "88c8c0e7-0ef1-409b-c2c0-ac16d6c8c1cb"
      },
      "execution_count": 229,
      "outputs": [
        {
          "output_type": "execute_result",
          "data": {
            "text/plain": [
              "array([0, 0, 0, 0, 0, 0, 0, 1, 1, 1, 0, 0, 0, 0, 0, 0, 1, 0, 0, 0, 0, 1,\n",
              "       0, 0, 0, 1, 1, 1, 1, 0, 0, 0, 1, 0, 0, 0, 1, 0, 0, 0, 0, 1, 0, 0,\n",
              "       1, 0, 1, 0, 0, 0, 1, 1, 0, 0, 1, 1, 0, 0, 0, 1, 1, 1, 0, 1, 0, 0,\n",
              "       0, 0, 1, 0, 1, 0, 0, 0, 0, 0, 0, 0, 0, 1, 0, 1, 0, 0, 1, 0, 1, 1,\n",
              "       0, 0, 1, 0, 0, 0, 0, 1, 1, 0, 1, 0, 0, 0, 0, 0, 1, 0, 0, 0, 0, 1,\n",
              "       0, 0, 0, 0, 0, 0, 0, 0, 0, 0, 0, 1, 0, 0, 0, 0, 1, 0, 1, 0, 1, 1,\n",
              "       1, 1, 0, 0, 0, 1, 0, 1, 0, 1, 0, 0, 0, 0, 1, 0, 0, 0, 0, 1, 1])"
            ]
          },
          "metadata": {},
          "execution_count": 229
        }
      ]
    },
    {
      "cell_type": "code",
      "source": [
        "print('La cantidad de alumnos:',Y_pred.shape)\n",
        "nP=np.sum(Y_pred[:]==0)\n",
        "print('Alumnos que no aprobaron:',nP)\n",
        "P=np.sum(Y_pred[:]==1)\n",
        "print('Alumnos que aprobaron:',P)"
      ],
      "metadata": {
        "id": "ZkhlGc9D0m89",
        "colab": {
          "base_uri": "https://localhost:8080/"
        },
        "outputId": "516e146f-8088-4057-9001-56d9f5b7f0b7"
      },
      "execution_count": 245,
      "outputs": [
        {
          "output_type": "stream",
          "name": "stdout",
          "text": [
            "La cantidad de alumnos: (153,)\n",
            "Alumnos que no aprobaron: 105\n",
            "Alumnos que aprobaron: 48\n"
          ]
        }
      ]
    },
    {
      "cell_type": "markdown",
      "source": [
        "Diagnosticos del modelo"
      ],
      "metadata": {
        "id": "5bSRFP3g0xYR"
      }
    },
    {
      "cell_type": "code",
      "execution_count": 178,
      "metadata": {
        "colab": {
          "base_uri": "https://localhost:8080/"
        },
        "id": "pdlDpZFQqqmM",
        "outputId": "ea440174-3974-48b9-baa5-e17c257b6c8b"
      },
      "outputs": [
        {
          "output_type": "execute_result",
          "data": {
            "text/plain": [
              "array([[102,   3],\n",
              "       [  3,  45]])"
            ]
          },
          "metadata": {},
          "execution_count": 178
        }
      ],
      "source": [
        "matrix_confu=metrics.confusion_matrix(Y_test,Y_pred)\n",
        "matrix_confu"
      ]
    },
    {
      "cell_type": "code",
      "source": [
        "dataframe=pd.DataFrame(matrix_confu)"
      ],
      "metadata": {
        "id": "pKeaFXEI3JWl"
      },
      "execution_count": 179,
      "outputs": []
    },
    {
      "cell_type": "code",
      "source": [
        ""
      ],
      "metadata": {
        "id": "7_Gl8mPr4N1f"
      },
      "execution_count": 171,
      "outputs": []
    },
    {
      "cell_type": "code",
      "source": [
        "sns.heatmap(dataframe,annot=True,cbar=None,cmap=\"Blues\")\n",
        "plt.title(\"Confusion Matrix\"), plt.tight_layout()\n",
        "plt.ylabel(\"True Class\"),plt.xlabel(\"Predicted Class\")\n",
        "plt.show()"
      ],
      "metadata": {
        "colab": {
          "base_uri": "https://localhost:8080/",
          "height": 311
        },
        "id": "-Dt2TQBu3Alu",
        "outputId": "75718714-4b73-48c9-8cb9-8c5c8fd54d3a"
      },
      "execution_count": 172,
      "outputs": [
        {
          "output_type": "display_data",
          "data": {
            "text/plain": [
              "<Figure size 432x288 with 1 Axes>"
            ],
            "image/png": "[encoded data removed]"
          },
          "metadata": {
            "needs_background": "light"
          }
        }
      ]
    },
    {
      "cell_type": "code",
      "execution_count": 173,
      "metadata": {
        "colab": {
          "base_uri": "https://localhost:8080/"
        },
        "id": "hgTShfDXqqmN",
        "outputId": "85e28b40-2b56-4c54-edbc-da09f7c4d4b3"
      },
      "outputs": [
        {
          "output_type": "stream",
          "name": "stdout",
          "text": [
            "Precision del modelo: 0.9607843137254902\n"
          ]
        }
      ],
      "source": [
        "print(\"Precision del modelo:\",metrics.accuracy_score(Y_test,Y_pred))"
      ]
    },
    {
      "cell_type": "code",
      "execution_count": null,
      "metadata": {
        "id": "3AANFj7NqqmO"
      },
      "outputs": [],
      "source": [
        ""
      ]
    },
    {
      "cell_type": "code",
      "execution_count": null,
      "metadata": {
        "id": "0inFVBkhqqmP"
      },
      "outputs": [],
      "source": [
        ""
      ]
    },
    {
      "cell_type": "code",
      "execution_count": null,
      "metadata": {
        "id": "bCSZP2yIqqmP"
      },
      "outputs": [],
      "source": [
        ""
      ]
    },
    {
      "cell_type": "code",
      "source": [
        ""
      ],
      "metadata": {
        "id": "ClBj25fsuzoi"
      },
      "execution_count": null,
      "outputs": []
    },
    {
      "cell_type": "code",
      "source": [
        ""
      ],
      "metadata": {
        "id": "2yzsHCTWtj_7"
      },
      "execution_count": null,
      "outputs": []
    },
    {
      "cell_type": "code",
      "source": [
        ""
      ],
      "metadata": {
        "id": "dvIhvxoPtzzp"
      },
      "execution_count": null,
      "outputs": []
    }
  ],
  "metadata": {
    "colab": {
      "name": "PreProcesamiento.ipynb",
      "provenance": [],
      "collapsed_sections": []
    },
    "kernelspec": {
      "display_name": "Python 3 (ipykernel)",
      "language": "python",
      "name": "python3"
    },
    "language_info": {
      "codemirror_mode": {
        "name": "ipython",
        "version": 3
      },
      "file_extension": ".py",
      "mimetype": "text/x-python",
      "name": "python",
      "nbconvert_exporter": "python",
      "pygments_lexer": "ipython3",
      "version": "3.9.7"
    }
  },
  "nbformat": 4,
  "nbformat_minor": 0
}