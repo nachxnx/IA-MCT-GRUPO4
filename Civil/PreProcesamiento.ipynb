{
 "cells": [
  {
   "cell_type": "markdown",
   "metadata": {},
   "source": [
    "IMPORTACION DE LIBRERIAS"
   ]
  },
  {
   "cell_type": "code",
   "execution_count": 185,
   "metadata": {
    "id": "_6-vmhdvjq5v"
   },
   "outputs": [],
   "source": [
    "import numpy as np\n",
    "import pandas as pd\n",
    "import matplotlib.pyplot as plt"
   ]
  },
  {
   "cell_type": "code",
   "execution_count": null,
   "metadata": {},
   "outputs": [],
   "source": []
  },
  {
   "cell_type": "markdown",
   "metadata": {},
   "source": [
    "LECTURA DE DATOS"
   ]
  },
  {
   "cell_type": "code",
   "execution_count": 186,
   "metadata": {},
   "outputs": [],
   "source": [
    "Lectura=pd.read_csv(\"datosConcatenadossinCI.csv\")"
   ]
  },
  {
   "cell_type": "code",
   "execution_count": null,
   "metadata": {},
   "outputs": [],
   "source": []
  },
  {
   "cell_type": "markdown",
   "metadata": {},
   "source": [
    "VISUALIZAMOS LOS PRIMEROS DATOS"
   ]
  },
  {
   "cell_type": "code",
   "execution_count": 188,
   "metadata": {},
   "outputs": [
    {
     "data": {
      "text/html": [
       "<div>\n",
       "<style scoped>\n",
       "    .dataframe tbody tr th:only-of-type {\n",
       "        vertical-align: middle;\n",
       "    }\n",
       "\n",
       "    .dataframe tbody tr th {\n",
       "        vertical-align: top;\n",
       "    }\n",
       "\n",
       "    .dataframe thead th {\n",
       "        text-align: right;\n",
       "    }\n",
       "</style>\n",
       "<table border=\"1\" class=\"dataframe\">\n",
       "  <thead>\n",
       "    <tr style=\"text-align: right;\">\n",
       "      <th></th>\n",
       "      <th>Unnamed: 0</th>\n",
       "      <th>danho</th>\n",
       "      <th>ciclo</th>\n",
       "      <th>Cod.Asign</th>\n",
       "      <th>Asignatura</th>\n",
       "      <th>Cod.Car.Sec</th>\n",
       "      <th>Cod.Curso</th>\n",
       "      <th>Convocatoria</th>\n",
       "      <th>Anho</th>\n",
       "      <th>Semestre</th>\n",
       "      <th>...</th>\n",
       "      <th>Segundo.Par</th>\n",
       "      <th>AOT</th>\n",
       "      <th>Primer.Rec</th>\n",
       "      <th>Segundo.Rec</th>\n",
       "      <th>Nota.Final</th>\n",
       "      <th>Tercer.Par</th>\n",
       "      <th>Asis</th>\n",
       "      <th>Cuarto.Par</th>\n",
       "      <th>4P_60</th>\n",
       "      <th>id_anony</th>\n",
       "    </tr>\n",
       "  </thead>\n",
       "  <tbody>\n",
       "    <tr>\n",
       "      <th>0</th>\n",
       "      <td>0</td>\n",
       "      <td>2012</td>\n",
       "      <td>1</td>\n",
       "      <td>2402</td>\n",
       "      <td>COMBUSTION</td>\n",
       "      <td>INT9MECANI</td>\n",
       "      <td>13</td>\n",
       "      <td>1</td>\n",
       "      <td>2012</td>\n",
       "      <td>1</td>\n",
       "      <td>...</td>\n",
       "      <td>0</td>\n",
       "      <td>0</td>\n",
       "      <td>0</td>\n",
       "      <td>0</td>\n",
       "      <td>NaN</td>\n",
       "      <td>0.0</td>\n",
       "      <td>1.0</td>\n",
       "      <td>NaN</td>\n",
       "      <td>NaN</td>\n",
       "      <td>es_0</td>\n",
       "    </tr>\n",
       "    <tr>\n",
       "      <th>1</th>\n",
       "      <td>1</td>\n",
       "      <td>2012</td>\n",
       "      <td>1</td>\n",
       "      <td>2402</td>\n",
       "      <td>COMBUSTION</td>\n",
       "      <td>MEC9-OPT</td>\n",
       "      <td>13</td>\n",
       "      <td>1</td>\n",
       "      <td>2012</td>\n",
       "      <td>1</td>\n",
       "      <td>...</td>\n",
       "      <td>14</td>\n",
       "      <td>8</td>\n",
       "      <td>0</td>\n",
       "      <td>0</td>\n",
       "      <td>1F-5</td>\n",
       "      <td>0.0</td>\n",
       "      <td>1.0</td>\n",
       "      <td>NaN</td>\n",
       "      <td>NaN</td>\n",
       "      <td>es_1</td>\n",
       "    </tr>\n",
       "    <tr>\n",
       "      <th>2</th>\n",
       "      <td>2</td>\n",
       "      <td>2012</td>\n",
       "      <td>1</td>\n",
       "      <td>2402</td>\n",
       "      <td>COMBUSTION</td>\n",
       "      <td>INT9MECANI</td>\n",
       "      <td>13</td>\n",
       "      <td>1</td>\n",
       "      <td>2012</td>\n",
       "      <td>1</td>\n",
       "      <td>...</td>\n",
       "      <td>23</td>\n",
       "      <td>9</td>\n",
       "      <td>0</td>\n",
       "      <td>0</td>\n",
       "      <td>1F-5</td>\n",
       "      <td>0.0</td>\n",
       "      <td>1.0</td>\n",
       "      <td>NaN</td>\n",
       "      <td>NaN</td>\n",
       "      <td>es_2</td>\n",
       "    </tr>\n",
       "    <tr>\n",
       "      <th>3</th>\n",
       "      <td>3</td>\n",
       "      <td>2012</td>\n",
       "      <td>1</td>\n",
       "      <td>2402</td>\n",
       "      <td>COMBUSTION</td>\n",
       "      <td>MEC9-OPT</td>\n",
       "      <td>13</td>\n",
       "      <td>1</td>\n",
       "      <td>2012</td>\n",
       "      <td>1</td>\n",
       "      <td>...</td>\n",
       "      <td>14</td>\n",
       "      <td>8</td>\n",
       "      <td>0</td>\n",
       "      <td>0</td>\n",
       "      <td>1F-1,2F-2</td>\n",
       "      <td>0.0</td>\n",
       "      <td>1.0</td>\n",
       "      <td>NaN</td>\n",
       "      <td>NaN</td>\n",
       "      <td>es_3</td>\n",
       "    </tr>\n",
       "    <tr>\n",
       "      <th>4</th>\n",
       "      <td>4</td>\n",
       "      <td>2012</td>\n",
       "      <td>1</td>\n",
       "      <td>2402</td>\n",
       "      <td>COMBUSTION</td>\n",
       "      <td>MEC9-OPT</td>\n",
       "      <td>13</td>\n",
       "      <td>1</td>\n",
       "      <td>2012</td>\n",
       "      <td>1</td>\n",
       "      <td>...</td>\n",
       "      <td>4</td>\n",
       "      <td>8</td>\n",
       "      <td>0</td>\n",
       "      <td>0</td>\n",
       "      <td>NaN</td>\n",
       "      <td>0.0</td>\n",
       "      <td>1.0</td>\n",
       "      <td>NaN</td>\n",
       "      <td>NaN</td>\n",
       "      <td>es_4</td>\n",
       "    </tr>\n",
       "  </tbody>\n",
       "</table>\n",
       "<p>5 rows × 23 columns</p>\n",
       "</div>"
      ],
      "text/plain": [
       "   Unnamed: 0  danho  ciclo  Cod.Asign  Asignatura Cod.Car.Sec  Cod.Curso  \\\n",
       "0           0   2012      1       2402  COMBUSTION  INT9MECANI         13   \n",
       "1           1   2012      1       2402  COMBUSTION  MEC9-OPT           13   \n",
       "2           2   2012      1       2402  COMBUSTION  INT9MECANI         13   \n",
       "3           3   2012      1       2402  COMBUSTION  MEC9-OPT           13   \n",
       "4           4   2012      1       2402  COMBUSTION  MEC9-OPT           13   \n",
       "\n",
       "   Convocatoria  Anho  Semestre  ... Segundo.Par  AOT  Primer.Rec  \\\n",
       "0             1  2012         1  ...           0    0           0   \n",
       "1             1  2012         1  ...          14    8           0   \n",
       "2             1  2012         1  ...          23    9           0   \n",
       "3             1  2012         1  ...          14    8           0   \n",
       "4             1  2012         1  ...           4    8           0   \n",
       "\n",
       "   Segundo.Rec  Nota.Final  Tercer.Par  Asis Cuarto.Par  4P_60  id_anony  \n",
       "0            0         NaN         0.0   1.0        NaN    NaN      es_0  \n",
       "1            0        1F-5         0.0   1.0        NaN    NaN      es_1  \n",
       "2            0        1F-5         0.0   1.0        NaN    NaN      es_2  \n",
       "3            0   1F-1,2F-2         0.0   1.0        NaN    NaN      es_3  \n",
       "4            0         NaN         0.0   1.0        NaN    NaN      es_4  \n",
       "\n",
       "[5 rows x 23 columns]"
      ]
     },
     "execution_count": 188,
     "metadata": {},
     "output_type": "execute_result"
    }
   ],
   "source": [
    "Lectura.head()"
   ]
  },
  {
   "cell_type": "code",
   "execution_count": 159,
   "metadata": {},
   "outputs": [],
   "source": [
    "#Visualizamos que tamaño tienen los datos\n",
    "#print('Tamaño de los datos: ',Lectura.shape)"
   ]
  },
  {
   "cell_type": "code",
   "execution_count": 160,
   "metadata": {},
   "outputs": [],
   "source": [
    "#Hay valores nulos en los datos?\n",
    "#Lectura.info()"
   ]
  },
  {
   "cell_type": "markdown",
   "metadata": {},
   "source": [
    "ANALIZAMOS LOS CODIGO DE CARRERAS"
   ]
  },
  {
   "cell_type": "code",
   "execution_count": 189,
   "metadata": {},
   "outputs": [
    {
     "data": {
      "text/plain": [
       "array(['CGF-175-09', 'CGF-PLS09 ', 'CGF-PLS13 ', 'CIV-175-09',\n",
       "       'CIV-PLS09 ', 'CIV-PLS13 ', 'ECA-175-09', 'ECA-PLS09 ',\n",
       "       'ECA-PLS13 ', 'ECA9-OPT  ', 'ELE-175-09', 'ELE-PLS09 ',\n",
       "       'ELE-PLS13 ', 'IND-175-09', 'IND-PLS09 ', 'IND-PLS13 ',\n",
       "       'INT9-PROYT', 'INT9CONSTR', 'INT9ELECTR', 'INT9G-ECO ',\n",
       "       'INT9MECANI', 'INT9ORTERR', 'INT9RNYMA ', 'INT9SANEHI',\n",
       "       'INT9SDIGYT', 'INT9TRANSP', 'MCT-175-09', 'MCT-PLS09 ',\n",
       "       'MCT-PLS13 ', 'MCT9-OPT  ', 'MEC-175-09', 'MEC-PLS09 ',\n",
       "       'MEC-PLS13 ', 'MEC9-OPT  ', 'TIVAS     '], dtype=object)"
      ]
     },
     "execution_count": 189,
     "metadata": {},
     "output_type": "execute_result"
    }
   ],
   "source": [
    "np.unique(Lectura[\"Cod.Car.Sec\"])"
   ]
  },
  {
   "cell_type": "code",
   "execution_count": null,
   "metadata": {},
   "outputs": [],
   "source": []
  },
  {
   "cell_type": "code",
   "execution_count": null,
   "metadata": {},
   "outputs": [],
   "source": []
  },
  {
   "cell_type": "markdown",
   "metadata": {},
   "source": [
    "SEPARAMOS LOS DATOS PARA SER ANALIZDOS:\n",
    "En este caso seleccione  los de la carrera de ING. CIVIL"
   ]
  },
  {
   "cell_type": "code",
   "execution_count": 193,
   "metadata": {},
   "outputs": [
    {
     "name": "stdout",
     "output_type": "stream",
     "text": [
      "CIV-175-09\n",
      "CIV-PLS09 \n",
      "CIV-PLS13 \n"
     ]
    }
   ],
   "source": [
    "civil=pd.DataFrame(columns=Lectura.columns)\n",
    "for car in ['CIV-175-09','CIV-PLS09 ', 'CIV-PLS13 ']:\n",
    "    print(car)\n",
    "    civil=pd.concat([civil, Lectura[Lectura[\"Cod.Car.Sec\"]==car]], axis=0)"
   ]
  },
  {
   "cell_type": "code",
   "execution_count": null,
   "metadata": {},
   "outputs": [],
   "source": []
  },
  {
   "cell_type": "code",
   "execution_count": null,
   "metadata": {},
   "outputs": [],
   "source": []
  },
  {
   "cell_type": "markdown",
   "metadata": {},
   "source": [
    "MATERIAS DEL PRIMER SEMESTRE"
   ]
  },
  {
   "cell_type": "code",
   "execution_count": 194,
   "metadata": {},
   "outputs": [
    {
     "data": {
      "text/plain": [
       "array(['ALGEBRA LINEAL 1', 'CALCULO 1', 'DIBUJO TECNICO', 'FISICA 1',\n",
       "       'GEOMETRIA ANALITICA', 'GEOMETRIA DESCRIPTIVA'], dtype=object)"
      ]
     },
     "execution_count": 194,
     "metadata": {},
     "output_type": "execute_result"
    }
   ],
   "source": [
    "primerS=civil[ (civil[\"Cod.Curso\"]==1) & (civil[\"Aprobado\"]==\"S\")]\n",
    "CprimerS=np.unique(primerS[\"Asignatura\"])\n",
    "cprimerS\n"
   ]
  },
  {
   "cell_type": "code",
   "execution_count": null,
   "metadata": {},
   "outputs": [],
   "source": []
  },
  {
   "cell_type": "code",
   "execution_count": null,
   "metadata": {},
   "outputs": [],
   "source": []
  },
  {
   "cell_type": "markdown",
   "metadata": {},
   "source": [
    "FILTRO LOS ID QUE CURSARON TODAS MATERIAS DEL CUARTO SEMESTRE"
   ]
  },
  {
   "cell_type": "code",
   "execution_count": 202,
   "metadata": {},
   "outputs": [
    {
     "name": "stdout",
     "output_type": "stream",
     "text": [
      "CALCULO 4\n",
      "DINAMICA\n",
      "ESTRUCTURAS 1\n",
      "FISICA 4\n",
      "MECANICA DE MATERIALES 1\n",
      "Cantidad de elementos (8848, 23)\n"
     ]
    }
   ],
   "source": [
    "newdata=pd.DataFrame(columns=civil.columns)\n",
    "for mat in ['CALCULO 4', 'DINAMICA', 'ESTRUCTURAS 1', 'FISICA 4',\n",
    "       'MECANICA DE MATERIALES 1']:\n",
    "    newdata=pd.concat([newdata, civil[civil[\"Asignatura\"]==mat]], axis=0)\n",
    "    print(mat)\n",
    "print('Cantidad de elementos',newdata.shape)"
   ]
  },
  {
   "cell_type": "code",
   "execution_count": null,
   "metadata": {},
   "outputs": [],
   "source": []
  },
  {
   "cell_type": "markdown",
   "metadata": {},
   "source": [
    "SEGUIDAMENTE FILTRO SOLO LOS QUE TIENEN APROBADO ESAS MATERIAS"
   ]
  },
  {
   "cell_type": "code",
   "execution_count": 203,
   "metadata": {},
   "outputs": [
    {
     "name": "stdout",
     "output_type": "stream",
     "text": [
      "Cantidad de elementos (4054, 23)\n"
     ]
    }
   ],
   "source": [
    "sd=newdata[newdata[\"Aprobado\"]==\"S\"]\n",
    "print('Cantidad de elementos',sd.shape)"
   ]
  },
  {
   "cell_type": "code",
   "execution_count": 39,
   "metadata": {},
   "outputs": [
    {
     "data": {
      "text/plain": [
       "5"
      ]
     },
     "execution_count": 39,
     "metadata": {},
     "output_type": "execute_result"
    }
   ],
   "source": [
    "estudiantes=np.unique(sd['id_anony'])\n",
    "materias=np.unique(sd['Asignatura'])\n",
    "len(estudiantes)\n",
    "len(materias)\n"
   ]
  },
  {
   "cell_type": "code",
   "execution_count": null,
   "metadata": {},
   "outputs": [],
   "source": []
  },
  {
   "cell_type": "code",
   "execution_count": 150,
   "metadata": {},
   "outputs": [],
   "source": [
    "Alumnos=[]\n",
    "Duracion=[]"
   ]
  },
  {
   "cell_type": "code",
   "execution_count": 163,
   "metadata": {},
   "outputs": [],
   "source": [
    "\n",
    "for ides in estudiantes:\n",
    "    registro=civil[civil.id_anony.values==ides]\n",
    "    regis=civil[civil.id_anony.values==ides]\n",
    "    regi=np.sum((regis[\"Cod.Curso\"].values==1))\n",
    "    a=np.sum((registro[\"Asignatura\"].values==\"CALCULO 4\"))\n",
    "    a=a+np.sum((registro[\"Asignatura\"].values==\"DINAMICA\"))\n",
    "    a=a+np.sum((registro[\"Asignatura\"].values==\"ESTRUCTURAS 1\"))\n",
    "    a=a+np.sum((registro[\"Asignatura\"].values==\"FISICA 4\"))\n",
    "    a=a+np.sum((registro[\"Asignatura\"].values==\"MECANICA DE MATERIALES 1\"))\n",
    "   \n",
    "    if (a==5)&regi>0:\n",
    "        ides\n",
    "        AnhoIn=min(civil[\"danho\"])\n",
    "        AnhoFin=max(registro[\"danho\"])\n",
    "        Tiempo=AnhoFin-AnhoIn\n",
    "        Alumnos.append(ides)\n",
    "        Duracion.append(Tiempo)\n",
    "        #print(ides,Tiempo)"
   ]
  },
  {
   "cell_type": "code",
   "execution_count": 183,
   "metadata": {},
   "outputs": [
    {
     "data": {
      "text/plain": [
       "(135, 2)"
      ]
     },
     "execution_count": 183,
     "metadata": {},
     "output_type": "execute_result"
    }
   ],
   "source": [
    "Datos=pd.DataFrame({'Alumnos':Alumnos,'Duracion':Duracion})\n",
    "Datos.shape"
   ]
  },
  {
   "cell_type": "code",
   "execution_count": 311,
   "metadata": {},
   "outputs": [
    {
     "data": {
      "text/plain": [
       "6"
      ]
     },
     "execution_count": 311,
     "metadata": {},
     "output_type": "execute_result"
    }
   ],
   "source": [
    "primerS=civil[ (civil[\"Cod.Curso\"]==1) & (civil[\"Aprobado\"]==\"S\")]\n",
    "cprimerS=np.unique(primerS[\"Asignatura\"])\n",
    "len(cprimerS)"
   ]
  },
  {
   "cell_type": "code",
   "execution_count": 312,
   "metadata": {},
   "outputs": [
    {
     "data": {
      "text/plain": [
       "5"
      ]
     },
     "execution_count": 312,
     "metadata": {},
     "output_type": "execute_result"
    }
   ],
   "source": [
    "cuartS=civil[ (civil[\"Cod.Curso\"]==4) & (civil[\"Aprobado\"]==\"S\")]\n",
    "ccuartS=np.unique(cuartS[\"Asignatura\"])\n",
    "len(ccuartS)"
   ]
  },
  {
   "cell_type": "code",
   "execution_count": 313,
   "metadata": {},
   "outputs": [
    {
     "data": {
      "text/plain": [
       "array(['CALCULO 4', 'DINAMICA', 'ESTRUCTURAS 1', 'FISICA 4',\n",
       "       'MECANICA DE MATERIALES 1'], dtype=object)"
      ]
     },
     "execution_count": 313,
     "metadata": {},
     "output_type": "execute_result"
    }
   ],
   "source": [
    "newcivil=civil[((civil[\"Cod.Curso\"]>3)&(civil[\"Cod.Curso\"]<5)) & (civil[\"Aprobado\"]==\"S\")]\n",
    "a=np.unique(newcivil[\"Asignatura\"])\n",
    "a\n",
    "#civil=civil[(np.sum(civil[\"Asignatura\"]))]\n",
    "#estudiantes=np.unique(civil[\"id_anony\"])\n",
    "#estudiantes.shape"
   ]
  },
  {
   "cell_type": "code",
   "execution_count": null,
   "metadata": {},
   "outputs": [],
   "source": [
    "#'es_4104'\n",
    "#primerS.loc[['es_4134']]"
   ]
  }
 ],
 "metadata": {
  "colab": {
   "name": "Untitled2.ipynb",
   "provenance": []
  },
  "kernelspec": {
   "display_name": "Python 3 (ipykernel)",
   "language": "python",
   "name": "python3"
  },
  "language_info": {
   "codemirror_mode": {
    "name": "ipython",
    "version": 3
   },
   "file_extension": ".py",
   "mimetype": "text/x-python",
   "name": "python",
   "nbconvert_exporter": "python",
   "pygments_lexer": "ipython3",
   "version": "3.9.7"
  }
 },
 "nbformat": 4,
 "nbformat_minor": 4
}
