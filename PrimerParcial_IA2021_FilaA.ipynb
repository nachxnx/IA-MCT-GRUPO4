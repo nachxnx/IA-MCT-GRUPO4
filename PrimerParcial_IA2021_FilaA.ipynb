{
 "cells": [
  {
   "cell_type": "markdown",
   "metadata": {
    "id": "Rz6ODflA987g"
   },
   "source": [
    "**PRIMER PARCIAL**\n",
    "\n",
    "\n",
    "\n",
    "\n",
    "\n",
    "\n",
    "\n"
   ]
  },
  {
   "cell_type": "code",
   "execution_count": 1,
   "metadata": {
    "id": "Z2xziFRT98iz"
   },
   "outputs": [],
   "source": [
    "fecha = \"18/03/2021\"\n",
    "nombre_apellido = \"\" # Debe ser un String\n",
    "CI = \"\" # Debe ser un String\n",
    "\n",
    "# OBS:\n",
    "#       MODIFICAR SOLO LO QUE TENGA 'None'"
   ]
  },
  {
   "cell_type": "code",
   "execution_count": 2,
   "metadata": {
    "id": "-uIWojN_8C9a"
   },
   "outputs": [
    {
     "ename": "SyntaxError",
     "evalue": "invalid syntax (<ipython-input-2-ec3c9535a748>, line 4)",
     "output_type": "error",
     "traceback": [
      "\u001b[1;36m  File \u001b[1;32m\"<ipython-input-2-ec3c9535a748>\"\u001b[1;36m, line \u001b[1;32m4\u001b[0m\n\u001b[1;33m    import None\u001b[0m\n\u001b[1;37m           ^\u001b[0m\n\u001b[1;31mSyntaxError\u001b[0m\u001b[1;31m:\u001b[0m invalid syntax\n"
     ]
    }
   ],
   "source": [
    "# Actividad 1- Importar las librerías numpy( como np ), pandas( como pd ), matplotlib( como plt ) \n",
    "\n",
    "## MODIFICAR AQUI\n",
    "import None\n",
    "## ============="
   ]
  },
  {
   "cell_type": "code",
   "execution_count": null,
   "metadata": {
    "id": "w-99LamtAYbD"
   },
   "outputs": [],
   "source": [
    "# Actividad 2- Importar el dataset 'datosfintrados.xls' \n",
    "\n",
    "## MODIFICAR AQUI\n",
    "datos = None\n",
    "## ============="
   ]
  },
  {
   "cell_type": "code",
   "execution_count": 3,
   "metadata": {
    "id": "8H6HYH6BphCw"
   },
   "outputs": [
    {
     "ename": "NameError",
     "evalue": "name 'datos' is not defined",
     "output_type": "error",
     "traceback": [
      "\u001b[1;31m---------------------------------------------------------------------------\u001b[0m",
      "\u001b[1;31mNameError\u001b[0m                                 Traceback (most recent call last)",
      "\u001b[1;32m<ipython-input-3-eca7225291a1>\u001b[0m in \u001b[0;36m<module>\u001b[1;34m\u001b[0m\n\u001b[0;32m      1\u001b[0m \u001b[1;31m# NO MODIFICAR\u001b[0m\u001b[1;33m\u001b[0m\u001b[1;33m\u001b[0m\u001b[1;33m\u001b[0m\u001b[0m\n\u001b[1;32m----> 2\u001b[1;33m \u001b[0mgrouped\u001b[0m \u001b[1;33m=\u001b[0m \u001b[0mdatos\u001b[0m\u001b[1;33m.\u001b[0m\u001b[0mgroupby\u001b[0m\u001b[1;33m(\u001b[0m\u001b[0mdatos\u001b[0m\u001b[1;33m.\u001b[0m\u001b[0mAsignatura\u001b[0m\u001b[1;33m)\u001b[0m\u001b[1;33m\u001b[0m\u001b[1;33m\u001b[0m\u001b[0m\n\u001b[0m\u001b[0;32m      3\u001b[0m \u001b[0mdatos_new\u001b[0m \u001b[1;33m=\u001b[0m \u001b[0mgrouped\u001b[0m\u001b[1;33m.\u001b[0m\u001b[0mget_group\u001b[0m\u001b[1;33m(\u001b[0m\u001b[1;34m\"CALCULO 2\"\u001b[0m\u001b[1;33m)\u001b[0m\u001b[1;33m\u001b[0m\u001b[1;33m\u001b[0m\u001b[0m\n\u001b[0;32m      4\u001b[0m \u001b[0mdata\u001b[0m \u001b[1;33m=\u001b[0m \u001b[0mdatos_new\u001b[0m\u001b[1;33m[\u001b[0m\u001b[1;33m[\u001b[0m\u001b[1;34m'Primer.Par'\u001b[0m\u001b[1;33m,\u001b[0m\u001b[1;34m'Segundo.Par'\u001b[0m\u001b[1;33m]\u001b[0m\u001b[1;33m]\u001b[0m\u001b[1;33m.\u001b[0m\u001b[0mvalues\u001b[0m\u001b[1;33m\u001b[0m\u001b[1;33m\u001b[0m\u001b[0m\n\u001b[0;32m      5\u001b[0m \u001b[0mlabels\u001b[0m \u001b[1;33m=\u001b[0m \u001b[0mdatos_new\u001b[0m\u001b[1;33m[\u001b[0m\u001b[1;34m'Aprobado'\u001b[0m\u001b[1;33m]\u001b[0m\u001b[1;33m.\u001b[0m\u001b[0mvalues\u001b[0m\u001b[1;33m\u001b[0m\u001b[1;33m\u001b[0m\u001b[0m\n",
      "\u001b[1;31mNameError\u001b[0m: name 'datos' is not defined"
     ]
    }
   ],
   "source": [
    "# NO MODIFICAR\n",
    "grouped = datos.groupby(datos.Asignatura) \n",
    "datos_new = grouped.get_group(\"CALCULO 2\") \n",
    "data = datos_new[['Primer.Par','Segundo.Par']].values\n",
    "labels = datos_new['Aprobado'].values\n",
    "labels = np.array([1.0 if i=='S' else 0.0 for i in labels])"
   ]
  },
  {
   "cell_type": "code",
   "execution_count": null,
   "metadata": {
    "id": "nBTYT_-a-y1k"
   },
   "outputs": [],
   "source": [
    "# Actividad 3- Imprimir la dimensión de los datos y las etiquetas\n",
    "\n",
    "## MODIFICAR AQUI\n",
    "data_shape = None\n",
    "label_shape = None\n",
    "## =============\n",
    "\n",
    "print(\"Dimensión de los datos = \",data_shape)\n",
    "print(\"Dimensión de las etiquetas = \",label_shape)"
   ]
  },
  {
   "cell_type": "code",
   "execution_count": null,
   "metadata": {
    "colab": {
     "base_uri": "https://localhost:8080/"
    },
    "id": "MOrxNg4ceVkI",
    "outputId": "cb8324ac-fbf7-4d0e-ef99-82a5319df1af"
   },
   "outputs": [
    {
     "name": "stdout",
     "output_type": "stream",
     "text": [
      "Dimensión de los datos entrenamiento =  (1428, 2)\n",
      "Dimensión de las etiquetas entrenamiento =  (159, 2)\n",
      "Dimensión de los datos prueba =  (1428,)\n",
      "Dimensión de las etiquetas prueba =  (159,)\n"
     ]
    }
   ],
   "source": [
    "# Actividad 4- Separar los datos en conjunto de entrenamiento y de prueba con el \"train_test_split\"\n",
    "#              usar el test_size = 0.1 \n",
    "from sklearn.model_selection import train_test_split\n",
    "\n",
    "## MODIFICAR AQUI\n",
    "data_train, data_test, labels_train, labels_test = None\n",
    "## =============\n",
    "\n",
    "print(\"Dimensión de los datos entrenamiento = \",data_train.shape)\n",
    "print(\"Dimensión de las etiquetas entrenamiento = \",data_test.shape)\n",
    "print(\"Dimensión de los datos prueba = \",labels_train.shape)\n",
    "print(\"Dimensión de las etiquetas prueba = \",labels_test.shape)"
   ]
  },
  {
   "cell_type": "code",
   "execution_count": null,
   "metadata": {
    "id": "DRZiuHule0k4"
   },
   "outputs": [],
   "source": [
    "import keras\n",
    "import keras.backend as K\n",
    "from keras.models import Sequential\n",
    "from keras.layers import Dense\n",
    "\n",
    "# Actividad 5- Crear el modelo de una Red Neuronal Densa:\n",
    "#                 * Usar la clase Sequential\n",
    "#                 * 1 Capa de entrada de 7 neuronas, con función de activación lineal 'linear' e incluir la dimensión de entrada - input_shape                 \n",
    "#                 * 2 Capas ocultas de 5 neuronas cada una y con función de activación tangente hiperbólico 'tanh'\n",
    "#                 * 1 Capa Oculta de 10 neuronas y con función de activación sigmoide 'sigmoid'\n",
    "\n",
    "## MODIFICAR AQUI\n",
    "model = None\n",
    "model.add(None)\n",
    "model.add(None)\n",
    "model.add(None)\n",
    "model.add(None)\n",
    "## ============="
   ]
  },
  {
   "cell_type": "code",
   "execution_count": null,
   "metadata": {
    "id": "k9EfRMIEe1nT"
   },
   "outputs": [],
   "source": [
    "# Actividad 6- Completar la variable loss_func con la función de pérdida que creas que sea\n",
    "#               Lineal => 'mse'\n",
    "#               Binaria => 'binary_crossentropy'\n",
    "\n",
    "## MODIFICAR AQUI\n",
    "loss_func = 'binary_crossentropy'\n",
    "## =============\n",
    "\n",
    "model.compile(optimizer = 'adam', loss = loss_func, metrics = 'accuracy')\n",
    "model.summary()"
   ]
  },
  {
   "cell_type": "code",
   "execution_count": null,
   "metadata": {
    "id": "o_E7h93pe8Eu"
   },
   "outputs": [],
   "source": [
    "# NO MODIFICAR\n",
    "\n",
    "# Entrenar el modelo \n",
    "history = model.fit(data_train, labels_train, epochs=1000, verbose=1, validation_split=0.1)\n",
    "print(history.history.keys())\n",
    "plt.plot(history.history['loss'])\n",
    "plt.plot(history.history['val_loss'])\n",
    "plt.title('model loss')\n",
    "plt.ylabel('loss')\n",
    "plt.xlabel('epoch')\n",
    "plt.legend(['train', 'validation'], loc='upper right')\n",
    "plt.show()"
   ]
  },
  {
   "cell_type": "code",
   "execution_count": null,
   "metadata": {
    "id": "6m-zMRH_e-BO"
   },
   "outputs": [],
   "source": [
    "# Actividad 7- Evaluar el modelo usando model.predict sobre los datos de prueba (data_test)\n",
    "\n",
    "## MODIFICAR AQUI\n",
    "predictions = model.predict(data_test)\n",
    "## =============\n",
    "\n",
    "print(model.evaluate(data_test, labels_test))\n",
    "print(model.metrics_names)"
   ]
  },
  {
   "cell_type": "code",
   "execution_count": null,
   "metadata": {
    "id": "E1u5cBqKfAJK"
   },
   "outputs": [],
   "source": [
    "# NO MODIFICAR\n",
    "\n",
    "from sklearn.metrics import confusion_matrix, classification_report  \n",
    "\n",
    "predict_label = predictions.round()\n",
    "\n",
    "print('Cantidad de predicciones = {} \\n'.format(predict_label.shape))\n",
    "\n",
    "cf_matrix = confusion_matrix(predict_label, labels_test)\n",
    "print(cf_matrix)\n",
    "\n",
    "import seaborn as sns\n",
    "sns.heatmap(cf_matrix/np.sum(cf_matrix), annot=True, \n",
    "            fmt='.2%', cmap='Blues')"
   ]
  },
  {
   "cell_type": "code",
   "execution_count": null,
   "metadata": {
    "id": "NkYgg9hE82CV"
   },
   "outputs": [],
   "source": [
    "## ============="
   ]
  },
  {
   "cell_type": "code",
   "execution_count": null,
   "metadata": {
    "id": "fUTeAaJH82NC"
   },
   "outputs": [],
   "source": [
    "## ============="
   ]
  },
  {
   "cell_type": "code",
   "execution_count": null,
   "metadata": {
    "id": "WGjrnBCU82Yf"
   },
   "outputs": [],
   "source": [
    "## ============="
   ]
  },
  {
   "cell_type": "code",
   "execution_count": null,
   "metadata": {
    "id": "ZDqJRL9oAjVA"
   },
   "outputs": [],
   "source": [
    "# NO MODIFICAR ESTE CÓDIGO\n",
    "\n",
    "# Código de evaluación - Deberá copiar el texto generado en este campo y pegar en la evaluacion del aula virtual\n",
    "\n",
    "print(\"Fecha = \\'{}\\'\".format(fecha),end =\";\")\n",
    "print(\"nombre_apellido = \\'{}\\'\".format(nombre_apellido),end =\";\")\n",
    "print(\"CI = \\'{}\\'\".format(CI), end =\";\")\n",
    "# Tema 1\n",
    "print( 'Tema1 = {0:b}'.format(('np' in vars() or 'np' in globals())<<2|('pd' in vars() or 'pd' in globals())<<1|('plt' in vars() or 'plt' in globals())<<0), end =\";\")\n",
    "# Tema 2\n",
    "print( 'Tema2 = \\'{}{}\\''.format(int('datos' in vars() or 'datos' in globals()), datos['id_anony'].iloc[0]), end =\";\")\n",
    "# Tema 3\n",
    "print( 'Tema3 = {}{}{}'.format(data_shape[0],data_shape[1],label_shape[0]), end =\";\")\n",
    "# Tema 4\n",
    "print( 'Tema4 = {}{}'.format(data_train.size, labels_test.size), end =\";\")\n",
    "# Tema 5\n",
    "print( 'Tema5 = {}'.format(model.count_params()), end =\";\")\n",
    "# Tema 6\n",
    "print( 'Tema6 = \\'{}\\''.format(loss_func), end =\";\")\n",
    "# Tema 6\n",
    "print( 'Tema6 = {}'.format(predictions.size), end =\";\")"
   ]
  }
 ],
 "metadata": {
  "colab": {
   "collapsed_sections": [],
   "name": "PrimerParcial_IA2021.ipynb",
   "provenance": []
  },
  "kernelspec": {
   "display_name": "Python 3",
   "language": "python",
   "name": "python3"
  },
  "language_info": {
   "codemirror_mode": {
    "name": "ipython",
    "version": 3
   },
   "file_extension": ".py",
   "mimetype": "text/x-python",
   "name": "python",
   "nbconvert_exporter": "python",
   "pygments_lexer": "ipython3",
   "version": "3.8.8"
  }
 },
 "nbformat": 4,
 "nbformat_minor": 4
}
